{
 "cells": [
  {
   "cell_type": "markdown",
   "metadata": {
    "collapsed": true
   },
   "source": [
    "# Memory usage of clipping ops"
   ]
  },
  {
   "cell_type": "markdown",
   "metadata": {},
   "source": [
    "## Install memory profiler"
   ]
  },
  {
   "cell_type": "code",
   "execution_count": 1,
   "metadata": {
    "collapsed": true
   },
   "outputs": [],
   "source": [
    "import urllib.request\n",
    "response = urllib.request.urlopen(\"https://raw.githubusercontent.com/yaroslavvb/memory_util/master/memory_util.py\")\n",
    "open(\"memory_util.py\", \"wb\").write(response.read())\n",
    "\n",
    "import memory_util\n",
    "memory_util.vlog(1)\n",
    "import tensorflow as tf"
   ]
  },
  {
   "cell_type": "markdown",
   "metadata": {},
   "source": [
    "## Sanity check"
   ]
  },
  {
   "cell_type": "code",
   "execution_count": 41,
   "metadata": {
    "collapsed": false
   },
   "outputs": [
    {
     "name": "stdout",
     "output_type": "stream",
     "text": [
      "        7                            a(1555-gpu_bfc)     1000192     1000192 gpu_bfc\n",
      "        9                            b(1556-gpu_bfc)     1000192     2000384 gpu_bfc\n",
      "       11                            c(1557-gpu_bfc)     1000192     3000576 gpu_bfc\n",
      "       13                            a(1555-gpu_bfc)    -1000192     2000384 gpu_bfc\n",
      "       14                            b(1556-gpu_bfc)    -1000192     1000192 gpu_bfc\n",
      "       15                            c(1557-gpu_bfc)    -1000192           0 gpu_bfc\n"
     ]
    }
   ],
   "source": [
    "from tensorflow.python.ops import gen_random_ops\n",
    "tf.reset_default_graph()\n",
    "sess = tf.Session()\n",
    "a = gen_random_ops._random_uniform((250*1000,), dtype, name=\"a\")\n",
    "b = gen_random_ops._random_uniform((250*1000,), dtype, name=\"b\")\n",
    "c = tf.add(a, b, name=\"c\")\n",
    "with memory_util.capture_stderr() as stderr:\n",
    "    sess.run(c.op)\n",
    "memory_util.print_memory_timeline(stderr, ignore_less_than_bytes=1000)"
   ]
  },
  {
   "cell_type": "code",
   "execution_count": 42,
   "metadata": {
    "collapsed": false
   },
   "outputs": [
    {
     "data": {
      "image/png": "[encoded data removed]",
      "text/plain": [
       "<matplotlib.figure.Figure at 0x7f76517c4550>"
      ]
     },
     "metadata": {},
     "output_type": "display_data"
    }
   ],
   "source": [
    "memory_util.plot_memory_timeline(stderr, ignore_less_than_bytes=1000)"
   ]
  },
  {
   "cell_type": "markdown",
   "metadata": {},
   "source": [
    "## More complex example"
   ]
  },
  {
   "cell_type": "code",
   "execution_count": 40,
   "metadata": {
    "collapsed": false
   },
   "outputs": [
    {
     "data": {
      "image/png": "[encoded data removed]",
      "text/plain": [
       "<matplotlib.figure.Figure at 0x7f78518b8e48>"
      ]
     },
     "metadata": {},
     "output_type": "display_data"
    }
   ],
   "source": [
    "tf.reset_default_graph()\n",
    "n = 250*1000*1000\n",
    "dtype = tf.float32\n",
    "lower = gen_random_ops._random_uniform((n,), dtype, name=\"l\")\n",
    "upper = gen_random_ops._random_uniform((n,), dtype, name=\"u\")\n",
    "x = gen_random_ops._random_uniform((n,), dtype, name=\"x\")\n",
    "sess = tf.Session()\n",
    "y = tf.minimum(upper, tf.maximum(lower, x, name=\"cl\"), name=\"cu\")\n",
    "loss = tf.reduce_sum(y, name=\"loss\")\n",
    "grad = tf.gradients(loss, [x])[0]\n",
    "\n",
    "with memory_util.capture_stderr() as stderr:\n",
    "    sess.run(grad.op)\n",
    "memory_util.plot_memory_timeline(stderr, ignore_less_than_bytes=1000**2)"
   ]
  },
  {
   "cell_type": "markdown",
   "metadata": {},
   "source": [
    "# Profile memory of a single maximum"
   ]
  },
  {
   "cell_type": "code",
   "execution_count": 35,
   "metadata": {
    "collapsed": false
   },
   "outputs": [
    {
     "data": {
      "image/png": "[encoded data removed]",
      "text/plain": [
       "<matplotlib.figure.Figure at 0x7f7a51e713c8>"
      ]
     },
     "metadata": {},
     "output_type": "display_data"
    }
   ],
   "source": [
    "tf.reset_default_graph()\n",
    "n = 250*1000*1000\n",
    "dtype = tf.float32\n",
    "upper = gen_random_ops._random_uniform((n,), dtype, name=\"u\")\n",
    "x = gen_random_ops._random_uniform((n,), dtype, name=\"x\")\n",
    "sess = tf.Session()\n",
    "y = tf.minimum(upper, x, name=\"cu\")\n",
    "loss = tf.reduce_sum(y, name=\"loss\")\n",
    "grad = tf.gradients(loss, [x])[0]\n",
    "\n",
    "with memory_util.capture_stderr() as stderr:\n",
    "    sess.run(grad.op)\n",
    "memory_util.plot_memory_timeline(stderr, ignore_less_than_bytes=1000**2)"
   ]
  },
  {
   "cell_type": "markdown",
   "metadata": {},
   "source": [
    "# Profile memory of a chain of max"
   ]
  },
  {
   "cell_type": "code",
   "execution_count": 29,
   "metadata": {
    "collapsed": true
   },
   "outputs": [],
   "source": [
    "def memory_req_minimum(chain_length):\n",
    "    \"\"\"Returns memory req to compute chain of min ops\"\"\"\n",
    "    tf.reset_default_graph()\n",
    "    n = 250*1000*1000\n",
    "    dtype = tf.float32\n",
    "    upper = gen_random_ops._random_uniform((n,), dtype, name=\"u\")\n",
    "    x = gen_random_ops._random_uniform((n,), dtype, name=\"x\")\n",
    "    sess = tf.Session()\n",
    "    y = x\n",
    "    for i in range(chain_length):\n",
    "        y = tf.minimum(upper, y, name=\"cu\")\n",
    "    loss = tf.reduce_sum(y, name=\"loss\")\n",
    "    grad = tf.gradients(loss, [x])[0]\n",
    "\n",
    "    with memory_util.capture_stderr() as stderr:\n",
    "        sess.run(grad.op)\n",
    "    return memory_util.peak_memory(stderr)"
   ]
  },
  {
   "cell_type": "code",
   "execution_count": 32,
   "metadata": {
    "collapsed": false
   },
   "outputs": [
    {
     "name": "stdout",
     "output_type": "stream",
     "text": [
      "Chain length      mem req\n",
      "           0   1000001024\n",
      "           1   4000001024\n",
      "           2   4250001408\n",
      "           3   4750001408\n",
      "           4   5750001408\n",
      "           5   6000001536\n",
      "           6   7000000120\n",
      "           7   8000000136\n",
      "           8   9000000152\n",
      "           9  10000000168\n"
     ]
    }
   ],
   "source": [
    "print(\"%12s %12s\" %(\"Chain length\", \"mem req\"))\n",
    "for i in range(10):\n",
    "    print(\"%12d %12d\"%(i, memory_req_minimum(i)))"
   ]
  },
  {
   "cell_type": "markdown",
   "metadata": {},
   "source": [
    "# Profile memory of chain on min/max ops"
   ]
  },
  {
   "cell_type": "code",
   "execution_count": 33,
   "metadata": {
    "collapsed": true
   },
   "outputs": [],
   "source": [
    "def memory_req_minmax(chain_length):\n",
    "    \"\"\"Returns memory req to compute chain of min ops\"\"\"\n",
    "    tf.reset_default_graph()\n",
    "    n = 250*1000*1000\n",
    "    dtype = tf.float32\n",
    "    upper = gen_random_ops._random_uniform((n,), dtype, name=\"u\")\n",
    "    \n",
    "    x = gen_random_ops._random_uniform((n,), dtype, name=\"x\")\n",
    "    sess = tf.Session()\n",
    "    y = x\n",
    "    for i in range(chain_length):\n",
    "        y = tf.minimum(upper, tf.maximum(upper, y, name=\"cl\"), name=\"cu\")\n",
    "    loss = tf.reduce_sum(y, name=\"loss\")\n",
    "    grad = tf.gradients(loss, [x])[0]\n",
    "\n",
    "    with memory_util.capture_stderr() as stderr:\n",
    "        sess.run(grad.op)\n",
    "    return memory_util.peak_memory(stderr)"
   ]
  },
  {
   "cell_type": "code",
   "execution_count": 34,
   "metadata": {
    "collapsed": false
   },
   "outputs": [
    {
     "name": "stdout",
     "output_type": "stream",
     "text": [
      "Chain length      mem req\n",
      "           0   1000001024\n",
      "           1   4250001408\n",
      "           2   5750001408\n",
      "           3   7000000120\n",
      "           4   9000000152\n",
      "           5  11000000184\n",
      "           6  13000000212\n",
      "           7  15000000248\n",
      "           8  17000000280\n",
      "           9  19000000312\n"
     ]
    }
   ],
   "source": [
    "print(\"%12s %12s\" %(\"Chain length\", \"mem req\"))\n",
    "for i in range(10):\n",
    "    print(\"%12d %12d\"%(i, memory_req_minmax(i)))"
   ]
  },
  {
   "cell_type": "markdown",
   "metadata": {},
   "source": [
    "# Clipping using map_fn"
   ]
  },
  {
   "cell_type": "code",
   "execution_count": 66,
   "metadata": {
    "collapsed": false
   },
   "outputs": [
    {
     "data": {
      "image/png": "[encoded data removed]",
      "text/plain": [
       "<matplotlib.figure.Figure at 0x7f7b9462b400>"
      ]
     },
     "metadata": {},
     "output_type": "display_data"
    }
   ],
   "source": [
    "tf.reset_default_graph()\n",
    "n = 100#250*1000*1000\n",
    "dtype = tf.float32\n",
    "lower = gen_random_ops._random_uniform((n,), dtype, name=\"u\")\n",
    "upper = gen_random_ops._random_uniform((n,), dtype, name=\"u\")\n",
    "x = gen_random_ops._random_uniform((n,), dtype, name=\"x\")\n",
    "sess = tf.Session(config = tf.ConfigProto(graph_options=tf.GraphOptions(optimizer_options=tf.OptimizerOptions(opt_level=tf.OptimizerOptions.L0))))\n",
    "\n",
    "y = x\n",
    "#chain_length = 2\n",
    "for i in range(chain_length):\n",
    "    y = tf.map_fn(lambda args: tf.clip_by_value(args[0], args[1], args[2]), (y, lower, upper), dtype=(dtype))\n",
    "    loss = tf.reduce_sum(y, name=\"loss\")\n",
    "    grad = tf.gradients(loss, [x])[0]\n",
    "\n",
    "with memory_util.capture_stderr() as stderr:\n",
    "    sess.run(grad.op)\n",
    "memory_util.plot_memory_timeline(stderr, ignore_less_than_bytes=0)"
   ]
  },
  {
   "cell_type": "code",
   "execution_count": 69,
   "metadata": {
    "collapsed": true
   },
   "outputs": [],
   "source": [
    "def memory_req_mapfn(chain_length):\n",
    "    \"\"\"Returns memory req to compute chain of min ops\"\"\"\n",
    "    tf.reset_default_graph()\n",
    "    n = 250\n",
    "    dtype = tf.float32\n",
    "    upper = gen_random_ops._random_uniform((n,), dtype, name=\"u\")\n",
    "    \n",
    "    x = gen_random_ops._random_uniform((n,), dtype, name=\"x\")\n",
    "    sess = tf.Session()\n",
    "    y = x\n",
    "    for i in range(chain_length):\n",
    "        y = tf.minimum(upper, tf.maximum(upper, y, name=\"cl\"), name=\"cu\")\n",
    "    loss = tf.reduce_sum(y, name=\"loss\")\n",
    "    grad = tf.gradients(loss, [x])[0]\n",
    "\n",
    "    with memory_util.capture_stderr() as stderr:\n",
    "        sess.run(grad.op)\n",
    "    return memory_util.peak_memory(stderr)"
   ]
  },
  {
   "cell_type": "code",
   "execution_count": 70,
   "metadata": {
    "collapsed": false
   },
   "outputs": [
    {
     "name": "stdout",
     "output_type": "stream",
     "text": [
      "Chain length      mem req\n",
      "           0         2048\n",
      "           1         5632\n",
      "           2         6144\n",
      "           3         7120\n",
      "           4         9152\n",
      "           5        11184\n",
      "           6        13216\n",
      "           7        15244\n",
      "           8        17276\n",
      "           9        19308\n"
     ]
    }
   ],
   "source": [
    "print(\"%12s %12s\" %(\"Chain length\", \"mem req\"))\n",
    "for i in range(10):\n",
    "    print(\"%12d %12d\"%(i, memory_req_mapfn(i)))"
   ]
  }
 ],
 "metadata": {
  "kernelspec": {
   "display_name": "Python 3",
   "language": "python",
   "name": "python3"
  },
  "language_info": {
   "codemirror_mode": {
    "name": "ipython",
    "version": 3
   },
   "file_extension": ".py",
   "mimetype": "text/x-python",
   "name": "python",
   "nbconvert_exporter": "python",
   "pygments_lexer": "ipython3",
   "version": "3.5.2"
  },
  "toc": {
   "colors": {
    "hover_highlight": "#DAA520",
    "running_highlight": "#FF0000",
    "selected_highlight": "#FFD700"
   },
   "moveMenuLeft": true,
   "nav_menu": {
    "height": "12px",
    "width": "252px"
   },
   "navigate_menu": true,
   "number_sections": false,
   "sideBar": true,
   "threshold": 4,
   "toc_cell": false,
   "toc_section_display": "block",
   "toc_window_display": false
  }
 },
 "nbformat": 4,
 "nbformat_minor": 2
}
