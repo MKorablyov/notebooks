{
 "cells": [
  {
   "cell_type": "markdown",
   "metadata": {},
   "source": [
    "# Init"
   ]
  },
  {
   "cell_type": "code",
   "execution_count": 1,
   "metadata": {
    "collapsed": false
   },
   "outputs": [
    {
     "name": "stdout",
     "output_type": "stream",
     "text": [
      "Thu Dec 22 13:22:34 2016       \n",
      "+-----------------------------------------------------------------------------+\n",
      "| NVIDIA-SMI 370.23                 Driver Version: 370.23                    |\n",
      "|-------------------------------+----------------------+----------------------+\n",
      "| GPU  Name        Persistence-M| Bus-Id        Disp.A | Volatile Uncorr. ECC |\n",
      "| Fan  Temp  Perf  Pwr:Usage/Cap|         Memory-Usage | GPU-Util  Compute M. |\n",
      "|===============================+======================+======================|\n",
      "|   0  TITAN X (Pascal)    On   | 0000:04:00.0     Off |                  N/A |\n",
      "| 23%   29C    P8    24W / 250W |  11707MiB / 12189MiB |      0%      Default |\n",
      "+-------------------------------+----------------------+----------------------+\n",
      "|   1  TITAN X (Pascal)    On   | 0000:05:00.0     Off |                  N/A |\n",
      "| 23%   30C    P8    23W / 250W |      0MiB / 12189MiB |      0%      Default |\n",
      "+-------------------------------+----------------------+----------------------+\n",
      "|   2  TITAN X (Pascal)    On   | 0000:06:00.0     Off |                  N/A |\n",
      "| 23%   30C    P8    23W / 250W |      0MiB / 12189MiB |      0%      Default |\n",
      "+-------------------------------+----------------------+----------------------+\n",
      "|   3  TITAN X (Pascal)    On   | 0000:07:00.0     Off |                  N/A |\n",
      "| 23%   29C    P8    24W / 250W |      0MiB / 12189MiB |      0%      Default |\n",
      "+-------------------------------+----------------------+----------------------+\n",
      "|   4  TITAN X (Pascal)    On   | 0000:0A:00.0     Off |                  N/A |\n",
      "| 23%   30C    P8    23W / 250W |      0MiB / 12189MiB |      0%      Default |\n",
      "+-------------------------------+----------------------+----------------------+\n",
      "|   5  TITAN X (Pascal)    On   | 0000:0B:00.0     Off |                  N/A |\n",
      "| 23%   28C    P8    24W / 250W |      0MiB / 12189MiB |      0%      Default |\n",
      "+-------------------------------+----------------------+----------------------+\n",
      "|   6  TITAN X (Pascal)    On   | 0000:0C:00.0     Off |                  N/A |\n",
      "| 23%   31C    P8    23W / 250W |      0MiB / 12189MiB |      0%      Default |\n",
      "+-------------------------------+----------------------+----------------------+\n",
      "|   7  TITAN X (Pascal)    On   | 0000:0D:00.0     Off |                  N/A |\n",
      "| 23%   29C    P8    23W / 250W |      0MiB / 12189MiB |      0%      Default |\n",
      "+-------------------------------+----------------------+----------------------+\n",
      "                                                                               \n",
      "+-----------------------------------------------------------------------------+\n",
      "| Processes:                                                       GPU Memory |\n",
      "|  GPU       PID  Type  Process name                               Usage      |\n",
      "|=============================================================================|\n",
      "|    0      8734    C   python                                       11705MiB |\n",
      "+-----------------------------------------------------------------------------+\n"
     ]
    }
   ],
   "source": [
    "!nvidia-smi"
   ]
  },
  {
   "cell_type": "code",
   "execution_count": 1,
   "metadata": {
    "collapsed": false
   },
   "outputs": [],
   "source": [
    "import os\n",
    "os.environ[\"CUDA_VISIBLE_DEVICES\"]=\"1\"\n",
    "%matplotlib inline\n",
    "import matplotlib.pyplot as plt\n",
    "\n",
    "import tensorflow as tf\n",
    "import numpy as np\n",
    "import re, os, sys\n",
    "tf.__version__\n",
    "\n",
    "def create_session():\n",
    "    config = tf.ConfigProto(log_device_placement=True, graph_options=tf.GraphOptions(optimizer_options=tf.OptimizerOptions(opt_level=tf.OptimizerOptions.L0)))\n",
    "    return tf.InteractiveSession(config=config)\n",
    "\n",
    "# Setup utilities to parse __LOG_MEMORY__ statements in command-line\n",
    "#tensor_allocation_regex = re.compile(r\"allocated_bytes: (?P<allocated_bytes>\\d+).*.*allocation_id: (?P<allocation_id>\\d+).*timestamp (?P<timestamp>\\d+)\")\n",
    "# allocated_bytes: 2400000 allocator_name: \"cpu\"\n",
    "tensor_allocation_regex = re.compile(\"\"\"MemoryLogTensorAllocation.*?step_id: (?P<step_id>[-0123456789]+).*kernel_name: \\\"(?P<kernel_name>[^\"]+)\\\".*?allocated_bytes: (?P<allocated_bytes>\\d+).*allocator_name: \\\"(?P<allocator_name>[^\"]+)\\\".*.*allocation_id: (?P<allocation_id>\\d+).*timestamp (?P<timestamp>\\d+)\"\"\")\n",
    "tensor_output_regex = re.compile(\"\"\"MemoryLogTensorOutput.* step_id: (?P<step_id>[-0123456789]+) kernel_name: \\\"(?P<kernel_name>[^\"]+).*allocated_bytes: (?P<allocated_bytes>\\d+).*allocation_id: (?P<allocation_id>\\d+).*timestamp (?P<timestamp>\\d+)\"\"\")   \n",
    "tensor_output_regex_no_bytes = re.compile(\"\"\"MemoryLogTensorOutput.* step_id: (?P<step_id>[-0123456789]+) kernel_name: \\\"(?P<kernel_name>[^\"]+).*timestamp (?P<timestamp>\\d+)\"\"\")   \n",
    "tensor_deallocation_regex = re.compile(r\"allocation_id: (?P<allocation_id>\\d+).*timestamp (?P<timestamp>\\d+)\")\n",
    "\n",
    "#\"MemoryLogStep { step_id: 2 handle: \"->/group_deps/0/;1\" } timestamp 5673393661785237'\"\n",
    "tensor_logstep_regex = re.compile(\"\"\"MemoryLogStep.*?step_id: (?P<step_id>[-0123456789]+).*?.*timestamp (?P<timestamp>\\d+)\"\"\")\n",
    "\n",
    "def _parse_logline(l):\n",
    "    # There are 4 kinds of lines with __LOG_MEMORY__ tag\n",
    "    # MemoryLogTensorDeallocation, MemoryLogTensorAllocation, MemoryLogStep,\n",
    "    #\n",
    "    # Example lines for debugging:\n",
    "    # MemoryLogTensorDeallocation\n",
    "    # 5143420588.000000 file tensorflow/core/framework/log_memory.cc:41] __LOG_MEMORY__ MemoryLogTensorDeallocation { allocation_id: 2 allocator_name: \"cpu\" } timestamp 5143420588459765\n",
    "    \n",
    "    # MemoryLogTensorAllocation\n",
    "    # I 5143420588.000000 file tensorflow/core/framework/log_memory.cc:41] __LOG_MEMORY__ MemoryLogTensorAllocation { step_id: -6 kernel_name: \"Unknown (from Proto)\" tensor { dtype: DT_INT32 shape { dim { size: 3 } } allocation_description { requested_bytes: 12 allocated_bytes: 12 allocator_name: \"cpu\" allocation_id: 3 has_single_reference: true ptr: 29496256 } } } timestamp 5143420588526034\n",
    "\n",
    "    # MemoryLogStep\n",
    "    # I 5143420588.000000 file tensorflow/core/framework/log_memory.cc:41] __LOG_MEMORY__ MemoryLogStep { step_id: 1 handle: \"->Print:0//0/;0\" } timestamp 5143420588718348\n",
    "\n",
    "    # MemoryLogTensorOutput\n",
    "    # I 5143420588.000000 file tensorflow/core/framework/log_memory.cc:41] __LOG_MEMORY__ MemoryLogTensorOutput { step_id: 1 kernel_name: \"Const\" tensor { dtype: DT_INT32 shape { dim { size: 3 } } allocation_description { requested_bytes: 12 allocated_bytes: 12 allocator_name: \"cpu\" allocation_id: 3 ptr: 29496256 } } } timestamp 5143420588932740\n",
    "     \n",
    "    # some weird initialization step \n",
    "    # if \"step_id: -6\" in l:\n",
    "    #    return {}\n",
    "    \n",
    "    if 'MemoryLogTensorOutput' in l:\n",
    "        m = tensor_output_regex.search(l)\n",
    "        # some Shape lines are missing bytes info, ie # I 5162643141.000000 file tensorflow/core/framework/log_memory.cc:41] __LOG_MEMORY__ MemoryLogTensorOutput { step_id: 5 kernel_name: \"gradients/Shape\" tensor { dtype: DT_INT32 shape { dim { } } } } timestamp 5162643141310124\n",
    "        if not m:\n",
    "            m = tensor_output_regex_no_bytes.search(l)\n",
    "\n",
    "        assert m, l\n",
    "        d = m.groupdict()\n",
    "        d[\"type\"] = \"MemoryLogTensorOutput\"\n",
    "            \n",
    "    elif 'MemoryLogTensorAllocation' in l:\n",
    "        m = tensor_allocation_regex.search(l)\n",
    "        assert m, l\n",
    "        d = m.groupdict()\n",
    "        d[\"type\"] = \"MemoryLogTensorAllocation\"\n",
    "    elif 'MemoryLogTensorDeallocation' in l:\n",
    "        m = tensor_deallocation_regex.search(l)\n",
    "        assert m, l\n",
    "        d = m.groupdict()\n",
    "        d[\"type\"] = \"MemoryLogTensorDeallocation\"\n",
    "    elif 'MemoryLogStep' in l:\n",
    "        m = tensor_logstep_regex.search(l)\n",
    "        assert m, l\n",
    "        d = m.groupdict()\n",
    "        d[\"type\"] = \"MemoryLogStep\"\n",
    "    else:\n",
    "        assert False, \"Unknown log line\"\n",
    "        \n",
    "    if not \"allocation_id\" in d:\n",
    "        d[\"allocation_id\"] = \"-1\"\n",
    "\n",
    "    d[\"line\"] = l\n",
    "    d[\"timestamp\"] = int(d[\"timestamp\"])\n",
    "    return d\n",
    "\n",
    "def memory_timeline(output):\n",
    "    def get_alloc_names(allocation_id):\n",
    "        for entry in allocation_map[allocation_id]:\n",
    "            kernel_name = entry.get(\"kernel_name\", \"unknown\")\n",
    "            if not \"unknown\" in kernel_name.lower():\n",
    "                return kernel_name+\"(\"+allocation_id+\")\"\n",
    "        return \"(\"+allocation_id+\")\"\n",
    "\n",
    "    def get_alloc_bytes(allocation_id):\n",
    "        for entry in allocation_map[allocation_id]:\n",
    "            if \"allocated_bytes\" in entry:\n",
    "                return entry[\"allocated_bytes\"]\n",
    "        return \"0\"\n",
    "\n",
    "    def get_alloc_type(allocation_id):\n",
    "        for entry in allocation_map[allocation_id]:\n",
    "            if \"allocator_name\" in entry:\n",
    "                return entry[\"allocator_name\"]\n",
    "        return \"0\"\n",
    "\n",
    "    parsed_lines = [_parse_logline(l) for l in output.split(\"\\n\") if '__LOG_MEMORY__' in l]\n",
    "    parsed_lines.sort(key=lambda l: l[\"timestamp\"])\n",
    "    first_timestamp = parsed_lines[0][\"timestamp\"]\n",
    "\n",
    "    allocation_map = {} # map of allocation_id->parsed_logline of allocation\n",
    "    for line in parsed_lines:\n",
    "        if line[\"type\"] == \"MemoryLogTensorAllocation\" or line[\"type\"] == \"MemoryLogTensorOutput\":\n",
    "            allocation_map.setdefault(line[\"allocation_id\"], []).append(line)\n",
    "\n",
    "    result = []\n",
    "    for line in parsed_lines:\n",
    "        assert \"allocation_id\" in line\n",
    "        alloc_names = get_alloc_names(line[\"allocation_id\"])\n",
    "        alloc_bytes = get_alloc_bytes(line[\"allocation_id\"])\n",
    "        alloc_type = get_alloc_type(line[\"allocation_id\"])\n",
    "        if line[\"type\"] == \"MemoryLogTensorOutput\":\n",
    "            continue\n",
    "        if line[\"type\"] == \"MemoryLogTensorDeallocation\":\n",
    "            alloc_bytes = \"-\" + alloc_bytes\n",
    "        result.append((line[\"timestamp\"]-first_timestamp, alloc_names, alloc_bytes, alloc_type))\n",
    "    return result\n",
    "\n",
    "\n",
    "def print_memory_timeline(stderr, gpu_only=False):\n",
    "    total_memory = 0\n",
    "    for record in memory_timeline(stderr):\n",
    "        timestamp, kernel_name, allocated_bytes, allocator_type = record\n",
    "        allocated_bytes = int(allocated_bytes)\n",
    "        if gpu_only:\n",
    "            if not allocator_type.startswith(\"gpu\"):\n",
    "                continue\n",
    "        if abs(allocated_bytes)<1000:\n",
    "            continue  # ignore small allocations\n",
    "        total_memory += allocated_bytes\n",
    "        print(\"%9d %40s %11d %11d %s\"%(timestamp, kernel_name, allocated_bytes, total_memory, allocator_type))\n",
    "\n",
    "def plot_memory_timeline(stderr, gpu_only=False):\n",
    "    total_memory = 0\n",
    "    timestamps = []\n",
    "    data = []\n",
    "    for record in memory_timeline(stderr):\n",
    "        if gpu_only:\n",
    "            if not record[3].startswith(\"gpu\"):\n",
    "                continue\n",
    "        timestamps.append(record[0]-1)\n",
    "        data.append(total_memory)\n",
    "        total_memory += int(record[2])\n",
    "        timestamps.append(record[0])\n",
    "        data.append(total_memory)\n",
    "    plt.plot(timestamps, data)\n",
    "    \n",
    "    \n",
    "run_metadata = tf.RunMetadata()\n",
    "def summarize(run_metadata=run_metadata):\n",
    "    ss = tf.contrib.stat_summarizer.NewStatSummarizer(tf.get_default_graph().as_graph_def().SerializeToString())\n",
    "    ss.ProcessStepStatsStr(run_metadata.step_stats.SerializeToString())\n",
    "    print(ss.GetOutputString())\n",
    "    \n",
    "def printops(ops):\n",
    "    print([op.name for op in ops])\n",
    "    \n",
    "run_options = tf.RunOptions(trace_level=tf.RunOptions.FULL_TRACE)\n",
    "def sessrun(*args, **kwargs):\n",
    "    sess = create_session()\n",
    "    sess.run(tf.global_variables_initializer())\n",
    "    kwargs[\"run_metadata\"] = run_metadata\n",
    "    kwargs[\"options\"] = run_options\n",
    "    return sess.run(*args, **kwargs)\n",
    "\n",
    "import tensorflow.contrib.graph_editor as ge\n",
    "def run_after(a_tensor, b_tensor):\n",
    "    \"\"\"Force a to run after b\"\"\"\n",
    "    ge.reroute.add_control_inputs(a_tensor.op, [b_tensor.op])\n",
    "\n",
    "import os\n",
    "import sys\n",
    "\n",
    "STDOUT = 1\n",
    "STDERR = 2\n",
    "\n",
    "# this hangs when pipe buffer is full\n",
    "\n",
    "class FDRedirector(object):\n",
    "    \"\"\" Class to redirect output (stdout or stderr) at the OS level using\n",
    "        file descriptors.\n",
    "    \"\"\" \n",
    "\n",
    "    def __init__(self, fd=STDOUT):\n",
    "        \"\"\" fd is the file descriptor of the outpout you want to capture.\n",
    "            It can be STDOUT or STERR.\n",
    "        \"\"\"\n",
    "        self.fd = fd\n",
    "        self.started = False\n",
    "        self.piper = None\n",
    "        self.pipew = None\n",
    "\n",
    "    def start(self):\n",
    "        \"\"\" Setup the redirection.\n",
    "        \"\"\"\n",
    "        if not self.started:\n",
    "            self.oldhandle = os.dup(self.fd)\n",
    "            self.piper, self.pipew = os.pipe()\n",
    "            os.dup2(self.pipew, self.fd)\n",
    "            os.close(self.pipew)\n",
    "\n",
    "            self.started = True\n",
    "\n",
    "    def flush(self):\n",
    "        \"\"\" Flush the captured output, similar to the flush method of any\n",
    "        stream.\n",
    "        \"\"\"\n",
    "        if self.fd == STDOUT:\n",
    "            sys.stdout.flush()\n",
    "        elif self.fd == STDERR:\n",
    "            sys.stderr.flush()\n",
    "\n",
    "    def stop(self):\n",
    "        \"\"\" Unset the redirection and return the captured output. \n",
    "        \"\"\"\n",
    "        if self.started:\n",
    "            self.flush()\n",
    "            os.dup2(self.oldhandle, self.fd)\n",
    "            os.close(self.oldhandle)\n",
    "            f = os.fdopen(self.piper, 'r')\n",
    "            output = f.read()\n",
    "            f.close()\n",
    "\n",
    "            self.started = False\n",
    "            return output\n",
    "        else:\n",
    "            return ''\n",
    "\n",
    "    def getvalue(self):\n",
    "        \"\"\" Return the output captured since the last getvalue, or the\n",
    "        start of the redirection.\n",
    "        \"\"\"\n",
    "        output = self.stop()\n",
    "        self.start()\n",
    "        return output\n",
    "\n",
    "redirect=FDRedirector(STDERR)\n",
    "stderr = \"\"\n",
    "\n",
    "from contextlib import contextmanager\n",
    "@contextmanager\n",
    "def grab_stderr():\n",
    "    global stderr\n",
    "    redirect.start();\n",
    "    yield\n",
    "    stderr = redirect.stop()\n",
    "    \n",
    "def open_tag(tag):\n",
    "    sess.run(tf.Print(tf.constant(1), [tf.constant(1)], tag+\"<BEGIN>\"))\n",
    "    \n",
    "def close_tag(tag):\n",
    "    sess.run(tf.Print(tf.constant(1), [tf.constant(1)], tag+\"<END>\"))\n",
    "    \n",
    "def grab_output(tag, filename=\"/tmp/jupyter.txt\"):\n",
    "    s = open(filename).read()\n",
    "    opening_tag = tag+\"<BEGIN>\"\n",
    "    ending_tag = tag+\"<END>\"\n",
    "    starting_pos = s.rfind(opening_tag)\n",
    "    ending_pos = s.rfind(ending_tag)\n",
    "    return s[starting_pos:ending_pos]"
   ]
  },
  {
   "cell_type": "code",
   "execution_count": 2,
   "metadata": {
    "collapsed": false
   },
   "outputs": [
    {
     "data": {
      "text/plain": [
       "[name: \"/cpu:0\"\n",
       " device_type: \"CPU\"\n",
       " memory_limit: 268435456\n",
       " locality {\n",
       " }\n",
       " incarnation: 16810656111374211435, name: \"/gpu:0\"\n",
       " device_type: \"GPU\"\n",
       " memory_limit: 11992055808\n",
       " locality {\n",
       "   bus_id: 1\n",
       " }\n",
       " incarnation: 871470668485684177\n",
       " physical_device_desc: \"device: 0, name: TITAN X (Pascal), pci bus id: 0000:05:00.0\"]"
      ]
     },
     "execution_count": 2,
     "metadata": {},
     "output_type": "execute_result"
    }
   ],
   "source": [
    "from tensorflow.python.client import device_lib\n",
    "device_lib.list_local_devices()"
   ]
  },
  {
   "cell_type": "markdown",
   "metadata": {},
   "source": [
    "# Allocate variables in order"
   ]
  },
  {
   "cell_type": "code",
   "execution_count": 3,
   "metadata": {
    "collapsed": false
   },
   "outputs": [],
   "source": [
    "tf.reset_default_graph()\n",
    "var_size = 1000000/4\n",
    "tf_vars = []\n",
    "num_vars = 10\n",
    "for i in range(num_vars):\n",
    "    with tf.device(\"/gpu:0\"):\n",
    "        actual_size = var_size+i*10000/4\n",
    "        tf_vars.append(tf.Variable(tf.zeros_initializer(shape=(actual_size,), dtype=tf.float32)))\n",
    "        \n",
    "import tensorflow.contrib.graph_editor as ge\n",
    "def run_after(a, b):\n",
    "    \"\"\"Force a to run after b\"\"\"\n",
    "    ge.reroute.add_control_inputs(a, [b])\n",
    "\n",
    "for i in range(1, num_vars):\n",
    "    run_after(tf_vars[i].initializer, tf_vars[i-1].initializer)\n",
    "init_op = tf.group(*[v.initializer for v in tf_vars])"
   ]
  },
  {
   "cell_type": "code",
   "execution_count": 4,
   "metadata": {
    "collapsed": false
   },
   "outputs": [
    {
     "data": {
      "image/png": "[encoded data removed]",
      "text/plain": [
       "<matplotlib.figure.Figure at 0x7f029a5dcc18>"
      ]
     },
     "metadata": {},
     "output_type": "display_data"
    }
   ],
   "source": [
    "sess = create_session()\n",
    "open_tag('mem')\n",
    "sess.run(init_op)\n",
    "close_tag('mem')\n",
    "stderr=grab_output('mem')\n",
    "plot_memory_timeline(stderr, True)"
   ]
  },
  {
   "cell_type": "code",
   "execution_count": 6,
   "metadata": {
    "collapsed": false
   },
   "outputs": [
    {
     "name": "stdout",
     "output_type": "stream",
     "text": [
      "  8287100                                 zeros(3)     1000192     1000192 gpu_bfc\n",
      "  9403718                               zeros_1(4)     1010176     2010368 gpu_bfc\n",
      " 10358197                                 zeros(3)     1000192     3010560 gpu_bfc\n",
      " 10408403                               zeros_2(5)     1020160     4030720 gpu_bfc\n",
      " 10700982                                 zeros(3)    -1000192     3030528 gpu_bfc\n",
      " 11464560                               zeros_1(4)     1010176     4040704 gpu_bfc\n",
      " 11501206                               zeros_3(6)     1030144     5070848 gpu_bfc\n",
      " 11784330                               zeros_1(4)    -1010176     4060672 gpu_bfc\n",
      " 12433383                               zeros_2(5)     1020160     5080832 gpu_bfc\n",
      " 12745358                               zeros_2(5)    -1020160     4060672 gpu_bfc\n",
      " 15962997                               zeros_3(6)     1030144     5090816 gpu_bfc\n",
      " 16338900                               zeros_3(6)    -1030144     4060672 gpu_bfc\n"
     ]
    }
   ],
   "source": [
    "print_memory_timeline(stderr, True)"
   ]
  },
  {
   "cell_type": "code",
   "execution_count": 7,
   "metadata": {
    "collapsed": false
   },
   "outputs": [
    {
     "name": "stdout",
     "output_type": "stream",
     "text": [
      "  4970132                               zeros_4(7)     1000000     1000000 cpu\n",
      "  5049983                               zeros_4(7)    -1000000           0 cpu\n",
      "  8240339                                      (1)     1048576     1048576 cuda_host_bfc\n",
      "  8287100                                 zeros(3)     1000192     2048768 gpu_bfc\n",
      "  8627152                                      (1)    -1048576     1000192 cuda_host_bfc\n",
      "  9023603                               zeros_5(8)     1010000     2010192 cpu\n",
      "  9087930                               zeros_5(8)    -1010000     1000192 cpu\n",
      "  9403718                               zeros_1(4)     1010176     2010368 gpu_bfc\n",
      " 10027839                               zeros_6(9)     1020000     3030368 cpu\n",
      " 10085383                               zeros_6(9)    -1020000     2010368 cpu\n",
      " 10358197                                 zeros(3)     1000192     3010560 gpu_bfc\n",
      " 10408403                               zeros_2(5)     1020160     4030720 gpu_bfc\n",
      " 10700982                                 zeros(3)    -1000192     3030528 gpu_bfc\n",
      " 11147474                              zeros_7(10)     1030000     4060528 cpu\n",
      " 11205271                              zeros_7(10)    -1030000     3030528 cpu\n",
      " 11464560                               zeros_1(4)     1010176     4040704 gpu_bfc\n",
      " 11501206                               zeros_3(6)     1030144     5070848 gpu_bfc\n",
      " 11784330                               zeros_1(4)    -1010176     4060672 gpu_bfc\n",
      " 12120804                              zeros_8(11)     1040000     5100672 cpu\n",
      " 12174775                              zeros_8(11)    -1040000     4060672 cpu\n",
      " 12433383                               zeros_2(5)     1020160     5080832 gpu_bfc\n",
      " 12469948                               zeros_4(7)     1000000     6080832 cpu\n",
      " 12745358                               zeros_2(5)    -1020160     5060672 gpu_bfc\n",
      " 13082596                              zeros_9(12)     1050000     6110672 cpu\n",
      " 13137332                              zeros_9(12)    -1050000     5060672 cpu\n",
      " 15962997                               zeros_3(6)     1030144     6090816 gpu_bfc\n",
      " 16026995                               zeros_5(8)     1010000     7100816 cpu\n",
      " 16338900                               zeros_3(6)    -1030144     6070672 gpu_bfc\n",
      " 16926560                      Variable/Assign(13)     1060000     7130672 cpu\n",
      " 17023857                      Variable/Assign(13)    -1060000     6070672 cpu\n",
      " 17446188                               zeros_4(7)     1000000     7070672 cpu\n",
      " 17520244                               zeros_6(9)     1020000     8090672 cpu\n",
      " 17850832                               zeros_4(7)    -1000000     7090672 cpu\n",
      " 18393453                    Variable_1/Assign(14)     1070000     8160672 cpu\n",
      " 18488443                    Variable_1/Assign(14)    -1070000     7090672 cpu\n",
      " 18937540                               zeros_5(8)     1010000     8100672 cpu\n",
      " 18998339                              zeros_7(10)     1030000     9130672 cpu\n",
      " 19333382                               zeros_5(8)    -1010000     8120672 cpu\n",
      " 19822924                    Variable_2/Assign(15)     1080000     9200672 cpu\n",
      " 19918657                    Variable_2/Assign(15)    -1080000     8120672 cpu\n",
      " 20350797                               zeros_6(9)     1020000     9140672 cpu\n",
      " 20408081                              zeros_8(11)     1040000    10180672 cpu\n",
      " 20724678                               zeros_6(9)    -1020000     9160672 cpu\n",
      " 21105052                    Variable_3/Assign(16)     1090000    10250672 cpu\n",
      " 21162686                    Variable_3/Assign(16)    -1090000     9160672 cpu\n",
      " 21442934                              zeros_7(10)     1030000    10190672 cpu\n",
      " 21483649                              zeros_9(12)     1050000    11240672 cpu\n",
      " 21749875                              zeros_7(10)    -1030000    10210672 cpu\n",
      " 29548588                    Variable_4/Assign(17)     1000000    11210672 cpu\n",
      " 29626773                    Variable_4/Assign(17)    -1000000    10210672 cpu\n",
      " 30507858                    Variable_5/Assign(18)     1010000    11220672 cpu\n",
      " 30564828                    Variable_5/Assign(18)    -1010000    10210672 cpu\n",
      " 31374450                    Variable_6/Assign(19)     1020000    11230672 cpu\n",
      " 31429366                    Variable_6/Assign(19)    -1020000    10210672 cpu\n",
      " 32224614                    Variable_7/Assign(20)     1030000    11240672 cpu\n",
      " 32281657                    Variable_7/Assign(20)    -1030000    10210672 cpu\n",
      " 33070961                    Variable_8/Assign(21)     1040000    11250672 cpu\n",
      " 33123179                    Variable_8/Assign(21)    -1040000    10210672 cpu\n",
      " 33934605                    Variable_9/Assign(22)     1050000    11260672 cpu\n",
      " 33993016                    Variable_9/Assign(22)    -1050000    10210672 cpu\n",
      " 34813269                                     (23)     1060000    11270672 cpu\n",
      " 34867681                                     (23)    -1060000    10210672 cpu\n",
      " 35668371                                     (24)     1070000    11280672 cpu\n",
      " 35722563                                     (24)    -1070000    10210672 cpu\n",
      " 36504654                                     (25)     1080000    11290672 cpu\n",
      " 36553935                                     (25)    -1080000    10210672 cpu\n",
      " 37336850                                     (26)     1090000    11300672 cpu\n",
      " 37391914                                     (26)    -1090000    10210672 cpu\n",
      " 37634261                      Variable/Assign(13)     1060000    11270672 cpu\n",
      "753791944                    Variable_1/Assign(14)     1070000    12340672 cpu\n",
      "753904794                    Variable_2/Assign(15)     1080000    13420672 cpu\n",
      "753997470                    Variable_3/Assign(16)     1090000    14510672 cpu\n",
      "754082229                    Variable_4/Assign(17)     1000000    15510672 cpu\n",
      "754169511                    Variable_5/Assign(18)     1010000    16520672 cpu\n",
      "754256231                    Variable_6/Assign(19)     1020000    17540672 cpu\n",
      "754340637                    Variable_7/Assign(20)     1030000    18570672 cpu\n",
      "754424941                    Variable_8/Assign(21)     1040000    19610672 cpu\n",
      "754516783                    Variable_9/Assign(22)     1050000    20660672 cpu\n"
     ]
    }
   ],
   "source": [
    "print_memory_timeline(stderr)"
   ]
  },
  {
   "cell_type": "markdown",
   "metadata": {},
   "source": [
    "# Allocate 10GB variable using in-place initializer"
   ]
  },
  {
   "cell_type": "code",
   "execution_count": 14,
   "metadata": {
    "collapsed": false
   },
   "outputs": [
    {
     "data": {
      "image/png": "[encoded data removed]",
      "text/plain": [
       "<matplotlib.figure.Figure at 0x7f02943b99b0>"
      ]
     },
     "metadata": {},
     "output_type": "display_data"
    }
   ],
   "source": [
    "tf.reset_default_graph()\n",
    "var = tf.Variable(tf.zeros_initializer(10*10**9/4,))\n",
    "var_zero = tf.contrib.framework.zero_initializer(var)\n",
    "sess = create_session()\n",
    "open_tag('mem')\n",
    "sess.run(var_zero)\n",
    "close_tag('mem')\n",
    "stderr=grab_output('mem')\n",
    "plot_memory_timeline(stderr, True)"
   ]
  },
  {
   "cell_type": "code",
   "execution_count": 15,
   "metadata": {
    "collapsed": false
   },
   "outputs": [
    {
     "name": "stdout",
     "output_type": "stream",
     "text": [
      "  2501680                     zero_initializer(67) 11971143168 11971143168 gpu_bfc\n"
     ]
    }
   ],
   "source": [
    "print_memory_timeline(stderr, True)"
   ]
  },
  {
   "cell_type": "markdown",
   "metadata": {},
   "source": [
    "# Test that session del frees memory"
   ]
  },
  {
   "cell_type": "code",
   "execution_count": 10,
   "metadata": {
    "collapsed": false
   },
   "outputs": [
    {
     "name": "stdout",
     "output_type": "stream",
     "text": [
      "Allocated 0\n",
      "Allocated 1\n",
      "Allocated 2\n",
      "Allocated 3\n"
     ]
    }
   ],
   "source": [
    "import os\n",
    "os.environ[\"CUDA_VISIBLE_DEVICES\"] = \"1\"\n",
    "import tensorflow as tf\n",
    "\n",
    "def allocate(k):\n",
    "    tf.reset_default_graph()\n",
    "    sess = tf.Session()\n",
    "    var_size = 10**9/4 # 1 GB\n",
    "    for i in range(k):\n",
    "        with tf.device(\"/gpu:0\"):\n",
    "            var = tf.Variable(tf.zeros_initializer(var_size))\n",
    "            sess.run(var.initializer)\n",
    "            print(\"Allocated \"+str(i))\n",
    "    del sess\n",
    "    \n",
    "allocate(4)"
   ]
  },
  {
   "cell_type": "code",
   "execution_count": 11,
   "metadata": {
    "collapsed": false
   },
   "outputs": [
    {
     "name": "stdout",
     "output_type": "stream",
     "text": [
      "Allocated 0\n",
      "Allocated 1\n",
      "Allocated 2\n",
      "Allocated 3\n"
     ]
    }
   ],
   "source": [
    "allocate(4)"
   ]
  },
  {
   "cell_type": "code",
   "execution_count": 12,
   "metadata": {
    "collapsed": false
   },
   "outputs": [
    {
     "name": "stdout",
     "output_type": "stream",
     "text": [
      "Allocated 0\n",
      "Allocated 1\n",
      "Allocated 2\n",
      "Allocated 3\n"
     ]
    }
   ],
   "source": [
    "allocate(4)"
   ]
  },
  {
   "cell_type": "code",
   "execution_count": 13,
   "metadata": {
    "collapsed": false
   },
   "outputs": [
    {
     "name": "stdout",
     "output_type": "stream",
     "text": [
      "Allocated 0\n",
      "Allocated 1\n",
      "Allocated 2\n",
      "Allocated 3\n"
     ]
    }
   ],
   "source": [
    "allocate(4)"
   ]
  },
  {
   "cell_type": "markdown",
   "metadata": {},
   "source": [
    "# End"
   ]
  }
 ],
 "metadata": {
  "kernelspec": {
   "display_name": "Python 3",
   "language": "python",
   "name": "python3"
  },
  "language_info": {
   "codemirror_mode": {
    "name": "ipython",
    "version": 3
   },
   "file_extension": ".py",
   "mimetype": "text/x-python",
   "name": "python",
   "nbconvert_exporter": "python",
   "pygments_lexer": "ipython3",
   "version": "3.5.2"
  }
 },
 "nbformat": 4,
 "nbformat_minor": 2
}
