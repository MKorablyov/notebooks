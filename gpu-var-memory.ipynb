{
 "cells": [
  {
   "cell_type": "markdown",
   "metadata": {},
   "source": [
    "# Init"
   ]
  },
  {
   "cell_type": "code",
   "execution_count": 1,
   "metadata": {
    "collapsed": false
   },
   "outputs": [
    {
     "name": "stdout",
     "output_type": "stream",
     "text": [
      "Thu Dec 22 13:22:34 2016       \n",
      "+-----------------------------------------------------------------------------+\n",
      "| NVIDIA-SMI 370.23                 Driver Version: 370.23                    |\n",
      "|-------------------------------+----------------------+----------------------+\n",
      "| GPU  Name        Persistence-M| Bus-Id        Disp.A | Volatile Uncorr. ECC |\n",
      "| Fan  Temp  Perf  Pwr:Usage/Cap|         Memory-Usage | GPU-Util  Compute M. |\n",
      "|===============================+======================+======================|\n",
      "|   0  TITAN X (Pascal)    On   | 0000:04:00.0     Off |                  N/A |\n",
      "| 23%   29C    P8    24W / 250W |  11707MiB / 12189MiB |      0%      Default |\n",
      "+-------------------------------+----------------------+----------------------+\n",
      "|   1  TITAN X (Pascal)    On   | 0000:05:00.0     Off |                  N/A |\n",
      "| 23%   30C    P8    23W / 250W |      0MiB / 12189MiB |      0%      Default |\n",
      "+-------------------------------+----------------------+----------------------+\n",
      "|   2  TITAN X (Pascal)    On   | 0000:06:00.0     Off |                  N/A |\n",
      "| 23%   30C    P8    23W / 250W |      0MiB / 12189MiB |      0%      Default |\n",
      "+-------------------------------+----------------------+----------------------+\n",
      "|   3  TITAN X (Pascal)    On   | 0000:07:00.0     Off |                  N/A |\n",
      "| 23%   29C    P8    24W / 250W |      0MiB / 12189MiB |      0%      Default |\n",
      "+-------------------------------+----------------------+----------------------+\n",
      "|   4  TITAN X (Pascal)    On   | 0000:0A:00.0     Off |                  N/A |\n",
      "| 23%   30C    P8    23W / 250W |      0MiB / 12189MiB |      0%      Default |\n",
      "+-------------------------------+----------------------+----------------------+\n",
      "|   5  TITAN X (Pascal)    On   | 0000:0B:00.0     Off |                  N/A |\n",
      "| 23%   28C    P8    24W / 250W |      0MiB / 12189MiB |      0%      Default |\n",
      "+-------------------------------+----------------------+----------------------+\n",
      "|   6  TITAN X (Pascal)    On   | 0000:0C:00.0     Off |                  N/A |\n",
      "| 23%   31C    P8    23W / 250W |      0MiB / 12189MiB |      0%      Default |\n",
      "+-------------------------------+----------------------+----------------------+\n",
      "|   7  TITAN X (Pascal)    On   | 0000:0D:00.0     Off |                  N/A |\n",
      "| 23%   29C    P8    23W / 250W |      0MiB / 12189MiB |      0%      Default |\n",
      "+-------------------------------+----------------------+----------------------+\n",
      "                                                                               \n",
      "+-----------------------------------------------------------------------------+\n",
      "| Processes:                                                       GPU Memory |\n",
      "|  GPU       PID  Type  Process name                               Usage      |\n",
      "|=============================================================================|\n",
      "|    0      8734    C   python                                       11705MiB |\n",
      "+-----------------------------------------------------------------------------+\n"
     ]
    }
   ],
   "source": [
    "!nvidia-smi"
   ]
  },
  {
   "cell_type": "code",
   "execution_count": 170,
   "metadata": {
    "collapsed": false
   },
   "outputs": [],
   "source": [
    "import os\n",
    "os.environ[\"CUDA_VISIBLE_DEVICES\"]=\"1\"\n",
    "%matplotlib inline\n",
    "import matplotlib.pyplot as plt\n",
    "\n",
    "import tensorflow as tf\n",
    "import numpy as np\n",
    "import re, os, sys\n",
    "tf.__version__\n",
    "\n",
    "def create_session():\n",
    "    config = tf.ConfigProto(log_device_placement=True, graph_options=tf.GraphOptions(optimizer_options=tf.OptimizerOptions(opt_level=tf.OptimizerOptions.L0)))\n",
    "    return tf.InteractiveSession(config=config)\n",
    "\n",
    "# Setup utilities to parse __LOG_MEMORY__ statements in command-line\n",
    "#tensor_allocation_regex = re.compile(r\"allocated_bytes: (?P<allocated_bytes>\\d+).*.*allocation_id: (?P<allocation_id>\\d+).*timestamp (?P<timestamp>\\d+)\")\n",
    "# allocated_bytes: 2400000 allocator_name: \"cpu\"\n",
    "tensor_allocation_regex = re.compile(\"\"\"MemoryLogTensorAllocation.*?step_id: (?P<step_id>[-0123456789]+).*kernel_name: \\\"(?P<kernel_name>[^\"]+)\\\".*?allocated_bytes: (?P<allocated_bytes>\\d+).*allocator_name: \\\"(?P<allocator_name>[^\"]+)\\\".*.*allocation_id: (?P<allocation_id>\\d+).*timestamp (?P<timestamp>\\d+)\"\"\")\n",
    "tensor_output_regex = re.compile(\"\"\"MemoryLogTensorOutput.* step_id: (?P<step_id>[-0123456789]+) kernel_name: \\\"(?P<kernel_name>[^\"]+).*allocated_bytes: (?P<allocated_bytes>\\d+).*allocation_id: (?P<allocation_id>\\d+).*timestamp (?P<timestamp>\\d+)\"\"\")   \n",
    "tensor_output_regex_no_bytes = re.compile(\"\"\"MemoryLogTensorOutput.* step_id: (?P<step_id>[-0123456789]+) kernel_name: \\\"(?P<kernel_name>[^\"]+).*timestamp (?P<timestamp>\\d+)\"\"\")   \n",
    "tensor_deallocation_regex = re.compile(r\"allocation_id: (?P<allocation_id>\\d+).*timestamp (?P<timestamp>\\d+)\")\n",
    "\n",
    "#\"MemoryLogStep { step_id: 2 handle: \"->/group_deps/0/;1\" } timestamp 5673393661785237'\"\n",
    "tensor_logstep_regex = re.compile(\"\"\"MemoryLogStep.*?step_id: (?P<step_id>[-0123456789]+).*?.*timestamp (?P<timestamp>\\d+)\"\"\")\n",
    "\n",
    "def _parse_logline(l):\n",
    "    # There are 4 kinds of lines with __LOG_MEMORY__ tag\n",
    "    # MemoryLogTensorDeallocation, MemoryLogTensorAllocation, MemoryLogStep,\n",
    "    #\n",
    "    # Example lines for debugging:\n",
    "    # MemoryLogTensorDeallocation\n",
    "    # 5143420588.000000 file tensorflow/core/framework/log_memory.cc:41] __LOG_MEMORY__ MemoryLogTensorDeallocation { allocation_id: 2 allocator_name: \"cpu\" } timestamp 5143420588459765\n",
    "\n",
    "    # MemoryLogTensorAllocation\n",
    "    # I 5143420588.000000 file tensorflow/core/framework/log_memory.cc:41] __LOG_MEMORY__ MemoryLogTensorAllocation { step_id: -6 kernel_name: \"Unknown (from Proto)\" tensor { dtype: DT_INT32 shape { dim { size: 3 } } allocation_description { requested_bytes: 12 allocated_bytes: 12 allocator_name: \"cpu\" allocation_id: 3 has_single_reference: true ptr: 29496256 } } } timestamp 5143420588526034\n",
    "\n",
    "    # MemoryLogStep\n",
    "    # I 5143420588.000000 file tensorflow/core/framework/log_memory.cc:41] __LOG_MEMORY__ MemoryLogStep { step_id: 1 handle: \"->Print:0//0/;0\" } timestamp 5143420588718348\n",
    "\n",
    "    # MemoryLogTensorOutput\n",
    "    # I 5143420588.000000 file tensorflow/core/framework/log_memory.cc:41] __LOG_MEMORY__ MemoryLogTensorOutput { step_id: 1 kernel_name: \"Const\" tensor { dtype: DT_INT32 shape { dim { size: 3 } } allocation_description { requested_bytes: 12 allocated_bytes: 12 allocator_name: \"cpu\" allocation_id: 3 ptr: 29496256 } } } timestamp 5143420588932740\n",
    "     \n",
    "    # some weird initialization step \n",
    "    # if \"step_id: -6\" in l:\n",
    "    #    return {}\n",
    "    \n",
    "    if 'MemoryLogTensorOutput' in l:\n",
    "        m = tensor_output_regex.search(l)\n",
    "        # some Shape lines are missing bytes info, ie # I 5162643141.000000 file tensorflow/core/framework/log_memory.cc:41] __LOG_MEMORY__ MemoryLogTensorOutput { step_id: 5 kernel_name: \"gradients/Shape\" tensor { dtype: DT_INT32 shape { dim { } } } } timestamp 5162643141310124\n",
    "        if not m:\n",
    "            m = tensor_output_regex_no_bytes.search(l)\n",
    "\n",
    "        assert m, l\n",
    "        d = m.groupdict()\n",
    "        d[\"type\"] = \"MemoryLogTensorOutput\"\n",
    "            \n",
    "    elif 'MemoryLogTensorAllocation' in l:\n",
    "        m = tensor_allocation_regex.search(l)\n",
    "        assert m, l\n",
    "        d = m.groupdict()\n",
    "        d[\"type\"] = \"MemoryLogTensorAllocation\"\n",
    "    elif 'MemoryLogTensorDeallocation' in l:\n",
    "        m = tensor_deallocation_regex.search(l)\n",
    "        assert m, l\n",
    "        d = m.groupdict()\n",
    "        d[\"type\"] = \"MemoryLogTensorDeallocation\"\n",
    "    elif 'MemoryLogStep' in l:\n",
    "        m = tensor_logstep_regex.search(l)\n",
    "        assert m, l\n",
    "        d = m.groupdict()\n",
    "        d[\"type\"] = \"MemoryLogStep\"\n",
    "    else:\n",
    "        assert False, \"Unknown log line\"\n",
    "        \n",
    "    if not \"allocation_id\" in d:\n",
    "        d[\"allocation_id\"] = \"-1\"\n",
    "\n",
    "    d[\"line\"] = l\n",
    "    d[\"timestamp\"] = int(d[\"timestamp\"])\n",
    "    return d\n",
    "\n",
    "def memory_timeline(output):\n",
    "    def get_alloc_names(allocation_id):\n",
    "        for entry in allocation_map[allocation_id]:\n",
    "            kernel_name = entry.get(\"kernel_name\", \"unknown\")\n",
    "            if not \"unknown\" in kernel_name.lower():\n",
    "                return kernel_name+\"(\"+allocation_id+\")\"\n",
    "        return \"(\"+allocation_id+\")\"\n",
    "\n",
    "    def get_alloc_bytes(allocation_id):\n",
    "        for entry in allocation_map[allocation_id]:\n",
    "            if \"allocated_bytes\" in entry:\n",
    "                return entry[\"allocated_bytes\"]\n",
    "        return \"0\"\n",
    "\n",
    "    def get_alloc_type(allocation_id):\n",
    "        for entry in allocation_map[allocation_id]:\n",
    "            if \"allocator_name\" in entry:\n",
    "                return entry[\"allocator_name\"]\n",
    "        return \"0\"\n",
    "\n",
    "    parsed_lines = [_parse_logline(l) for l in output.split(\"\\n\") if '__LOG_MEMORY__' in l]\n",
    "    parsed_lines.sort(key=lambda l: l[\"timestamp\"])\n",
    "    first_timestamp = parsed_lines[0][\"timestamp\"]\n",
    "\n",
    "    # Tensors that are output have two records (allocation and output)\n",
    "    # since output comes after, overwrite allocation_map with output\n",
    "    # info (it has kernel_name)\n",
    "    allocation_map = {} # map of allocation_id->parsed_logline of allocation\n",
    "    double_records = {} # map of ids which have both allocation and output\n",
    "    for line in parsed_lines:\n",
    "        if line[\"type\"] == \"MemoryLogTensorAllocation\" or line[\"type\"] == \"MemoryLogTensorOutput\":\n",
    "            allocation_map.setdefault(line[\"allocation_id\"], []).append(line)\n",
    "\n",
    "    result = []\n",
    "    for line in parsed_lines:\n",
    "        assert \"allocation_id\" in line\n",
    "        alloc_names = get_alloc_names(line[\"allocation_id\"])\n",
    "        alloc_bytes = get_alloc_bytes(line[\"allocation_id\"])\n",
    "        alloc_type = get_alloc_type(line[\"allocation_id\"])\n",
    "        if line[\"type\"] == \"MemoryLogTensorDeallocation\":\n",
    "            alloc_bytes = \"-\" + alloc_bytes\n",
    "        result.append((line[\"timestamp\"]-first_timestamp, alloc_names, alloc_bytes, alloc_type))\n",
    "    return result\n",
    "\n",
    "\n",
    "def print_memory_timeline(stderr, gpu_only=False):\n",
    "    total_memory = 0\n",
    "    for record in memory_timeline(stderr):\n",
    "        timestamp, kernel_name, allocated_bytes, allocator_type = record\n",
    "        allocated_bytes = int(allocated_bytes)\n",
    "        if gpu_only:\n",
    "            if not allocator_type.startswith(\"gpu\"):\n",
    "                continue\n",
    "        if abs(allocated_bytes)<1000:\n",
    "            continue  # ignore small allocations\n",
    "        total_memory += allocated_bytes\n",
    "        print(\"%9d %40s %11d %11d %s\"%(timestamp, kernel_name, allocated_bytes, total_memory, allocator_type))\n",
    "\n",
    "def plot_memory_timeline(stderr, gpu_only=False):\n",
    "    total_memory = 0\n",
    "    timestamps = []\n",
    "    data = []\n",
    "    for record in memory_timeline(stderr):\n",
    "        if gpu_only:\n",
    "            if not record[3].startswith(\"gpu\"):\n",
    "                continue\n",
    "        timestamps.append(record[0]-1)\n",
    "        data.append(total_memory)\n",
    "        total_memory += int(record[2])\n",
    "        timestamps.append(record[0])\n",
    "        data.append(total_memory)\n",
    "    plt.plot(timestamps, data)\n",
    "    \n",
    "    \n",
    "run_metadata = tf.RunMetadata()\n",
    "def summarize(run_metadata=run_metadata):\n",
    "    ss = tf.contrib.stat_summarizer.NewStatSummarizer(tf.get_default_graph().as_graph_def().SerializeToString())\n",
    "    ss.ProcessStepStatsStr(run_metadata.step_stats.SerializeToString())\n",
    "    print(ss.GetOutputString())\n",
    "    \n",
    "def printops(ops):\n",
    "    print([op.name for op in ops])\n",
    "    \n",
    "run_options = tf.RunOptions(trace_level=tf.RunOptions.FULL_TRACE)\n",
    "def sessrun(*args, **kwargs):\n",
    "    sess = create_session()\n",
    "    sess.run(tf.global_variables_initializer())\n",
    "    kwargs[\"run_metadata\"] = run_metadata\n",
    "    kwargs[\"options\"] = run_options\n",
    "    return sess.run(*args, **kwargs)\n",
    "\n",
    "import tensorflow.contrib.graph_editor as ge\n",
    "def run_after(a_tensor, b_tensor):\n",
    "    \"\"\"Force a to run after b\"\"\"\n",
    "    ge.reroute.add_control_inputs(a_tensor.op, [b_tensor.op])\n",
    "\n",
    "import os\n",
    "import sys\n",
    "\n",
    "STDOUT = 1\n",
    "STDERR = 2\n",
    "\n",
    "# this hangs when pipe buffer is full\n",
    "\n",
    "class FDRedirector(object):\n",
    "    \"\"\" Class to redirect output (stdout or stderr) at the OS level using\n",
    "        file descriptors.\n",
    "    \"\"\" \n",
    "\n",
    "    def __init__(self, fd=STDOUT):\n",
    "        \"\"\" fd is the file descriptor of the outpout you want to capture.\n",
    "            It can be STDOUT or STERR.\n",
    "        \"\"\"\n",
    "        self.fd = fd\n",
    "        self.started = False\n",
    "        self.piper = None\n",
    "        self.pipew = None\n",
    "\n",
    "    def start(self):\n",
    "        \"\"\" Setup the redirection.\n",
    "        \"\"\"\n",
    "        if not self.started:\n",
    "            self.oldhandle = os.dup(self.fd)\n",
    "            self.piper, self.pipew = os.pipe()\n",
    "            os.dup2(self.pipew, self.fd)\n",
    "            os.close(self.pipew)\n",
    "\n",
    "            self.started = True\n",
    "\n",
    "    def flush(self):\n",
    "        \"\"\" Flush the captured output, similar to the flush method of any\n",
    "        stream.\n",
    "        \"\"\"\n",
    "        if self.fd == STDOUT:\n",
    "            sys.stdout.flush()\n",
    "        elif self.fd == STDERR:\n",
    "            sys.stderr.flush()\n",
    "\n",
    "    def stop(self):\n",
    "        \"\"\" Unset the redirection and return the captured output. \n",
    "        \"\"\"\n",
    "        if self.started:\n",
    "            self.flush()\n",
    "            os.dup2(self.oldhandle, self.fd)\n",
    "            os.close(self.oldhandle)\n",
    "            f = os.fdopen(self.piper, 'r')\n",
    "            output = f.read()\n",
    "            f.close()\n",
    "\n",
    "            self.started = False\n",
    "            return output\n",
    "        else:\n",
    "            return ''\n",
    "\n",
    "    def getvalue(self):\n",
    "        \"\"\" Return the output captured since the last getvalue, or the\n",
    "        start of the redirection.\n",
    "        \"\"\"\n",
    "        output = self.stop()\n",
    "        self.start()\n",
    "        return output\n",
    "\n",
    "redirect=FDRedirector(STDERR)\n",
    "stderr = \"\"\n",
    "\n",
    "from contextlib import contextmanager\n",
    "@contextmanager\n",
    "def grab_stderr():\n",
    "    global stderr\n",
    "    redirect.start();\n",
    "    yield\n",
    "    stderr = redirect.stop()\n",
    "    \n",
    "def open_tag(tag):\n",
    "    sess.run(tf.Print(tf.constant(1), [tf.constant(1)], tag+\"<BEGIN>\"))\n",
    "    \n",
    "def close_tag(tag):\n",
    "    sess.run(tf.Print(tf.constant(1), [tf.constant(1)], tag+\"<END>\"))\n",
    "    \n",
    "def grab_output(tag, filename=\"/tmp/jupyter.txt\"):\n",
    "    s = open(filename).read()\n",
    "    opening_tag = tag+\"<BEGIN>\"\n",
    "    ending_tag = tag+\"<END>\"\n",
    "    starting_pos = s.rfind(opening_tag)\n",
    "    ending_pos = s.rfind(ending_tag)\n",
    "    return s[starting_pos:ending_pos]"
   ]
  },
  {
   "cell_type": "code",
   "execution_count": 2,
   "metadata": {
    "collapsed": false
   },
   "outputs": [
    {
     "data": {
      "text/plain": [
       "[name: \"/cpu:0\"\n",
       " device_type: \"CPU\"\n",
       " memory_limit: 268435456\n",
       " locality {\n",
       " }\n",
       " incarnation: 5486287639689742599, name: \"/gpu:0\"\n",
       " device_type: \"GPU\"\n",
       " memory_limit: 11992055808\n",
       " locality {\n",
       "   bus_id: 1\n",
       " }\n",
       " incarnation: 14735317464372770834\n",
       " physical_device_desc: \"device: 0, name: TITAN X (Pascal), pci bus id: 0000:05:00.0\"]"
      ]
     },
     "execution_count": 2,
     "metadata": {},
     "output_type": "execute_result"
    }
   ],
   "source": [
    "from tensorflow.python.client import device_lib\n",
    "device_lib.list_local_devices()"
   ]
  },
  {
   "cell_type": "markdown",
   "metadata": {},
   "source": [
    "# Allocate 60% of memory in one session"
   ]
  },
  {
   "cell_type": "code",
   "execution_count": 181,
   "metadata": {
    "collapsed": false
   },
   "outputs": [],
   "source": [
    "tf.reset_default_graph()\n",
    "var_size = 1000000/4\n",
    "tf_vars = []\n",
    "num_vars = 10\n",
    "for i in range(num_vars):\n",
    "    with tf.device(\"/gpu:0\"):\n",
    "        actual_size = var_size+i*10000/4\n",
    "        tf_vars.append(tf.Variable(tf.zeros_initializer(shape=(actual_size,), dtype=tf.float32)))\n",
    "        \n",
    "import tensorflow.contrib.graph_editor as ge\n",
    "def run_after(a, b):\n",
    "    \"\"\"Force a to run after b\"\"\"\n",
    "    ge.reroute.add_control_inputs(a, [b])\n",
    "\n",
    "for i in range(1, num_vars):\n",
    "    run_after(tf_vars[i].initializer, tf_vars[i-1].initializer)\n",
    "init_op = tf.group(*[v.initializer for v in tf_vars])"
   ]
  },
  {
   "cell_type": "code",
   "execution_count": 182,
   "metadata": {
    "collapsed": false
   },
   "outputs": [
    {
     "data": {
      "image/png": "[encoded data removed]",
      "text/plain": [
       "<matplotlib.figure.Figure at 0x7f07c05d3a90>"
      ]
     },
     "metadata": {},
     "output_type": "display_data"
    }
   ],
   "source": [
    "sess = create_session()\n",
    "open_tag('mem')\n",
    "sess.run(init_op)\n",
    "close_tag('mem')\n",
    "stderr=grab_output('mem')\n",
    "plot_memory_timeline(stderr, True)"
   ]
  },
  {
   "cell_type": "code",
   "execution_count": 185,
   "metadata": {
    "collapsed": false
   },
   "outputs": [
    {
     "name": "stdout",
     "output_type": "stream",
     "text": [
      "  5617369                               zeros(136)     1000192     1000192 gpu_bfc\n",
      "  6772893                             zeros_1(137)     1010176     2010368 gpu_bfc\n",
      "  7827603                             zeros_2(138)     1020160     3030528 gpu_bfc\n",
      "  8877909                             zeros_3(139)     1030144     4060672 gpu_bfc\n",
      " 10045318                             zeros_4(140)     1040128     5100800 gpu_bfc\n",
      " 11084386                             zeros_5(141)     1050112     6150912 gpu_bfc\n",
      " 12115295                             zeros_6(142)     1060096     7211008 gpu_bfc\n",
      " 13180698                             zeros_7(143)     1070080     8281088 gpu_bfc\n",
      " 14417775                             zeros_8(144)     1080064     9361152 gpu_bfc\n",
      " 15552212                             zeros_9(145)     1090048    10451200 gpu_bfc\n",
      " 17554728                               zeros(136)     1000192    11451392 gpu_bfc\n",
      " 18450243                             zeros_1(137)     1010176    12461568 gpu_bfc\n",
      " 19336513                             zeros_2(138)     1020160    13481728 gpu_bfc\n",
      " 20203521                             zeros_3(139)     1030144    14511872 gpu_bfc\n",
      " 21173184                             zeros_4(140)     1040128    15552000 gpu_bfc\n",
      " 22086775                             zeros_5(141)     1050112    16602112 gpu_bfc\n",
      " 22987929                             zeros_6(142)     1060096    17662208 gpu_bfc\n",
      " 23884159                             zeros_7(143)     1070080    18732288 gpu_bfc\n",
      " 24876413                             zeros_8(144)     1080064    19812352 gpu_bfc\n",
      " 25842749                             zeros_9(145)     1090048    20902400 gpu_bfc\n",
      " 25970513                     Variable/Assign(146)     1000192    21902592 gpu_bfc\n",
      " 26057268                     Variable/Assign(146)     1000192    22902784 gpu_bfc\n",
      " 26130546                   Variable_1/Assign(147)     1010176    23912960 gpu_bfc\n",
      " 26182670                   Variable_1/Assign(147)     1010176    24923136 gpu_bfc\n",
      " 26247891                   Variable_2/Assign(148)     1020160    25943296 gpu_bfc\n",
      " 26294834                   Variable_2/Assign(148)     1020160    26963456 gpu_bfc\n",
      " 26365584                   Variable_3/Assign(149)     1030144    27993600 gpu_bfc\n",
      " 26415122                   Variable_3/Assign(149)     1030144    29023744 gpu_bfc\n",
      " 26478645                   Variable_4/Assign(150)     1040128    30063872 gpu_bfc\n",
      " 26523478                   Variable_4/Assign(150)     1040128    31104000 gpu_bfc\n",
      " 26585420                   Variable_5/Assign(151)     1050112    32154112 gpu_bfc\n",
      " 26638277                   Variable_5/Assign(151)     1050112    33204224 gpu_bfc\n",
      " 26701256                   Variable_6/Assign(152)     1060096    34264320 gpu_bfc\n",
      " 26763109                   Variable_6/Assign(152)     1060096    35324416 gpu_bfc\n",
      " 26828124                   Variable_7/Assign(153)     1070080    36394496 gpu_bfc\n",
      " 26879594                   Variable_7/Assign(153)     1070080    37464576 gpu_bfc\n",
      " 26941765                   Variable_8/Assign(154)     1080064    38544640 gpu_bfc\n",
      " 26992909                   Variable_8/Assign(154)     1080064    39624704 gpu_bfc\n",
      " 27054838                   Variable_9/Assign(155)     1090048    40714752 gpu_bfc\n",
      " 27104888                   Variable_9/Assign(155)     1090048    41804800 gpu_bfc\n"
     ]
    }
   ],
   "source": [
    "print_memory_timeline(stderr, True)"
   ]
  },
  {
   "cell_type": "code",
   "execution_count": 172,
   "metadata": {
    "collapsed": false
   },
   "outputs": [
    {
     "data": {
      "text/plain": [
       "''"
      ]
     },
     "execution_count": 172,
     "metadata": {},
     "output_type": "execute_result"
    }
   ],
   "source": [
    "stderr"
   ]
  },
  {
   "cell_type": "code",
   "execution_count": 6,
   "metadata": {
    "collapsed": false
   },
   "outputs": [
    {
     "name": "stdout",
     "output_type": "stream",
     "text": [
      "5673393648605456                        Variable_1/Assign    -2400000    -2400000\n",
      "5673393656787488                                <unknown>     4194304     1794304\n",
      "5673393657308740                                <unknown>    -4194304    -2400000\n",
      "5673393658231311                        Variable_2/Assign    -2400000    -4800000\n",
      "5673393659455275                                <unknown>    -4194304    -8994304\n",
      "5673393660251868                                <unknown>     2400000    -6594304\n",
      "5673393660329886                                <unknown>    -2400000    -8994304\n",
      "5673393661524035                                    zeros    -2400000   -11394304\n",
      "5673393685583929                                <unknown>     2400000    -8994304\n",
      "5673393685667151                                <unknown>    -2400000   -11394304\n",
      "5673393685891235                                    zeros     2400000    -8994304\n",
      "5673393687330275                                <unknown>     2400000    -6594304\n",
      "5673393687389556                                <unknown>    -2400000    -8994304\n",
      "5673393687595884                                  zeros_1     2400000    -6594304\n",
      "5673393689038425                                <unknown>     2400000    -4194304\n",
      "5673393689103328                                <unknown>    -2400000    -6594304\n",
      "5673393689309439                                  zeros_2     2400000    -4194304\n",
      "5673394471197848                          Variable/Assign     2400000    -1794304\n",
      "5673394471421704                        Variable_1/Assign     2400000      605696\n",
      "5673394471564921                        Variable_2/Assign     2400000     3005696\n"
     ]
    }
   ],
   "source": [
    "print_memory_timeline(stderr)"
   ]
  },
  {
   "cell_type": "code",
   "execution_count": 9,
   "metadata": {
    "collapsed": false,
    "scrolled": true
   },
   "outputs": [
    {
     "data": {
      "text/plain": [
       "'mem<BEGIN>[1]\\nI 5673393643.000000 file tensorflow/core/framework/log_memory.cc:41] __LOG_MEMORY__ MemoryLogTensorOutput { step_id: 1 kernel_name: \"Print\" tensor { dtype: DT_INT32 shape { } allocation_description { requested_bytes: 4 allocated_bytes: 4 allocator_name: \"cpu\" allocation_id: 2 ptr: 71433760 } } } timestamp 5673393643687045\\nI 5673393643.000000 file tensorflow/core/common_runtime/executor.cc:1267] Process node: 5 step 1 _send_Print_0 = _Send[T=DT_INT32, client_terminated=true, recv_device=\"/job:localhost/replica:0/task:0/cpu:0\", send_device=\"/job:localhost/replica:0/task:0/cpu:0\", send_device_incarnation=5079634328368980445, tensor_name=\"Print:0\", _device=\"/job:localhost/replica:0/task:0/cpu:0\"](Print)\\nI 5673393643.000000 file tensorflow/core/common_runtime/rendezvous_mgr.cc:42] IntraProcessRendezvous Send 0x4422080 /job:localhost/replica:0/task:0/cpu:0;467e7c82335021dd;/job:localhost/replica:0/task:0/cpu:0;Print:0;0:0\\nI 5673393643.000000 file tensorflow/core/common_runtime/rendezvous_mgr.cc:115] IntraProcessRendezvous Recv 0x4422080 /job:localhost/replica:0/task:0/cpu:0;467e7c82335021dd;/job:localhost/replica:0/task:0/cpu:0;Print:0;0:0\\nI 5673393645.000000 file tensorflow/core/common_runtime/simple_placer.cc:827] Variable_2: (Variable)/job:localhost/replica:0/task:0/gpu:0\\nI 5673393645.000000 file tensorflow/core/common_runtime/simple_placer.cc:827] Variable_1: (Variable)/job:localhost/replica:0/task:0/gpu:0\\nI 5673393645.000000 file tensorflow/core/common_runtime/simple_placer.cc:827] Variable: (Variable)/job:localhost/replica:0/task:0/gpu:0\\nI 5673393645.000000 file tensorflow/core/common_runtime/simple_placer.cc:827] Variable/Assign: (Assign)/job:localhost/replica:0/task:0/gpu:0\\nI 5673393645.000000 file tensorflow/core/common_runtime/simple_placer.cc:827] Variable_1/Assign: (Assign)/job:localhost/replica:0/task:0/gpu:0\\nI 5673393645.000000 file tensorflow/core/common_runtime/simple_placer.cc:827] Variable_2/Assign: (Assign)/job:localhost/replica:0/task:0/gpu:0\\nI 5673393645.000000 file tensorflow/core/common_runtime/simple_placer.cc:827] group_deps: (NoOp)/job:localhost/replica:0/task:0/gpu:0\\nI 5673393645.000000 file tensorflow/core/common_runtime/simple_placer.cc:827] zeros_2: (Const)/job:localhost/replica:0/task:0/gpu:0\\nI 5673393645.000000 file tensorflow/core/common_runtime/simple_placer.cc:827] zeros_1: (Const)/job:localhost/replica:0/task:0/gpu:0\\nI 5673393645.000000 file tensorflow/core/common_runtime/simple_placer.cc:827] zeros: (Const)/job:localhost/replica:0/task:0/gpu:0\\nI 5673393645.000000 file tensorflow/core/common_runtime/simple_graph_execution_state.cc:279] BuildGraph\\nI 5673393645.000000 file tensorflow/core/graph/graph_partition.cc:1049] Added send/recv: controls=0, data=0\\nI 5673393645.000000 file tensorflow/core/common_runtime/function.cc:457] Graph Initial #nodes 12 #edges 19\\nI 5673393645.000000 file tensorflow/core/common_runtime/function.cc:457] Graph ReCopy #nodes 12 #edges 20\\nI 5673393646.000000 file tensorflow/core/common_runtime/memory_types.cc:83] 3:0 -> 4:0: 0 -> 0\\nI 5673393646.000000 file tensorflow/core/common_runtime/memory_types.cc:83] 2:0 -> 4:1: 0 -> 0\\nI 5673393646.000000 file tensorflow/core/common_runtime/memory_types.cc:83] 6:0 -> 7:0: 0 -> 0\\nI 5673393646.000000 file tensorflow/core/common_runtime/memory_types.cc:83] 5:0 -> 7:1: 0 -> 0\\nI 5673393646.000000 file tensorflow/core/common_runtime/memory_types.cc:83] 9:0 -> 10:0: 0 -> 0\\nI 5673393646.000000 file tensorflow/core/common_runtime/memory_types.cc:83] 8:0 -> 10:1: 0 -> 0\\nI 5673393646.000000 file tensorflow/core/common_runtime/memory_types.cc:83] 3:0 -> 4:0: 0 -> 0\\nI 5673393646.000000 file tensorflow/core/common_runtime/memory_types.cc:83] 2:0 -> 4:1: 0 -> 0\\nI 5673393646.000000 file tensorflow/core/common_runtime/memory_types.cc:83] 6:0 -> 7:0: 0 -> 0\\nI 5673393646.000000 file tensorflow/core/common_runtime/memory_types.cc:83] 5:0 -> 7:1: 0 -> 0\\nI 5673393646.000000 file tensorflow/core/common_runtime/memory_types.cc:83] 9:0 -> 10:0: 0 -> 0\\nI 5673393646.000000 file tensorflow/core/common_runtime/memory_types.cc:83] 8:0 -> 10:1: 0 -> 0\\nI 5673393646.000000 file tensorflow/core/framework/op_kernel.cc:840] Instantiating kernel for node: _SOURCE = NoOp[]()\\nI 5673393646.000000 file tensorflow/core/framework/op_kernel.cc:840] Instantiating kernel for node: _SINK = NoOp[]()\\nI 5673393648.000000 file tensorflow/core/framework/log_memory.cc:41] __LOG_MEMORY__ MemoryLogTensorAllocation { step_id: -6 kernel_name: \"Unknown (from Proto)\" tensor { dtype: DT_FLOAT shape { dim { size: 600000 } } allocation_description { requested_bytes: 2400000 allocated_bytes: 2400000 allocator_name: \"cpu\" allocation_id: 7 has_single_reference: true ptr: 71638944 } } } timestamp 5673393648489591\\nI 5673393648.000000 file tensorflow/core/framework/log_memory.cc:41] __LOG_MEMORY__ MemoryLogTensorDeallocation { allocation_id: 7 allocator_name: \"cpu\" } timestamp 5673393648605456\\nI 5673393648.000000 file tensorflow/core/framework/op_kernel.cc:840] Instantiating kernel for node: zeros = Const[dtype=DT_FLOAT, value=Tensor<type: float shape: [600000] values: 0 0 0...>, _device=\"/job:localhost/replica:0/task:0/gpu:0\"]()\\nI 5673393648.000000 file tensorflow/core/common_runtime/bfc_allocator.cc:56] Creating bin of max chunk size 256B\\nI 5673393648.000000 file tensorflow/core/common_runtime/bfc_allocator.cc:56] Creating bin of max chunk size 512B\\nI 5673393648.000000 file tensorflow/core/common_runtime/bfc_allocator.cc:56] Creating bin of max chunk size 1.0KiB\\nI 5673393648.000000 file tensorflow/core/common_runtime/bfc_allocator.cc:56] Creating bin of max chunk size 2.0KiB\\nI 5673393648.000000 file tensorflow/core/common_runtime/bfc_allocator.cc:56] Creating bin of max chunk size 4.0KiB\\nI 5673393648.000000 file tensorflow/core/common_runtime/bfc_allocator.cc:56] Creating bin of max chunk size 8.0KiB\\nI 5673393648.000000 file tensorflow/core/common_runtime/bfc_allocator.cc:56] Creating bin of max chunk size 16.0KiB\\nI 5673393648.000000 file tensorflow/core/common_runtime/bfc_allocator.cc:56] Creating bin of max chunk size 32.0KiB\\nI 5673393648.000000 file tensorflow/core/common_runtime/bfc_allocator.cc:56] Creating bin of max chunk size 64.0KiB\\nI 5673393648.000000 file tensorflow/core/common_runtime/bfc_allocator.cc:56] Creating bin of max chunk size 128.0KiB\\nI 5673393648.000000 file tensorflow/core/common_runtime/bfc_allocator.cc:56] Creating bin of max chunk size 256.0KiB\\nI 5673393648.000000 file tensorflow/core/common_runtime/bfc_allocator.cc:56] Creating bin of max chunk size 512.0KiB\\nI 5673393648.000000 file tensorflow/core/common_runtime/bfc_allocator.cc:56] Creating bin of max chunk size 1.00MiB\\nI 5673393648.000000 file tensorflow/core/common_runtime/bfc_allocator.cc:56] Creating bin of max chunk size 2.00MiB\\nI 5673393648.000000 file tensorflow/core/common_runtime/bfc_allocator.cc:56] Creating bin of max chunk size 4.00MiB\\nI 5673393648.000000 file tensorflow/core/common_runtime/bfc_allocator.cc:56] Creating bin of max chunk size 8.00MiB\\nI 5673393648.000000 file tensorflow/core/common_runtime/bfc_allocator.cc:56] Creating bin of max chunk size 16.00MiB\\nI 5673393648.000000 file tensorflow/core/common_runtime/bfc_allocator.cc:56] Creating bin of max chunk size 32.00MiB\\nI 5673393648.000000 file tensorflow/core/common_runtime/bfc_allocator.cc:56] Creating bin of max chunk size 64.00MiB\\nI 5673393648.000000 file tensorflow/core/common_runtime/bfc_allocator.cc:56] Creating bin of max chunk size 128.00MiB\\nI 5673393648.000000 file tensorflow/core/common_runtime/bfc_allocator.cc:56] Creating bin of max chunk size 256.00MiB\\nI 5673393655.000000 file tensorflow/stream_executor/stream_executor_pimpl.cc:428] Called StreamExecutor::HostMemoryAllocate(size=4194304) returns 0x104d8400000\\nI 5673393656.000000 file tensorflow/core/common_runtime/bfc_allocator.cc:133] Extending allocation by 4.00MiB bytes.\\nI 5673393656.000000 file tensorflow/core/common_runtime/bfc_allocator.cc:137] Total allocated bytes: 4.00MiB\\nI 5673393656.000000 file tensorflow/core/common_runtime/bfc_allocator.cc:140] Allocated memory at 0x104d8400000 to 0x104d8800000\\nI 5673393656.000000 file tensorflow/core/framework/log_memory.cc:41] __LOG_MEMORY__ MemoryLogTensorAllocation { step_id: -6 kernel_name: \"Unknown (from Proto)\" tensor { dtype: DT_FLOAT shape { dim { size: 600000 } } allocation_description { requested_bytes: 2400000 allocated_bytes: 4194304 allocator_name: \"cuda_host_bfc\" allocation_id: 1 has_single_reference: true ptr: 1120319569920 } } } timestamp 5673393656787488\\nI 5673393656.000000 file tensorflow/core/framework/log_memory.cc:41] __LOG_MEMORY__ MemoryLogTensorAllocation { step_id: -6 kernel_name: \"Unknown\" tensor { dtype: DT_FLOAT shape { dim { size: 600000 } } allocation_description { requested_bytes: 2400000 allocated_bytes: 2400000 allocator_name: \"gpu_bfc\" allocation_id: 3 has_single_reference: true ptr: 1108325960192 } } } timestamp 5673393656851306\\nI 5673393656.000000 file tensorflow/core/common_runtime/gpu/gpu_util.cc:308] CopyCPUTensorToGPU\\nI 5673393656.000000 file tensorflow/stream_executor/stream.cc:1331] Called Stream::ThenWaitFor(other=0x43701f0) stream=0x4370b20\\nI 5673393656.000000 file tensorflow/stream_executor/stream.cc:3783] Called Stream::ThenMemcpy(gpu_dst=0x1020d600a00, host_src=0x104d8400000, size=2400000) stream=0x4370b20\\nI 5673393657.000000 file tensorflow/stream_executor/stream.cc:268] Called Stream::ThenRecordEvent(event=0x4448d70) stream=0x4370b20\\nI 5673393657.000000 file tensorflow/core/framework/log_memory.cc:41] __LOG_MEMORY__ MemoryLogTensorDeallocation { allocation_id: 1 allocator_name: \"cuda_host_bfc\" } timestamp 5673393657308740\\nI 5673393657.000000 file tensorflow/core/framework/op_kernel.cc:840] Instantiating kernel for node: Variable = Variable[container=\"\", dtype=DT_FLOAT, shape=[600000], shared_name=\"\", _device=\"/job:localhost/replica:0/task:0/gpu:0\"]()\\nI 5673393657.000000 file tensorflow/core/framework/op_kernel.cc:840] Instantiating kernel for node: Variable/Assign = Assign[T=DT_FLOAT, _class=[\"loc:@Variable\"], use_locking=true, validate_shape=true, _device=\"/job:localhost/replica:0/task:0/gpu:0\"](Variable, zeros)\\nI 5673393658.000000 file tensorflow/core/framework/log_memory.cc:41] __LOG_MEMORY__ MemoryLogTensorAllocation { step_id: -6 kernel_name: \"Unknown (from Proto)\" tensor { dtype: DT_FLOAT shape { dim { size: 600000 } } allocation_description { requested_bytes: 2400000 allocated_bytes: 2400000 allocator_name: \"cpu\" allocation_id: 8 has_single_reference: true ptr: 71704448 } } } timestamp 5673393658156962\\nI 5673393658.000000 file tensorflow/core/framework/log_memory.cc:41] __LOG_MEMORY__ MemoryLogTensorDeallocation { allocation_id: 8 allocator_name: \"cpu\" } timestamp 5673393658231311\\nI 5673393658.000000 file tensorflow/core/framework/op_kernel.cc:840] Instantiating kernel for node: zeros_1 = Const[dtype=DT_FLOAT, value=Tensor<type: float shape: [600000] values: 0 0 0...>, _device=\"/job:localhost/replica:0/task:0/gpu:0\"]()\\nI 5673393658.000000 file tensorflow/core/framework/log_memory.cc:41] __LOG_MEMORY__ MemoryLogTensorAllocation { step_id: -6 kernel_name: \"Unknown (from Proto)\" tensor { dtype: DT_FLOAT shape { dim { size: 600000 } } allocation_description { requested_bytes: 2400000 allocated_bytes: 4194304 allocator_name: \"cuda_host_bfc\" allocation_id: 2 has_single_reference: true ptr: 1120319569920 } } } timestamp 5673393658850794\\nI 5673393658.000000 file tensorflow/core/framework/log_memory.cc:41] __LOG_MEMORY__ MemoryLogTensorAllocation { step_id: -6 kernel_name: \"Unknown\" tensor { dtype: DT_FLOAT shape { dim { size: 600000 } } allocation_description { requested_bytes: 2400000 allocated_bytes: 2400000 allocator_name: \"gpu_bfc\" allocation_id: 4 has_single_reference: true ptr: 1108328360192 } } } timestamp 5673393658899384\\nI 5673393658.000000 file tensorflow/core/common_runtime/gpu/gpu_util.cc:308] CopyCPUTensorToGPU\\nI 5673393658.000000 file tensorflow/stream_executor/stream.cc:1331] Called Stream::ThenWaitFor(other=0x43701f0) stream=0x4370b20\\nI 5673393658.000000 file tensorflow/stream_executor/stream.cc:3783] Called Stream::ThenMemcpy(gpu_dst=0x1020d84a900, host_src=0x104d8400000, size=2400000) stream=0x4370b20\\nI 5673393659.000000 file tensorflow/stream_executor/stream.cc:268] Called Stream::ThenRecordEvent(event=0x4448d70) stream=0x4370b20\\nI 5673393659.000000 file tensorflow/core/framework/log_memory.cc:41] __LOG_MEMORY__ MemoryLogTensorDeallocation { allocation_id: 2 allocator_name: \"cuda_host_bfc\" } timestamp 5673393659455275\\nI 5673393659.000000 file tensorflow/core/framework/op_kernel.cc:840] Instantiating kernel for node: Variable_1 = Variable[container=\"\", dtype=DT_FLOAT, shape=[600000], shared_name=\"\", _device=\"/job:localhost/replica:0/task:0/gpu:0\"]()\\nI 5673393659.000000 file tensorflow/core/framework/op_kernel.cc:840] Instantiating kernel for node: Variable_1/Assign = Assign[T=DT_FLOAT, _class=[\"loc:@Variable_1\"], use_locking=true, validate_shape=true, _device=\"/job:localhost/replica:0/task:0/gpu:0\"](Variable_1, zeros_1, ^Variable/Assign)\\nI 5673393660.000000 file tensorflow/core/framework/log_memory.cc:41] __LOG_MEMORY__ MemoryLogTensorAllocation { step_id: -6 kernel_name: \"Unknown (from Proto)\" tensor { dtype: DT_FLOAT shape { dim { size: 600000 } } allocation_description { requested_bytes: 2400000 allocated_bytes: 2400000 allocator_name: \"cpu\" allocation_id: 9 has_single_reference: true ptr: 71704448 } } } timestamp 5673393660251868\\nI 5673393660.000000 file tensorflow/core/framework/log_memory.cc:41] __LOG_MEMORY__ MemoryLogTensorDeallocation { allocation_id: 9 allocator_name: \"cpu\" } timestamp 5673393660329886\\nI 5673393660.000000 file tensorflow/core/framework/op_kernel.cc:840] Instantiating kernel for node: zeros_2 = Const[dtype=DT_FLOAT, value=Tensor<type: float shape: [600000] values: 0 0 0...>, _device=\"/job:localhost/replica:0/task:0/gpu:0\"]()\\nI 5673393660.000000 file tensorflow/core/framework/log_memory.cc:41] __LOG_MEMORY__ MemoryLogTensorAllocation { step_id: -6 kernel_name: \"Unknown (from Proto)\" tensor { dtype: DT_FLOAT shape { dim { size: 600000 } } allocation_description { requested_bytes: 2400000 allocated_bytes: 4194304 allocator_name: \"cuda_host_bfc\" allocation_id: 3 has_single_reference: true ptr: 1120319569920 } } } timestamp 5673393660958291\\nI 5673393661.000000 file tensorflow/core/framework/log_memory.cc:41] __LOG_MEMORY__ MemoryLogTensorAllocation { step_id: -6 kernel_name: \"Unknown\" tensor { dtype: DT_FLOAT shape { dim { size: 600000 } } allocation_description { requested_bytes: 2400000 allocated_bytes: 2400000 allocator_name: \"gpu_bfc\" allocation_id: 5 has_single_reference: true ptr: 1108330760192 } } } timestamp 5673393661004793\\nI 5673393661.000000 file tensorflow/core/common_runtime/gpu/gpu_util.cc:308] CopyCPUTensorToGPU\\nI 5673393661.000000 file tensorflow/stream_executor/stream.cc:1331] Called Stream::ThenWaitFor(other=0x43701f0) stream=0x4370b20\\nI 5673393661.000000 file tensorflow/stream_executor/stream.cc:3783] Called Stream::ThenMemcpy(gpu_dst=0x1020da94800, host_src=0x104d8400000, size=2400000) stream=0x4370b20\\nI 5673393661.000000 file tensorflow/stream_executor/stream.cc:268] Called Stream::ThenRecordEvent(event=0x4448d70) stream=0x4370b20\\nI 5673393661.000000 file tensorflow/core/framework/log_memory.cc:41] __LOG_MEMORY__ MemoryLogTensorDeallocation { allocation_id: 3 allocator_name: \"cuda_host_bfc\" } timestamp 5673393661524035\\nI 5673393661.000000 file tensorflow/core/framework/op_kernel.cc:840] Instantiating kernel for node: Variable_2 = Variable[container=\"\", dtype=DT_FLOAT, shape=[600000], shared_name=\"\", _device=\"/job:localhost/replica:0/task:0/gpu:0\"]()\\nI 5673393661.000000 file tensorflow/core/framework/op_kernel.cc:840] Instantiating kernel for node: Variable_2/Assign = Assign[T=DT_FLOAT, _class=[\"loc:@Variable_2\"], use_locking=true, validate_shape=true, _device=\"/job:localhost/replica:0/task:0/gpu:0\"](Variable_2, zeros_2, ^Variable_1/Assign)\\nI 5673393661.000000 file tensorflow/core/framework/op_kernel.cc:840] Instantiating kernel for node: group_deps = NoOp[_device=\"/job:localhost/replica:0/task:0/gpu:0\"](^Variable/Assign, ^Variable_1/Assign, ^Variable_2/Assign)\\nI 5673393661.000000 file tensorflow/core/framework/log_memory.cc:41] __LOG_MEMORY__ MemoryLogStep { step_id: 2 handle: \"->/group_deps/0/;1\" } timestamp 5673393661785237\\nI 5673393661.000000 file tensorflow/core/common_runtime/executor.cc:1267] Process node: 0 step 2 _SOURCE = NoOp[]()\\nI 5673393684.000000 file tensorflow/core/common_runtime/gpu/gpu_device.cc:330] GpuDevice::Compute _SOURCE op NoOp on GPU0 stream[0]\\nI 5673393685.000000 file tensorflow/core/framework/log_memory.cc:41] __LOG_MEMORY__ MemoryLogTensorAllocation { step_id: -6 kernel_name: \"Unknown (from Proto)\" tensor { dtype: DT_FLOAT shape { dim { size: 600000 } } allocation_description { requested_bytes: 2400000 allocated_bytes: 2400000 allocator_name: \"cpu\" allocation_id: 10 has_single_reference: true ptr: 139665961336256 } } } timestamp 5673393685583929\\nI 5673393685.000000 file tensorflow/core/framework/log_memory.cc:41] __LOG_MEMORY__ MemoryLogTensorDeallocation { allocation_id: 10 allocator_name: \"cpu\" } timestamp 5673393685667151\\nI 5673393685.000000 file tensorflow/core/common_runtime/executor.cc:1267] Process node: 2 step 2 zeros = Const[dtype=DT_FLOAT, value=Tensor<type: float shape: [600000] values: 0 0 0...>, _device=\"/job:localhost/replica:0/task:0/gpu:0\"]()\\nI 5673393685.000000 file tensorflow/core/common_runtime/gpu/gpu_device.cc:330] GpuDevice::Compute zeros op Const on GPU0 stream[0]\\nI 5673393685.000000 file tensorflow/core/framework/log_memory.cc:41] __LOG_MEMORY__ MemoryLogTensorOutput { step_id: 2 kernel_name: \"zeros\" tensor { dtype: DT_FLOAT shape { dim { size: 600000 } } allocation_description { requested_bytes: 2400000 allocated_bytes: 2400000 allocator_name: \"gpu_bfc\" allocation_id: 3 ptr: 1108325960192 } } } timestamp 5673393685891235\\nI 5673393685.000000 file tensorflow/core/common_runtime/executor.cc:1267] Process node: 3 step 2 Variable = Variable[container=\"\", dtype=DT_FLOAT, shape=[600000], shared_name=\"\", _device=\"/job:localhost/replica:0/task:0/gpu:0\"]()\\nI 5673393685.000000 file tensorflow/core/common_runtime/gpu/gpu_device.cc:330] GpuDevice::Compute Variable op Variable on GPU0 stream[0]\\nI 5673393685.000000 file tensorflow/core/framework/log_memory.cc:41] __LOG_MEMORY__ MemoryLogTensorOutput { step_id: 2 kernel_name: \"Variable\" tensor { dtype: DT_FLOAT shape { dim { size: 600000 } } } } timestamp 5673393685962783\\nI 5673393687.000000 file tensorflow/core/framework/log_memory.cc:41] __LOG_MEMORY__ MemoryLogTensorAllocation { step_id: -6 kernel_name: \"Unknown (from Proto)\" tensor { dtype: DT_FLOAT shape { dim { size: 600000 } } allocation_description { requested_bytes: 2400000 allocated_bytes: 2400000 allocator_name: \"cpu\" allocation_id: 11 has_single_reference: true ptr: 139665961336352 } } } timestamp 5673393687330275\\nI 5673393687.000000 file tensorflow/core/framework/log_memory.cc:41] __LOG_MEMORY__ MemoryLogTensorDeallocation { allocation_id: 11 allocator_name: \"cpu\" } timestamp 5673393687389556\\nI 5673393687.000000 file tensorflow/core/common_runtime/executor.cc:1267] Process node: 5 step 2 zeros_1 = Const[dtype=DT_FLOAT, value=Tensor<type: float shape: [600000] values: 0 0 0...>, _device=\"/job:localhost/replica:0/task:0/gpu:0\"]()\\nI 5673393687.000000 file tensorflow/core/common_runtime/gpu/gpu_device.cc:330] GpuDevice::Compute zeros_1 op Const on GPU0 stream[0]\\nI 5673393687.000000 file tensorflow/core/framework/log_memory.cc:41] __LOG_MEMORY__ MemoryLogTensorOutput { step_id: 2 kernel_name: \"zeros_1\" tensor { dtype: DT_FLOAT shape { dim { size: 600000 } } allocation_description { requested_bytes: 2400000 allocated_bytes: 2400000 allocator_name: \"gpu_bfc\" allocation_id: 4 ptr: 1108328360192 } } } timestamp 5673393687595884\\nI 5673393687.000000 file tensorflow/core/common_runtime/executor.cc:1267] Process node: 6 step 2 Variable_1 = Variable[container=\"\", dtype=DT_FLOAT, shape=[600000], shared_name=\"\", _device=\"/job:localhost/replica:0/task:0/gpu:0\"]()\\nI 5673393687.000000 file tensorflow/core/common_runtime/gpu/gpu_device.cc:330] GpuDevice::Compute Variable_1 op Variable on GPU0 stream[0]\\nI 5673393687.000000 file tensorflow/core/framework/log_memory.cc:41] __LOG_MEMORY__ MemoryLogTensorOutput { step_id: 2 kernel_name: \"Variable_1\" tensor { dtype: DT_FLOAT shape { dim { size: 600000 } } } } timestamp 5673393687656467\\nI 5673393689.000000 file tensorflow/core/framework/log_memory.cc:41] __LOG_MEMORY__ MemoryLogTensorAllocation { step_id: -6 kernel_name: \"Unknown (from Proto)\" tensor { dtype: DT_FLOAT shape { dim { size: 600000 } } allocation_description { requested_bytes: 2400000 allocated_bytes: 2400000 allocator_name: \"cpu\" allocation_id: 12 has_single_reference: true ptr: 139665961336736 } } } timestamp 5673393689038425\\nI 5673393689.000000 file tensorflow/core/framework/log_memory.cc:41] __LOG_MEMORY__ MemoryLogTensorDeallocation { allocation_id: 12 allocator_name: \"cpu\" } timestamp 5673393689103328\\nI 5673393689.000000 file tensorflow/core/common_runtime/executor.cc:1267] Process node: 8 step 2 zeros_2 = Const[dtype=DT_FLOAT, value=Tensor<type: float shape: [600000] values: 0 0 0...>, _device=\"/job:localhost/replica:0/task:0/gpu:0\"]()\\nI 5673393689.000000 file tensorflow/core/common_runtime/gpu/gpu_device.cc:330] GpuDevice::Compute zeros_2 op Const on GPU0 stream[0]\\nI 5673393689.000000 file tensorflow/core/framework/log_memory.cc:41] __LOG_MEMORY__ MemoryLogTensorOutput { step_id: 2 kernel_name: \"zeros_2\" tensor { dtype: DT_FLOAT shape { dim { size: 600000 } } allocation_description { requested_bytes: 2400000 allocated_bytes: 2400000 allocator_name: \"gpu_bfc\" allocation_id: 5 ptr: 1108330760192 } } } timestamp 5673393689309439\\nI 5673393689.000000 file tensorflow/core/common_runtime/executor.cc:1267] Process node: 9 step 2 Variable_2 = Variable[container=\"\", dtype=DT_FLOAT, shape=[600000], shared_name=\"\", _device=\"/job:localhost/replica:0/task:0/gpu:0\"]()\\nI 5673393689.000000 file tensorflow/core/common_runtime/gpu/gpu_device.cc:330] GpuDevice::Compute Variable_2 op Variable on GPU0 stream[0]\\nI 5673393689.000000 file tensorflow/core/framework/log_memory.cc:41] __LOG_MEMORY__ MemoryLogTensorOutput { step_id: 2 kernel_name: \"Variable_2\" tensor { dtype: DT_FLOAT shape { dim { size: 600000 } } } } timestamp 5673393689377610\\nI 5673393689.000000 file tensorflow/core/common_runtime/executor.cc:1267] Process node: 4 step 2 Variable/Assign = Assign[T=DT_FLOAT, _class=[\"loc:@Variable\"], use_locking=true, validate_shape=true, _device=\"/job:localhost/replica:0/task:0/gpu:0\"](Variable, zeros)\\nI 5673393689.000000 file tensorflow/core/common_runtime/gpu/gpu_device.cc:330] GpuDevice::Compute Variable/Assign op Assign on GPU0 stream[0]\\nI 5673393689.000000 file tensorflow/core/framework/log_memory.cc:41] __LOG_MEMORY__ MemoryLogTensorAllocation { step_id: 2 kernel_name: \"Variable/Assign\" tensor { dtype: DT_FLOAT shape { dim { size: 600000 } } allocation_description { requested_bytes: 2400000 allocated_bytes: 2400000 allocator_name: \"gpu_bfc\" allocation_id: 6 has_single_reference: true ptr: 1108333160192 } } } timestamp 5673393689432444\\nI 5673394471.000000 file tensorflow/core/framework/log_memory.cc:41] __LOG_MEMORY__ MemoryLogTensorOutput { step_id: 2 kernel_name: \"Variable/Assign\" tensor { dtype: DT_FLOAT shape { dim { size: 600000 } } allocation_description { requested_bytes: 2400000 allocated_bytes: 2400000 allocator_name: \"gpu_bfc\" allocation_id: 6 ptr: 1108333160192 } } } timestamp 5673394471197848\\nI 5673394471.000000 file tensorflow/core/common_runtime/executor.cc:1267] Process node: 7 step 2 Variable_1/Assign = Assign[T=DT_FLOAT, _class=[\"loc:@Variable_1\"], use_locking=true, validate_shape=true, _device=\"/job:localhost/replica:0/task:0/gpu:0\"](Variable_1, zeros_1, ^Variable/Assign)\\nI 5673394471.000000 file tensorflow/core/common_runtime/gpu/gpu_device.cc:330] GpuDevice::Compute Variable_1/Assign op Assign on GPU0 stream[0]\\nI 5673394471.000000 file tensorflow/core/framework/log_memory.cc:41] __LOG_MEMORY__ MemoryLogTensorAllocation { step_id: 2 kernel_name: \"Variable_1/Assign\" tensor { dtype: DT_FLOAT shape { dim { size: 600000 } } allocation_description { requested_bytes: 2400000 allocated_bytes: 2400000 allocator_name: \"gpu_bfc\" allocation_id: 7 has_single_reference: true ptr: 1108335560192 } } } timestamp 5673394471357033\\nI 5673394471.000000 file tensorflow/core/framework/log_memory.cc:41] __LOG_MEMORY__ MemoryLogTensorOutput { step_id: 2 kernel_name: \"Variable_1/Assign\" tensor { dtype: DT_FLOAT shape { dim { size: 600000 } } allocation_description { requested_bytes: 2400000 allocated_bytes: 2400000 allocator_name: \"gpu_bfc\" allocation_id: 7 ptr: 1108335560192 } } } timestamp 5673394471421704\\nI 5673394471.000000 file tensorflow/core/common_runtime/executor.cc:1267] Process node: 10 step 2 Variable_2/Assign = Assign[T=DT_FLOAT, _class=[\"loc:@Variable_2\"], use_locking=true, validate_shape=true, _device=\"/job:localhost/replica:0/task:0/gpu:0\"](Variable_2, zeros_2, ^Variable_1/Assign)\\nI 5673394471.000000 file tensorflow/core/common_runtime/gpu/gpu_device.cc:330] GpuDevice::Compute Variable_2/Assign op Assign on GPU0 stream[0]\\nI 5673394471.000000 file tensorflow/core/framework/log_memory.cc:41] __LOG_MEMORY__ MemoryLogTensorAllocation { step_id: 2 kernel_name: \"Variable_2/Assign\" tensor { dtype: DT_FLOAT shape { dim { size: 600000 } } allocation_description { requested_bytes: 2400000 allocated_bytes: 2400000 allocator_name: \"gpu_bfc\" allocation_id: 8 has_single_reference: true ptr: 1108337960192 } } } timestamp 5673394471509936\\nI 5673394471.000000 file tensorflow/core/framework/log_memory.cc:41] __LOG_MEMORY__ MemoryLogTensorOutput { step_id: 2 kernel_name: \"Variable_2/Assign\" tensor { dtype: DT_FLOAT shape { dim { size: 600000 } } allocation_description { requested_bytes: 2400000 allocated_bytes: 2400000 allocator_name: \"gpu_bfc\" allocation_id: 8 ptr: 1108337960192 } } } timestamp 5673394471564921\\nI 5673394471.000000 file tensorflow/core/common_runtime/executor.cc:1267] Process node: 11 step 2 group_deps = NoOp[_device=\"/job:localhost/replica:0/task:0/gpu:0\"](^Variable/Assign, ^Variable_1/Assign, ^Variable_2/Assign)\\nI 5673394471.000000 file tensorflow/core/common_runtime/gpu/gpu_device.cc:330] GpuDevice::Compute group_deps op NoOp on GPU0 stream[0]\\nI 5673394471.000000 file tensorflow/core/common_runtime/gpu/gpu_util.cc:363] GPUUtil::SyncAll\\nI 5673394471.000000 file tensorflow/stream_executor/stream_executor_pimpl.cc:457] Called StreamExecutor::SynchronizeAllActivity()\\nI 5673394476.000000 file tensorflow/core/graph/subgraph.cc:217] Created fetch node: _send_Print_1_0 = _Send[T=DT_INT32, client_terminated=true, recv_device=\"/job:localhost/replica:0/task:0/cpu:0\", send_device=\"/job:localhost/replica:0/task:0/cpu:0\", send_device_incarnation=5079634328368980445, tensor_name=\"Print_1:0\"](Print_1)\\nI 5673394476.000000 file tensorflow/core/common_runtime/simple_placer.cc:827] Print_1: (Print)/job:localhost/replica:0/task:0/cpu:0\\nI 5673394476.000000 file tensorflow/core/common_runtime/simple_placer.cc:827] Const_3: (Const)/job:localhost/replica:0/task:0/cpu:0\\nI 5673394476.000000 file tensorflow/core/common_runtime/simple_placer.cc:827] Const_2: (Const)/job:localhost/replica:0/task:0/cpu:0\\nI 5673394476.000000 file tensorflow/core/common_runtime/simple_graph_execution_state.cc:279] BuildGraph\\nI 5673394476.000000 file tensorflow/core/graph/graph_partition.cc:1049] Added send/recv: controls=0, data=0\\nI 5673394476.000000 file tensorflow/core/common_runtime/function.cc:457] Graph Initial #nodes 6 #edges 7\\nI 5673394476.000000 file tensorflow/core/common_runtime/function.cc:457] Graph ReCopy #nodes 6 #edges 8\\nI 5673394476.000000 file tensorflow/core/framework/op_kernel.cc:840] Instantiating kernel for node: _SOURCE = NoOp[]()\\nI 5673394476.000000 file tensorflow/core/framework/op_kernel.cc:840] Instantiating kernel for node: _SINK = NoOp[]()\\nI 5673394476.000000 file tensorflow/core/framework/log_memory.cc:41] __LOG_MEMORY__ MemoryLogTensorAllocation { step_id: -6 kernel_name: \"Unknown (from Proto)\" tensor { dtype: DT_INT32 shape { } allocation_description { requested_bytes: 4 allocated_bytes: 4 allocator_name: \"cpu\" allocation_id: 13 has_single_reference: true ptr: 71493728 } } } timestamp 5673394476895328\\nI 5673394476.000000 file tensorflow/core/framework/log_memory.cc:41] __LOG_MEMORY__ MemoryLogTensorDeallocation { allocation_id: 13 allocator_name: \"cpu\" } timestamp 5673394476939766\\nI 5673394476.000000 file tensorflow/core/framework/op_kernel.cc:840] Instantiating kernel for node: Const_2 = Const[dtype=DT_INT32, value=Tensor<type: int32 shape: [] values: 1>, _device=\"/job:localhost/replica:0/task:0/cpu:0\"]()\\nI 5673394477.000000 file tensorflow/core/framework/log_memory.cc:41] __LOG_MEMORY__ MemoryLogTensorAllocation { step_id: -6 kernel_name: \"Unknown (from Proto)\" tensor { dtype: DT_INT32 shape { } allocation_description { requested_bytes: 4 allocated_bytes: 4 allocator_name: \"cpu\" allocation_id: 14 has_single_reference: true ptr: 71566016 } } } timestamp 5673394476995985\\nI 5673394477.000000 file tensorflow/core/framework/log_memory.cc:41] __LOG_MEMORY__ MemoryLogTensorAllocation { step_id: -6 kernel_name: \"Unknown (from Proto)\" tensor { dtype: DT_INT32 shape { } allocation_description { requested_bytes: 4 allocated_bytes: 4 allocator_name: \"cpu\" allocation_id: 15 has_single_reference: true ptr: 71567904 } } } timestamp 5673394477045712\\nI 5673394477.000000 file tensorflow/core/framework/log_memory.cc:41] __LOG_MEMORY__ MemoryLogTensorDeallocation { allocation_id: 15 allocator_name: \"cpu\" } timestamp 5673394477072912\\nI 5673394477.000000 file tensorflow/core/framework/op_kernel.cc:840] Instantiating kernel for node: Const_3 = Const[dtype=DT_INT32, value=Tensor<type: int32 shape: [] values: 1>, _device=\"/job:localhost/replica:0/task:0/cpu:0\"]()\\nI 5673394477.000000 file tensorflow/core/framework/log_memory.cc:41] __LOG_MEMORY__ MemoryLogTensorAllocation { step_id: -6 kernel_name: \"Unknown (from Proto)\" tensor { dtype: DT_INT32 shape { } allocation_description { requested_bytes: 4 allocated_bytes: 4 allocator_name: \"cpu\" allocation_id: 16 has_single_reference: true ptr: 71496448 } } } timestamp 5673394477123330\\nI 5673394477.000000 file tensorflow/core/framework/op_kernel.cc:840] Instantiating kernel for node: Print_1 = Print[T=DT_INT32, U=[DT_INT32], first_n=-1, message=\"mem<END>\", summarize=3, _device=\"/job:localhost/replica:0/task:0/cpu:0\"](Const_2, Const_3)\\nI 5673394477.000000 file tensorflow/core/framework/op_kernel.cc:840] Instantiating kernel for node: _send_Print_1_0 = _Send[T=DT_INT32, client_terminated=true, recv_device=\"/job:localhost/replica:0/task:0/cpu:0\", send_device=\"/job:localhost/replica:0/task:0/cpu:0\", send_device_incarnation=5079634328368980445, tensor_name=\"Print_1:0\", _device=\"/job:localhost/replica:0/task:0/cpu:0\"](Print_1)\\nI 5673394477.000000 file tensorflow/core/framework/log_memory.cc:41] __LOG_MEMORY__ MemoryLogStep { step_id: 3 handle: \"->Print_1:0//0/;2\" } timestamp 5673394477283067\\nI 5673394477.000000 file tensorflow/core/common_runtime/executor.cc:1267] Process node: 0 step 3 _SOURCE = NoOp[]()\\nI 5673394477.000000 file tensorflow/core/framework/log_memory.cc:41] __LOG_MEMORY__ MemoryLogTensorAllocation { step_id: -6 kernel_name: \"Unknown (from Proto)\" tensor { dtype: DT_INT32 shape { } allocation_description { requested_bytes: 4 allocated_bytes: 4 allocator_name: \"cpu\" allocation_id: 17 has_single_reference: true ptr: 139665633654240 } } } timestamp 5673394477443808\\nI 5673394477.000000 file tensorflow/core/framework/log_memory.cc:41] __LOG_MEMORY__ MemoryLogTensorDeallocation { allocation_id: 17 allocator_name: \"cpu\" } timestamp 5673394477489482\\nI 5673394477.000000 file tensorflow/core/common_runtime/executor.cc:1267] Process node: 2 step 3 Const_2 = Const[dtype=DT_INT32, value=Tensor<type: int32 shape: [] values: 1>, _device=\"/job:localhost/replica:0/task:0/cpu:0\"]()\\nI 5673394477.000000 file tensorflow/core/framework/log_memory.cc:41] __LOG_MEMORY__ MemoryLogTensorOutput { step_id: 3 kernel_name: \"Const_2\" tensor { dtype: DT_INT32 shape { } allocation_description { requested_bytes: 4 allocated_bytes: 4 allocator_name: \"cpu\" allocation_id: 14 ptr: 71566016 } } } timestamp 5673394477530546\\nI 5673394477.000000 file tensorflow/core/framework/log_memory.cc:41] __LOG_MEMORY__ MemoryLogTensorAllocation { step_id: -6 kernel_name: \"Unknown (from Proto)\" tensor { dtype: DT_INT32 shape { } allocation_description { requested_bytes: 4 allocated_bytes: 4 allocator_name: \"cpu\" allocation_id: 18 has_single_reference: true ptr: 139665633654080 } } } timestamp 5673394477567170\\nI 5673394477.000000 file tensorflow/core/framework/log_memory.cc:41] __LOG_MEMORY__ MemoryLogTensorDeallocation { allocation_id: 18 allocator_name: \"cpu\" } timestamp 5673394477595833\\nI 5673394477.000000 file tensorflow/core/common_runtime/executor.cc:1267] Process node: 3 step 3 Const_3 = Const[dtype=DT_INT32, value=Tensor<type: int32 shape: [] values: 1>, _device=\"/job:localhost/replica:0/task:0/cpu:0\"]()\\nI 5673394477.000000 file tensorflow/core/framework/log_memory.cc:41] __LOG_MEMORY__ MemoryLogTensorOutput { step_id: 3 kernel_name: \"Const_3\" tensor { dtype: DT_INT32 shape { } allocation_description { requested_bytes: 4 allocated_bytes: 4 allocator_name: \"cpu\" allocation_id: 16 ptr: 71496448 } } } timestamp 5673394477644414\\nI 5673394477.000000 file tensorflow/core/common_runtime/executor.cc:1267] Process node: 4 step 3 Print_1 = Print[T=DT_INT32, U=[DT_INT32], first_n=-1, message=\"mem<END>\", summarize=3, _device=\"/job:localhost/replica:0/task:0/cpu:0\"](Const_2, Const_3)\\nI 5673394477.000000 file tensorflow/core/kernels/logging_ops.cc:79] '"
      ]
     },
     "execution_count": 9,
     "metadata": {},
     "output_type": "execute_result"
    }
   ],
   "source": [
    "stderr"
   ]
  },
  {
   "cell_type": "code",
   "execution_count": 75,
   "metadata": {
    "collapsed": true
   },
   "outputs": [],
   "source": [
    "stderr2 = 'mem<BEGIN>[1]\\nI 5673393643.000000 file tensorflow/core/framework/log_memory.cc:41] __LOG_MEMORY__ MemoryLogTensorOutput { step_id: 1 kernel_name: \"Print\" tensor { dtype: DT_INT32 shape { } allocation_description { requested_bytes: 4 allocated_bytes: 4 allocator_name: \"cpu\" allocation_id: 2 ptr: 71433760 } } } timestamp 5673393643687045\\nI 5673393643.000000 file tensorflow/core/common_runtime/executor.cc:1267] Process node: 5 step 1 _send_Print_0 = _Send[T=DT_INT32, client_terminated=true, recv_device=\"/job:localhost/replica:0/task:0/cpu:0\", send_device=\"/job:localhost/replica:0/task:0/cpu:0\", send_device_incarnation=5079634328368980445, tensor_name=\"Print:0\", _device=\"/job:localhost/replica:0/task:0/cpu:0\"](Print)\\nI 5673393643.000000 file tensorflow/core/common_runtime/rendezvous_mgr.cc:42] IntraProcessRendezvous Send 0x4422080 /job:localhost/replica:0/task:0/cpu:0;467e7c82335021dd;/job:localhost/replica:0/task:0/cpu:0;Print:0;0:0\\nI 5673393643.000000 file tensorflow/core/common_runtime/rendezvous_mgr.cc:115] IntraProcessRendezvous Recv 0x4422080 /job:localhost/replica:0/task:0/cpu:0;467e7c82335021dd;/job:localhost/replica:0/task:0/cpu:0;Print:0;0:0\\nI 5673393645.000000 file tensorflow/core/common_runtime/simple_placer.cc:827] Variable_2: (Variable)/job:localhost/replica:0/task:0/gpu:0\\nI 5673393645.000000 file tensorflow/core/common_runtime/simple_placer.cc:827] Variable_1: (Variable)/job:localhost/replica:0/task:0/gpu:0\\nI 5673393645.000000 file tensorflow/core/common_runtime/simple_placer.cc:827] Variable: (Variable)/job:localhost/replica:0/task:0/gpu:0\\nI 5673393645.000000 file tensorflow/core/common_runtime/simple_placer.cc:827] Variable/Assign: (Assign)/job:localhost/replica:0/task:0/gpu:0\\nI 5673393645.000000 file tensorflow/core/common_runtime/simple_placer.cc:827] Variable_1/Assign: (Assign)/job:localhost/replica:0/task:0/gpu:0\\nI 5673393645.000000 file tensorflow/core/common_runtime/simple_placer.cc:827] Variable_2/Assign: (Assign)/job:localhost/replica:0/task:0/gpu:0\\nI 5673393645.000000 file tensorflow/core/common_runtime/simple_placer.cc:827] group_deps: (NoOp)/job:localhost/replica:0/task:0/gpu:0\\nI 5673393645.000000 file tensorflow/core/common_runtime/simple_placer.cc:827] zeros_2: (Const)/job:localhost/replica:0/task:0/gpu:0\\nI 5673393645.000000 file tensorflow/core/common_runtime/simple_placer.cc:827] zeros_1: (Const)/job:localhost/replica:0/task:0/gpu:0\\nI 5673393645.000000 file tensorflow/core/common_runtime/simple_placer.cc:827] zeros: (Const)/job:localhost/replica:0/task:0/gpu:0\\nI 5673393645.000000 file tensorflow/core/common_runtime/simple_graph_execution_state.cc:279] BuildGraph\\nI 5673393645.000000 file tensorflow/core/graph/graph_partition.cc:1049] Added send/recv: controls=0, data=0\\nI 5673393645.000000 file tensorflow/core/common_runtime/function.cc:457] Graph Initial #nodes 12 #edges 19\\nI 5673393645.000000 file tensorflow/core/common_runtime/function.cc:457] Graph ReCopy #nodes 12 #edges 20\\nI 5673393646.000000 file tensorflow/core/common_runtime/memory_types.cc:83] 3:0 -> 4:0: 0 -> 0\\nI 5673393646.000000 file tensorflow/core/common_runtime/memory_types.cc:83] 2:0 -> 4:1: 0 -> 0\\nI 5673393646.000000 file tensorflow/core/common_runtime/memory_types.cc:83] 6:0 -> 7:0: 0 -> 0\\nI 5673393646.000000 file tensorflow/core/common_runtime/memory_types.cc:83] 5:0 -> 7:1: 0 -> 0\\nI 5673393646.000000 file tensorflow/core/common_runtime/memory_types.cc:83] 9:0 -> 10:0: 0 -> 0\\nI 5673393646.000000 file tensorflow/core/common_runtime/memory_types.cc:83] 8:0 -> 10:1: 0 -> 0\\nI 5673393646.000000 file tensorflow/core/common_runtime/memory_types.cc:83] 3:0 -> 4:0: 0 -> 0\\nI 5673393646.000000 file tensorflow/core/common_runtime/memory_types.cc:83] 2:0 -> 4:1: 0 -> 0\\nI 5673393646.000000 file tensorflow/core/common_runtime/memory_types.cc:83] 6:0 -> 7:0: 0 -> 0\\nI 5673393646.000000 file tensorflow/core/common_runtime/memory_types.cc:83] 5:0 -> 7:1: 0 -> 0\\nI 5673393646.000000 file tensorflow/core/common_runtime/memory_types.cc:83] 9:0 -> 10:0: 0 -> 0\\nI 5673393646.000000 file tensorflow/core/common_runtime/memory_types.cc:83] 8:0 -> 10:1: 0 -> 0\\nI 5673393646.000000 file tensorflow/core/framework/op_kernel.cc:840] Instantiating kernel for node: _SOURCE = NoOp[]()\\nI 5673393646.000000 file tensorflow/core/framework/op_kernel.cc:840] Instantiating kernel for node: _SINK = NoOp[]()\\nI 5673393648.000000 file tensorflow/core/framework/log_memory.cc:41] __LOG_MEMORY__ MemoryLogTensorAllocation { step_id: -6 kernel_name: \"Unknown (from Proto)\" tensor { dtype: DT_FLOAT shape { dim { size: 600000 } } allocation_description { requested_bytes: 2400000 allocated_bytes: 2400000 allocator_name: \"cpu\" allocation_id: 7 has_single_reference: true ptr: 71638944 } } } timestamp 5673393648489591\\nI 5673393648.000000 file tensorflow/core/framework/log_memory.cc:41] __LOG_MEMORY__ MemoryLogTensorDeallocation { allocation_id: 7 allocator_name: \"cpu\" } timestamp 5673393648605456\\nI 5673393648.000000 file tensorflow/core/framework/op_kernel.cc:840] Instantiating kernel for node: zeros = Const[dtype=DT_FLOAT, value=Tensor<type: float shape: [600000] values: 0 0 0...>, _device=\"/job:localhost/replica:0/task:0/gpu:0\"]()\\nI 5673393648.000000 file tensorflow/core/common_runtime/bfc_allocator.cc:56] Creating bin of max chunk size 256B\\nI 5673393648.000000 file tensorflow/core/common_runtime/bfc_allocator.cc:56] Creating bin of max chunk size 512B\\nI 5673393648.000000 file tensorflow/core/common_runtime/bfc_allocator.cc:56] Creating bin of max chunk size 1.0KiB\\nI 5673393648.000000 file tensorflow/core/common_runtime/bfc_allocator.cc:56] Creating bin of max chunk size 2.0KiB\\nI 5673393648.000000 file tensorflow/core/common_runtime/bfc_allocator.cc:56] Creating bin of max chunk size 4.0KiB\\nI 5673393648.000000 file tensorflow/core/common_runtime/bfc_allocator.cc:56] Creating bin of max chunk size 8.0KiB\\nI 5673393648.000000 file tensorflow/core/common_runtime/bfc_allocator.cc:56] Creating bin of max chunk size 16.0KiB\\nI 5673393648.000000 file tensorflow/core/common_runtime/bfc_allocator.cc:56] Creating bin of max chunk size 32.0KiB\\nI 5673393648.000000 file tensorflow/core/common_runtime/bfc_allocator.cc:56] Creating bin of max chunk size 64.0KiB\\nI 5673393648.000000 file tensorflow/core/common_runtime/bfc_allocator.cc:56] Creating bin of max chunk size 128.0KiB\\nI 5673393648.000000 file tensorflow/core/common_runtime/bfc_allocator.cc:56] Creating bin of max chunk size 256.0KiB\\nI 5673393648.000000 file tensorflow/core/common_runtime/bfc_allocator.cc:56] Creating bin of max chunk size 512.0KiB\\nI 5673393648.000000 file tensorflow/core/common_runtime/bfc_allocator.cc:56] Creating bin of max chunk size 1.00MiB\\nI 5673393648.000000 file tensorflow/core/common_runtime/bfc_allocator.cc:56] Creating bin of max chunk size 2.00MiB\\nI 5673393648.000000 file tensorflow/core/common_runtime/bfc_allocator.cc:56] Creating bin of max chunk size 4.00MiB\\nI 5673393648.000000 file tensorflow/core/common_runtime/bfc_allocator.cc:56] Creating bin of max chunk size 8.00MiB\\nI 5673393648.000000 file tensorflow/core/common_runtime/bfc_allocator.cc:56] Creating bin of max chunk size 16.00MiB\\nI 5673393648.000000 file tensorflow/core/common_runtime/bfc_allocator.cc:56] Creating bin of max chunk size 32.00MiB\\nI 5673393648.000000 file tensorflow/core/common_runtime/bfc_allocator.cc:56] Creating bin of max chunk size 64.00MiB\\nI 5673393648.000000 file tensorflow/core/common_runtime/bfc_allocator.cc:56] Creating bin of max chunk size 128.00MiB\\nI 5673393648.000000 file tensorflow/core/common_runtime/bfc_allocator.cc:56] Creating bin of max chunk size 256.00MiB\\nI 5673393655.000000 file tensorflow/stream_executor/stream_executor_pimpl.cc:428] Called StreamExecutor::HostMemoryAllocate(size=4194304) returns 0x104d8400000\\nI 5673393656.000000 file tensorflow/core/common_runtime/bfc_allocator.cc:133] Extending allocation by 4.00MiB bytes.\\nI 5673393656.000000 file tensorflow/core/common_runtime/bfc_allocator.cc:137] Total allocated bytes: 4.00MiB\\nI 5673393656.000000 file tensorflow/core/common_runtime/bfc_allocator.cc:140] Allocated memory at 0x104d8400000 to 0x104d8800000\\nI 5673393656.000000 file tensorflow/core/framework/log_memory.cc:41] __LOG_MEMORY__ MemoryLogTensorAllocation { step_id: -6 kernel_name: \"Unknown (from Proto)\" tensor { dtype: DT_FLOAT shape { dim { size: 600000 } } allocation_description { requested_bytes: 2400000 allocated_bytes: 4194304 allocator_name: \"cuda_host_bfc\" allocation_id: 1 has_single_reference: true ptr: 1120319569920 } } } timestamp 5673393656787488\\nI 5673393656.000000 file tensorflow/core/framework/log_memory.cc:41] __LOG_MEMORY__ MemoryLogTensorAllocation { step_id: -6 kernel_name: \"Unknown\" tensor { dtype: DT_FLOAT shape { dim { size: 600000 } } allocation_description { requested_bytes: 2400000 allocated_bytes: 2400000 allocator_name: \"gpu_bfc\" allocation_id: 3 has_single_reference: true ptr: 1108325960192 } } } timestamp 5673393656851306\\nI 5673393656.000000 file tensorflow/core/common_runtime/gpu/gpu_util.cc:308] CopyCPUTensorToGPU\\nI 5673393656.000000 file tensorflow/stream_executor/stream.cc:1331] Called Stream::ThenWaitFor(other=0x43701f0) stream=0x4370b20\\nI 5673393656.000000 file tensorflow/stream_executor/stream.cc:3783] Called Stream::ThenMemcpy(gpu_dst=0x1020d600a00, host_src=0x104d8400000, size=2400000) stream=0x4370b20\\nI 5673393657.000000 file tensorflow/stream_executor/stream.cc:268] Called Stream::ThenRecordEvent(event=0x4448d70) stream=0x4370b20\\nI 5673393657.000000 file tensorflow/core/framework/log_memory.cc:41] __LOG_MEMORY__ MemoryLogTensorDeallocation { allocation_id: 1 allocator_name: \"cuda_host_bfc\" } timestamp 5673393657308740\\nI 5673393657.000000 file tensorflow/core/framework/op_kernel.cc:840] Instantiating kernel for node: Variable = Variable[container=\"\", dtype=DT_FLOAT, shape=[600000], shared_name=\"\", _device=\"/job:localhost/replica:0/task:0/gpu:0\"]()\\nI 5673393657.000000 file tensorflow/core/framework/op_kernel.cc:840] Instantiating kernel for node: Variable/Assign = Assign[T=DT_FLOAT, _class=[\"loc:@Variable\"], use_locking=true, validate_shape=true, _device=\"/job:localhost/replica:0/task:0/gpu:0\"](Variable, zeros)\\nI 5673393658.000000 file tensorflow/core/framework/log_memory.cc:41] __LOG_MEMORY__ MemoryLogTensorAllocation { step_id: -6 kernel_name: \"Unknown (from Proto)\" tensor { dtype: DT_FLOAT shape { dim { size: 600000 } } allocation_description { requested_bytes: 2400000 allocated_bytes: 2400000 allocator_name: \"cpu\" allocation_id: 8 has_single_reference: true ptr: 71704448 } } } timestamp 5673393658156962\\nI 5673393658.000000 file tensorflow/core/framework/log_memory.cc:41] __LOG_MEMORY__ MemoryLogTensorDeallocation { allocation_id: 8 allocator_name: \"cpu\" } timestamp 5673393658231311\\nI 5673393658.000000 file tensorflow/core/framework/op_kernel.cc:840] Instantiating kernel for node: zeros_1 = Const[dtype=DT_FLOAT, value=Tensor<type: float shape: [600000] values: 0 0 0...>, _device=\"/job:localhost/replica:0/task:0/gpu:0\"]()\\nI 5673393658.000000 file tensorflow/core/framework/log_memory.cc:41] __LOG_MEMORY__ MemoryLogTensorAllocation { step_id: -6 kernel_name: \"Unknown (from Proto)\" tensor { dtype: DT_FLOAT shape { dim { size: 600000 } } allocation_description { requested_bytes: 2400000 allocated_bytes: 4194304 allocator_name: \"cuda_host_bfc\" allocation_id: 2 has_single_reference: true ptr: 1120319569920 } } } timestamp 5673393658850794\\nI 5673393658.000000 file tensorflow/core/framework/log_memory.cc:41] __LOG_MEMORY__ MemoryLogTensorAllocation { step_id: -6 kernel_name: \"Unknown\" tensor { dtype: DT_FLOAT shape { dim { size: 600000 } } allocation_description { requested_bytes: 2400000 allocated_bytes: 2400000 allocator_name: \"gpu_bfc\" allocation_id: 4 has_single_reference: true ptr: 1108328360192 } } } timestamp 5673393658899384\\nI 5673393658.000000 file tensorflow/core/common_runtime/gpu/gpu_util.cc:308] CopyCPUTensorToGPU\\nI 5673393658.000000 file tensorflow/stream_executor/stream.cc:1331] Called Stream::ThenWaitFor(other=0x43701f0) stream=0x4370b20\\nI 5673393658.000000 file tensorflow/stream_executor/stream.cc:3783] Called Stream::ThenMemcpy(gpu_dst=0x1020d84a900, host_src=0x104d8400000, size=2400000) stream=0x4370b20\\nI 5673393659.000000 file tensorflow/stream_executor/stream.cc:268] Called Stream::ThenRecordEvent(event=0x4448d70) stream=0x4370b20\\nI 5673393659.000000 file tensorflow/core/framework/log_memory.cc:41] __LOG_MEMORY__ MemoryLogTensorDeallocation { allocation_id: 2 allocator_name: \"cuda_host_bfc\" } timestamp 5673393659455275\\nI 5673393659.000000 file tensorflow/core/framework/op_kernel.cc:840] Instantiating kernel for node: Variable_1 = Variable[container=\"\", dtype=DT_FLOAT, shape=[600000], shared_name=\"\", _device=\"/job:localhost/replica:0/task:0/gpu:0\"]()\\nI 5673393659.000000 file tensorflow/core/framework/op_kernel.cc:840] Instantiating kernel for node: Variable_1/Assign = Assign[T=DT_FLOAT, _class=[\"loc:@Variable_1\"], use_locking=true, validate_shape=true, _device=\"/job:localhost/replica:0/task:0/gpu:0\"](Variable_1, zeros_1, ^Variable/Assign)\\nI 5673393660.000000 file tensorflow/core/framework/log_memory.cc:41] __LOG_MEMORY__ MemoryLogTensorAllocation { step_id: -6 kernel_name: \"Unknown (from Proto)\" tensor { dtype: DT_FLOAT shape { dim { size: 600000 } } allocation_description { requested_bytes: 2400000 allocated_bytes: 2400000 allocator_name: \"cpu\" allocation_id: 9 has_single_reference: true ptr: 71704448 } } } timestamp 5673393660251868\\nI 5673393660.000000 file tensorflow/core/framework/log_memory.cc:41] __LOG_MEMORY__ MemoryLogTensorDeallocation { allocation_id: 9 allocator_name: \"cpu\" } timestamp 5673393660329886\\nI 5673393660.000000 file tensorflow/core/framework/op_kernel.cc:840] Instantiating kernel for node: zeros_2 = Const[dtype=DT_FLOAT, value=Tensor<type: float shape: [600000] values: 0 0 0...>, _device=\"/job:localhost/replica:0/task:0/gpu:0\"]()\\nI 5673393660.000000 file tensorflow/core/framework/log_memory.cc:41] __LOG_MEMORY__ MemoryLogTensorAllocation { step_id: -6 kernel_name: \"Unknown (from Proto)\" tensor { dtype: DT_FLOAT shape { dim { size: 600000 } } allocation_description { requested_bytes: 2400000 allocated_bytes: 4194304 allocator_name: \"cuda_host_bfc\" allocation_id: 3 has_single_reference: true ptr: 1120319569920 } } } timestamp 5673393660958291\\nI 5673393661.000000 file tensorflow/core/framework/log_memory.cc:41] __LOG_MEMORY__ MemoryLogTensorAllocation { step_id: -6 kernel_name: \"Unknown\" tensor { dtype: DT_FLOAT shape { dim { size: 600000 } } allocation_description { requested_bytes: 2400000 allocated_bytes: 2400000 allocator_name: \"gpu_bfc\" allocation_id: 5 has_single_reference: true ptr: 1108330760192 } } } timestamp 5673393661004793\\nI 5673393661.000000 file tensorflow/core/common_runtime/gpu/gpu_util.cc:308] CopyCPUTensorToGPU\\nI 5673393661.000000 file tensorflow/stream_executor/stream.cc:1331] Called Stream::ThenWaitFor(other=0x43701f0) stream=0x4370b20\\nI 5673393661.000000 file tensorflow/stream_executor/stream.cc:3783] Called Stream::ThenMemcpy(gpu_dst=0x1020da94800, host_src=0x104d8400000, size=2400000) stream=0x4370b20\\nI 5673393661.000000 file tensorflow/stream_executor/stream.cc:268] Called Stream::ThenRecordEvent(event=0x4448d70) stream=0x4370b20\\nI 5673393661.000000 file tensorflow/core/framework/log_memory.cc:41] __LOG_MEMORY__ MemoryLogTensorDeallocation { allocation_id: 3 allocator_name: \"cuda_host_bfc\" } timestamp 5673393661524035\\nI 5673393661.000000 file tensorflow/core/framework/op_kernel.cc:840] Instantiating kernel for node: Variable_2 = Variable[container=\"\", dtype=DT_FLOAT, shape=[600000], shared_name=\"\", _device=\"/job:localhost/replica:0/task:0/gpu:0\"]()\\nI 5673393661.000000 file tensorflow/core/framework/op_kernel.cc:840] Instantiating kernel for node: Variable_2/Assign = Assign[T=DT_FLOAT, _class=[\"loc:@Variable_2\"], use_locking=true, validate_shape=true, _device=\"/job:localhost/replica:0/task:0/gpu:0\"](Variable_2, zeros_2, ^Variable_1/Assign)\\nI 5673393661.000000 file tensorflow/core/framework/op_kernel.cc:840] Instantiating kernel for node: group_deps = NoOp[_device=\"/job:localhost/replica:0/task:0/gpu:0\"](^Variable/Assign, ^Variable_1/Assign, ^Variable_2/Assign)\\nI 5673393661.000000 file tensorflow/core/framework/log_memory.cc:41] __LOG_MEMORY__ MemoryLogStep { step_id: 2 handle: \"->/group_deps/0/;1\" } timestamp 5673393661785237\\nI 5673393661.000000 file tensorflow/core/common_runtime/executor.cc:1267] Process node: 0 step 2 _SOURCE = NoOp[]()\\nI 5673393684.000000 file tensorflow/core/common_runtime/gpu/gpu_device.cc:330] GpuDevice::Compute _SOURCE op NoOp on GPU0 stream[0]\\nI 5673393685.000000 file tensorflow/core/framework/log_memory.cc:41] __LOG_MEMORY__ MemoryLogTensorAllocation { step_id: -6 kernel_name: \"Unknown (from Proto)\" tensor { dtype: DT_FLOAT shape { dim { size: 600000 } } allocation_description { requested_bytes: 2400000 allocated_bytes: 2400000 allocator_name: \"cpu\" allocation_id: 10 has_single_reference: true ptr: 139665961336256 } } } timestamp 5673393685583929\\nI 5673393685.000000 file tensorflow/core/framework/log_memory.cc:41] __LOG_MEMORY__ MemoryLogTensorDeallocation { allocation_id: 10 allocator_name: \"cpu\" } timestamp 5673393685667151\\nI 5673393685.000000 file tensorflow/core/common_runtime/executor.cc:1267] Process node: 2 step 2 zeros = Const[dtype=DT_FLOAT, value=Tensor<type: float shape: [600000] values: 0 0 0...>, _device=\"/job:localhost/replica:0/task:0/gpu:0\"]()\\nI 5673393685.000000 file tensorflow/core/common_runtime/gpu/gpu_device.cc:330] GpuDevice::Compute zeros op Const on GPU0 stream[0]\\nI 5673393685.000000 file tensorflow/core/framework/log_memory.cc:41] __LOG_MEMORY__ MemoryLogTensorOutput { step_id: 2 kernel_name: \"zeros\" tensor { dtype: DT_FLOAT shape { dim { size: 600000 } } allocation_description { requested_bytes: 2400000 allocated_bytes: 2400000 allocator_name: \"gpu_bfc\" allocation_id: 3 ptr: 1108325960192 } } } timestamp 5673393685891235\\nI 5673393685.000000 file tensorflow/core/common_runtime/executor.cc:1267] Process node: 3 step 2 Variable = Variable[container=\"\", dtype=DT_FLOAT, shape=[600000], shared_name=\"\", _device=\"/job:localhost/replica:0/task:0/gpu:0\"]()\\nI 5673393685.000000 file tensorflow/core/common_runtime/gpu/gpu_device.cc:330] GpuDevice::Compute Variable op Variable on GPU0 stream[0]\\nI 5673393685.000000 file tensorflow/core/framework/log_memory.cc:41] __LOG_MEMORY__ MemoryLogTensorOutput { step_id: 2 kernel_name: \"Variable\" tensor { dtype: DT_FLOAT shape { dim { size: 600000 } } } } timestamp 5673393685962783\\nI 5673393687.000000 file tensorflow/core/framework/log_memory.cc:41] __LOG_MEMORY__ MemoryLogTensorAllocation { step_id: -6 kernel_name: \"Unknown (from Proto)\" tensor { dtype: DT_FLOAT shape { dim { size: 600000 } } allocation_description { requested_bytes: 2400000 allocated_bytes: 2400000 allocator_name: \"cpu\" allocation_id: 11 has_single_reference: true ptr: 139665961336352 } } } timestamp 5673393687330275\\nI 5673393687.000000 file tensorflow/core/framework/log_memory.cc:41] __LOG_MEMORY__ MemoryLogTensorDeallocation { allocation_id: 11 allocator_name: \"cpu\" } timestamp 5673393687389556\\nI 5673393687.000000 file tensorflow/core/common_runtime/executor.cc:1267] Process node: 5 step 2 zeros_1 = Const[dtype=DT_FLOAT, value=Tensor<type: float shape: [600000] values: 0 0 0...>, _device=\"/job:localhost/replica:0/task:0/gpu:0\"]()\\nI 5673393687.000000 file tensorflow/core/common_runtime/gpu/gpu_device.cc:330] GpuDevice::Compute zeros_1 op Const on GPU0 stream[0]\\nI 5673393687.000000 file tensorflow/core/framework/log_memory.cc:41] __LOG_MEMORY__ MemoryLogTensorOutput { step_id: 2 kernel_name: \"zeros_1\" tensor { dtype: DT_FLOAT shape { dim { size: 600000 } } allocation_description { requested_bytes: 2400000 allocated_bytes: 2400000 allocator_name: \"gpu_bfc\" allocation_id: 4 ptr: 1108328360192 } } } timestamp 5673393687595884\\nI 5673393687.000000 file tensorflow/core/common_runtime/executor.cc:1267] Process node: 6 step 2 Variable_1 = Variable[container=\"\", dtype=DT_FLOAT, shape=[600000], shared_name=\"\", _device=\"/job:localhost/replica:0/task:0/gpu:0\"]()\\nI 5673393687.000000 file tensorflow/core/common_runtime/gpu/gpu_device.cc:330] GpuDevice::Compute Variable_1 op Variable on GPU0 stream[0]\\nI 5673393687.000000 file tensorflow/core/framework/log_memory.cc:41] __LOG_MEMORY__ MemoryLogTensorOutput { step_id: 2 kernel_name: \"Variable_1\" tensor { dtype: DT_FLOAT shape { dim { size: 600000 } } } } timestamp 5673393687656467\\nI 5673393689.000000 file tensorflow/core/framework/log_memory.cc:41] __LOG_MEMORY__ MemoryLogTensorAllocation { step_id: -6 kernel_name: \"Unknown (from Proto)\" tensor { dtype: DT_FLOAT shape { dim { size: 600000 } } allocation_description { requested_bytes: 2400000 allocated_bytes: 2400000 allocator_name: \"cpu\" allocation_id: 12 has_single_reference: true ptr: 139665961336736 } } } timestamp 5673393689038425\\nI 5673393689.000000 file tensorflow/core/framework/log_memory.cc:41] __LOG_MEMORY__ MemoryLogTensorDeallocation { allocation_id: 12 allocator_name: \"cpu\" } timestamp 5673393689103328\\nI 5673393689.000000 file tensorflow/core/common_runtime/executor.cc:1267] Process node: 8 step 2 zeros_2 = Const[dtype=DT_FLOAT, value=Tensor<type: float shape: [600000] values: 0 0 0...>, _device=\"/job:localhost/replica:0/task:0/gpu:0\"]()\\nI 5673393689.000000 file tensorflow/core/common_runtime/gpu/gpu_device.cc:330] GpuDevice::Compute zeros_2 op Const on GPU0 stream[0]\\nI 5673393689.000000 file tensorflow/core/framework/log_memory.cc:41] __LOG_MEMORY__ MemoryLogTensorOutput { step_id: 2 kernel_name: \"zeros_2\" tensor { dtype: DT_FLOAT shape { dim { size: 600000 } } allocation_description { requested_bytes: 2400000 allocated_bytes: 2400000 allocator_name: \"gpu_bfc\" allocation_id: 5 ptr: 1108330760192 } } } timestamp 5673393689309439\\nI 5673393689.000000 file tensorflow/core/common_runtime/executor.cc:1267] Process node: 9 step 2 Variable_2 = Variable[container=\"\", dtype=DT_FLOAT, shape=[600000], shared_name=\"\", _device=\"/job:localhost/replica:0/task:0/gpu:0\"]()\\nI 5673393689.000000 file tensorflow/core/common_runtime/gpu/gpu_device.cc:330] GpuDevice::Compute Variable_2 op Variable on GPU0 stream[0]\\nI 5673393689.000000 file tensorflow/core/framework/log_memory.cc:41] __LOG_MEMORY__ MemoryLogTensorOutput { step_id: 2 kernel_name: \"Variable_2\" tensor { dtype: DT_FLOAT shape { dim { size: 600000 } } } } timestamp 5673393689377610\\nI 5673393689.000000 file tensorflow/core/common_runtime/executor.cc:1267] Process node: 4 step 2 Variable/Assign = Assign[T=DT_FLOAT, _class=[\"loc:@Variable\"], use_locking=true, validate_shape=true, _device=\"/job:localhost/replica:0/task:0/gpu:0\"](Variable, zeros)\\nI 5673393689.000000 file tensorflow/core/common_runtime/gpu/gpu_device.cc:330] GpuDevice::Compute Variable/Assign op Assign on GPU0 stream[0]\\nI 5673393689.000000 file tensorflow/core/framework/log_memory.cc:41] __LOG_MEMORY__ MemoryLogTensorAllocation { step_id: 2 kernel_name: \"Variable/Assign\" tensor { dtype: DT_FLOAT shape { dim { size: 600000 } } allocation_description { requested_bytes: 2400000 allocated_bytes: 2400000 allocator_name: \"gpu_bfc\" allocation_id: 6 has_single_reference: true ptr: 1108333160192 } } } timestamp 5673393689432444\\nI 5673394471.000000 file tensorflow/core/framework/log_memory.cc:41] __LOG_MEMORY__ MemoryLogTensorOutput { step_id: 2 kernel_name: \"Variable/Assign\" tensor { dtype: DT_FLOAT shape { dim { size: 600000 } } allocation_description { requested_bytes: 2400000 allocated_bytes: 2400000 allocator_name: \"gpu_bfc\" allocation_id: 6 ptr: 1108333160192 } } } timestamp 5673394471197848\\nI 5673394471.000000 file tensorflow/core/common_runtime/executor.cc:1267] Process node: 7 step 2 Variable_1/Assign = Assign[T=DT_FLOAT, _class=[\"loc:@Variable_1\"], use_locking=true, validate_shape=true, _device=\"/job:localhost/replica:0/task:0/gpu:0\"](Variable_1, zeros_1, ^Variable/Assign)\\nI 5673394471.000000 file tensorflow/core/common_runtime/gpu/gpu_device.cc:330] GpuDevice::Compute Variable_1/Assign op Assign on GPU0 stream[0]\\nI 5673394471.000000 file tensorflow/core/framework/log_memory.cc:41] __LOG_MEMORY__ MemoryLogTensorAllocation { step_id: 2 kernel_name: \"Variable_1/Assign\" tensor { dtype: DT_FLOAT shape { dim { size: 600000 } } allocation_description { requested_bytes: 2400000 allocated_bytes: 2400000 allocator_name: \"gpu_bfc\" allocation_id: 7 has_single_reference: true ptr: 1108335560192 } } } timestamp 5673394471357033\\nI 5673394471.000000 file tensorflow/core/framework/log_memory.cc:41] __LOG_MEMORY__ MemoryLogTensorOutput { step_id: 2 kernel_name: \"Variable_1/Assign\" tensor { dtype: DT_FLOAT shape { dim { size: 600000 } } allocation_description { requested_bytes: 2400000 allocated_bytes: 2400000 allocator_name: \"gpu_bfc\" allocation_id: 7 ptr: 1108335560192 } } } timestamp 5673394471421704\\nI 5673394471.000000 file tensorflow/core/common_runtime/executor.cc:1267] Process node: 10 step 2 Variable_2/Assign = Assign[T=DT_FLOAT, _class=[\"loc:@Variable_2\"], use_locking=true, validate_shape=true, _device=\"/job:localhost/replica:0/task:0/gpu:0\"](Variable_2, zeros_2, ^Variable_1/Assign)\\nI 5673394471.000000 file tensorflow/core/common_runtime/gpu/gpu_device.cc:330] GpuDevice::Compute Variable_2/Assign op Assign on GPU0 stream[0]\\nI 5673394471.000000 file tensorflow/core/framework/log_memory.cc:41] __LOG_MEMORY__ MemoryLogTensorAllocation { step_id: 2 kernel_name: \"Variable_2/Assign\" tensor { dtype: DT_FLOAT shape { dim { size: 600000 } } allocation_description { requested_bytes: 2400000 allocated_bytes: 2400000 allocator_name: \"gpu_bfc\" allocation_id: 8 has_single_reference: true ptr: 1108337960192 } } } timestamp 5673394471509936\\nI 5673394471.000000 file tensorflow/core/framework/log_memory.cc:41] __LOG_MEMORY__ MemoryLogTensorOutput { step_id: 2 kernel_name: \"Variable_2/Assign\" tensor { dtype: DT_FLOAT shape { dim { size: 600000 } } allocation_description { requested_bytes: 2400000 allocated_bytes: 2400000 allocator_name: \"gpu_bfc\" allocation_id: 8 ptr: 1108337960192 } } } timestamp 5673394471564921\\nI 5673394471.000000 file tensorflow/core/common_runtime/executor.cc:1267] Process node: 11 step 2 group_deps = NoOp[_device=\"/job:localhost/replica:0/task:0/gpu:0\"](^Variable/Assign, ^Variable_1/Assign, ^Variable_2/Assign)\\nI 5673394471.000000 file tensorflow/core/common_runtime/gpu/gpu_device.cc:330] GpuDevice::Compute group_deps op NoOp on GPU0 stream[0]\\nI 5673394471.000000 file tensorflow/core/common_runtime/gpu/gpu_util.cc:363] GPUUtil::SyncAll\\nI 5673394471.000000 file tensorflow/stream_executor/stream_executor_pimpl.cc:457] Called StreamExecutor::SynchronizeAllActivity()\\nI 5673394476.000000 file tensorflow/core/graph/subgraph.cc:217] Created fetch node: _send_Print_1_0 = _Send[T=DT_INT32, client_terminated=true, recv_device=\"/job:localhost/replica:0/task:0/cpu:0\", send_device=\"/job:localhost/replica:0/task:0/cpu:0\", send_device_incarnation=5079634328368980445, tensor_name=\"Print_1:0\"](Print_1)\\nI 5673394476.000000 file tensorflow/core/common_runtime/simple_placer.cc:827] Print_1: (Print)/job:localhost/replica:0/task:0/cpu:0\\nI 5673394476.000000 file tensorflow/core/common_runtime/simple_placer.cc:827] Const_3: (Const)/job:localhost/replica:0/task:0/cpu:0\\nI 5673394476.000000 file tensorflow/core/common_runtime/simple_placer.cc:827] Const_2: (Const)/job:localhost/replica:0/task:0/cpu:0\\nI 5673394476.000000 file tensorflow/core/common_runtime/simple_graph_execution_state.cc:279] BuildGraph\\nI 5673394476.000000 file tensorflow/core/graph/graph_partition.cc:1049] Added send/recv: controls=0, data=0\\nI 5673394476.000000 file tensorflow/core/common_runtime/function.cc:457] Graph Initial #nodes 6 #edges 7\\nI 5673394476.000000 file tensorflow/core/common_runtime/function.cc:457] Graph ReCopy #nodes 6 #edges 8\\nI 5673394476.000000 file tensorflow/core/framework/op_kernel.cc:840] Instantiating kernel for node: _SOURCE = NoOp[]()\\nI 5673394476.000000 file tensorflow/core/framework/op_kernel.cc:840] Instantiating kernel for node: _SINK = NoOp[]()\\nI 5673394476.000000 file tensorflow/core/framework/log_memory.cc:41] __LOG_MEMORY__ MemoryLogTensorAllocation { step_id: -6 kernel_name: \"Unknown (from Proto)\" tensor { dtype: DT_INT32 shape { } allocation_description { requested_bytes: 4 allocated_bytes: 4 allocator_name: \"cpu\" allocation_id: 13 has_single_reference: true ptr: 71493728 } } } timestamp 5673394476895328\\nI 5673394476.000000 file tensorflow/core/framework/log_memory.cc:41] __LOG_MEMORY__ MemoryLogTensorDeallocation { allocation_id: 13 allocator_name: \"cpu\" } timestamp 5673394476939766\\nI 5673394476.000000 file tensorflow/core/framework/op_kernel.cc:840] Instantiating kernel for node: Const_2 = Const[dtype=DT_INT32, value=Tensor<type: int32 shape: [] values: 1>, _device=\"/job:localhost/replica:0/task:0/cpu:0\"]()\\nI 5673394477.000000 file tensorflow/core/framework/log_memory.cc:41] __LOG_MEMORY__ MemoryLogTensorAllocation { step_id: -6 kernel_name: \"Unknown (from Proto)\" tensor { dtype: DT_INT32 shape { } allocation_description { requested_bytes: 4 allocated_bytes: 4 allocator_name: \"cpu\" allocation_id: 14 has_single_reference: true ptr: 71566016 } } } timestamp 5673394476995985\\nI 5673394477.000000 file tensorflow/core/framework/log_memory.cc:41] __LOG_MEMORY__ MemoryLogTensorAllocation { step_id: -6 kernel_name: \"Unknown (from Proto)\" tensor { dtype: DT_INT32 shape { } allocation_description { requested_bytes: 4 allocated_bytes: 4 allocator_name: \"cpu\" allocation_id: 15 has_single_reference: true ptr: 71567904 } } } timestamp 5673394477045712\\nI 5673394477.000000 file tensorflow/core/framework/log_memory.cc:41] __LOG_MEMORY__ MemoryLogTensorDeallocation { allocation_id: 15 allocator_name: \"cpu\" } timestamp 5673394477072912\\nI 5673394477.000000 file tensorflow/core/framework/op_kernel.cc:840] Instantiating kernel for node: Const_3 = Const[dtype=DT_INT32, value=Tensor<type: int32 shape: [] values: 1>, _device=\"/job:localhost/replica:0/task:0/cpu:0\"]()\\nI 5673394477.000000 file tensorflow/core/framework/log_memory.cc:41] __LOG_MEMORY__ MemoryLogTensorAllocation { step_id: -6 kernel_name: \"Unknown (from Proto)\" tensor { dtype: DT_INT32 shape { } allocation_description { requested_bytes: 4 allocated_bytes: 4 allocator_name: \"cpu\" allocation_id: 16 has_single_reference: true ptr: 71496448 } } } timestamp 5673394477123330\\nI 5673394477.000000 file tensorflow/core/framework/op_kernel.cc:840] Instantiating kernel for node: Print_1 = Print[T=DT_INT32, U=[DT_INT32], first_n=-1, message=\"mem<END>\", summarize=3, _device=\"/job:localhost/replica:0/task:0/cpu:0\"](Const_2, Const_3)\\nI 5673394477.000000 file tensorflow/core/framework/op_kernel.cc:840] Instantiating kernel for node: _send_Print_1_0 = _Send[T=DT_INT32, client_terminated=true, recv_device=\"/job:localhost/replica:0/task:0/cpu:0\", send_device=\"/job:localhost/replica:0/task:0/cpu:0\", send_device_incarnation=5079634328368980445, tensor_name=\"Print_1:0\", _device=\"/job:localhost/replica:0/task:0/cpu:0\"](Print_1)\\nI 5673394477.000000 file tensorflow/core/framework/log_memory.cc:41] __LOG_MEMORY__ MemoryLogStep { step_id: 3 handle: \"->Print_1:0//0/;2\" } timestamp 5673394477283067\\nI 5673394477.000000 file tensorflow/core/common_runtime/executor.cc:1267] Process node: 0 step 3 _SOURCE = NoOp[]()\\nI 5673394477.000000 file tensorflow/core/framework/log_memory.cc:41] __LOG_MEMORY__ MemoryLogTensorAllocation { step_id: -6 kernel_name: \"Unknown (from Proto)\" tensor { dtype: DT_INT32 shape { } allocation_description { requested_bytes: 4 allocated_bytes: 4 allocator_name: \"cpu\" allocation_id: 17 has_single_reference: true ptr: 139665633654240 } } } timestamp 5673394477443808\\nI 5673394477.000000 file tensorflow/core/framework/log_memory.cc:41] __LOG_MEMORY__ MemoryLogTensorDeallocation { allocation_id: 17 allocator_name: \"cpu\" } timestamp 5673394477489482\\nI 5673394477.000000 file tensorflow/core/common_runtime/executor.cc:1267] Process node: 2 step 3 Const_2 = Const[dtype=DT_INT32, value=Tensor<type: int32 shape: [] values: 1>, _device=\"/job:localhost/replica:0/task:0/cpu:0\"]()\\nI 5673394477.000000 file tensorflow/core/framework/log_memory.cc:41] __LOG_MEMORY__ MemoryLogTensorOutput { step_id: 3 kernel_name: \"Const_2\" tensor { dtype: DT_INT32 shape { } allocation_description { requested_bytes: 4 allocated_bytes: 4 allocator_name: \"cpu\" allocation_id: 14 ptr: 71566016 } } } timestamp 5673394477530546\\nI 5673394477.000000 file tensorflow/core/framework/log_memory.cc:41] __LOG_MEMORY__ MemoryLogTensorAllocation { step_id: -6 kernel_name: \"Unknown (from Proto)\" tensor { dtype: DT_INT32 shape { } allocation_description { requested_bytes: 4 allocated_bytes: 4 allocator_name: \"cpu\" allocation_id: 18 has_single_reference: true ptr: 139665633654080 } } } timestamp 5673394477567170\\nI 5673394477.000000 file tensorflow/core/framework/log_memory.cc:41] __LOG_MEMORY__ MemoryLogTensorDeallocation { allocation_id: 18 allocator_name: \"cpu\" } timestamp 5673394477595833\\nI 5673394477.000000 file tensorflow/core/common_runtime/executor.cc:1267] Process node: 3 step 3 Const_3 = Const[dtype=DT_INT32, value=Tensor<type: int32 shape: [] values: 1>, _device=\"/job:localhost/replica:0/task:0/cpu:0\"]()\\nI 5673394477.000000 file tensorflow/core/framework/log_memory.cc:41] __LOG_MEMORY__ MemoryLogTensorOutput { step_id: 3 kernel_name: \"Const_3\" tensor { dtype: DT_INT32 shape { } allocation_description { requested_bytes: 4 allocated_bytes: 4 allocator_name: \"cpu\" allocation_id: 16 ptr: 71496448 } } } timestamp 5673394477644414\\nI 5673394477.000000 file tensorflow/core/common_runtime/executor.cc:1267] Process node: 4 step 3 Print_1 = Print[T=DT_INT32, U=[DT_INT32], first_n=-1, message=\"mem<END>\", summarize=3, _device=\"/job:localhost/replica:0/task:0/cpu:0\"](Const_2, Const_3)\\nI 5673394477.000000 file tensorflow/core/kernels/logging_ops.cc:79] '"
   ]
  },
  {
   "cell_type": "markdown",
   "metadata": {},
   "source": [
    "## Debug memory parsing"
   ]
  },
  {
   "cell_type": "code",
   "execution_count": 132,
   "metadata": {
    "collapsed": false
   },
   "outputs": [],
   "source": [
    "def get_alloc_names(allocation_id):\n",
    "    for entry in allocation_map[allocation_id]:\n",
    "        kernel_name = entry.get(\"kernel_name\", \"unknown\")\n",
    "        if not \"unknown\" in kernel_name.lower():\n",
    "            return kernel_name\n",
    "    return allocation_id\n",
    "\n",
    "def get_alloc_bytes(allocation_id):\n",
    "    for entry in allocation_map[allocation_id]:\n",
    "        if \"allocated_bytes\" in entry:\n",
    "            return entry[\"allocated_bytes\"]\n",
    "    return 0\n",
    "\n",
    "def get_alloc_type(allocation_id):\n",
    "    for entry in allocation_map[allocation_id]:\n",
    "        if \"allocator_name\" in entry:\n",
    "            return entry[\"allocator_name\"]\n",
    "    return 0\n",
    "    \n",
    "\n",
    "output = stderr\n",
    "parsed_lines = [_parse_logline(l) for l in output.split(\"\\n\") if '__LOG_MEMORY__' in l]\n",
    "parsed_lines.sort(key=lambda l: l[\"timestamp\"])\n",
    "first_timestamp = parsed_lines[0][\"timestamp\"]\n",
    "\n",
    "# Tensors that are output have two records (allocation and output)\n",
    "# since output comes after, overwrite allocation_map with output\n",
    "# info (it has kernel_name)\n",
    "allocation_map = {} # map of allocation_id->parsed_logline of allocation\n",
    "double_records = {} # map of ids which have both allocation and output\n",
    "for line in parsed_lines:\n",
    "    if line[\"type\"] == \"MemoryLogTensorAllocation\" or line[\"type\"] == \"MemoryLogTensorOutput\":\n",
    "        allocation_map.setdefault(line[\"allocation_id\"], []).append(line)\n",
    "\n",
    "result = []\n",
    "for line in parsed_lines:\n",
    "    assert \"allocation_id\" in line\n",
    "    alloc_names = get_alloc_names(line[\"allocation_id\"])\n",
    "    alloc_bytes = get_alloc_bytes(line[\"allocation_id\"])\n",
    "    alloc_type = get_alloc_type(line[\"allocation_id\"])\n",
    "    if line[\"type\"] == \"MemoryLogTensorDeallocation\":\n",
    "        alloc_bytes = \"-\" + alloc_bytes\n",
    "    result.append((line[\"timestamp\"]-first_timestamp, alloc_names, alloc_bytes, alloc_type))"
   ]
  },
  {
   "cell_type": "code",
   "execution_count": 143,
   "metadata": {
    "collapsed": false
   },
   "outputs": [
    {
     "data": {
      "text/plain": [
       "[(0, 'Print(2)', '4', 'cuda_host_bfc'),\n",
       " (4802546, 'Variable_1/Assign(7)', '2400000', 'cpu'),\n",
       " (4918411, 'Variable_1/Assign(7)', '-2400000', 'cpu'),\n",
       " (13100443, '(1)', '4194304', 'cuda_host_bfc'),\n",
       " (13164261, 'zeros(3)', '2400000', 'gpu_bfc'),\n",
       " (13621695, '(1)', '-4194304', 'cuda_host_bfc'),\n",
       " (14469917, 'Variable_2/Assign(8)', '2400000', 'cpu'),\n",
       " (14544266, 'Variable_2/Assign(8)', '-2400000', 'cpu'),\n",
       " (15163749, 'Print(2)', '4', 'cuda_host_bfc'),\n",
       " (15212339, 'zeros_1(4)', '2400000', 'gpu_bfc'),\n",
       " (15768230, 'Print(2)', '-4', 'cuda_host_bfc'),\n",
       " (16564823, '(9)', '2400000', 'cpu'),\n",
       " (16642841, '(9)', '-2400000', 'cpu'),\n",
       " (17271246, 'zeros(3)', '2400000', 'gpu_bfc'),\n",
       " (17317748, 'zeros_2(5)', '2400000', 'gpu_bfc'),\n",
       " (17836990, 'zeros(3)', '-2400000', 'gpu_bfc'),\n",
       " (18098192, 'Variable(-1)', 0, 0),\n",
       " (41896884, '(10)', '2400000', 'cpu'),\n",
       " (41980106, '(10)', '-2400000', 'cpu'),\n",
       " (42204190, 'zeros(3)', '2400000', 'gpu_bfc'),\n",
       " (42275738, 'Variable(-1)', 0, 0),\n",
       " (43643230, '(11)', '2400000', 'cpu'),\n",
       " (43702511, '(11)', '-2400000', 'cpu'),\n",
       " (43908839, 'zeros_1(4)', '2400000', 'gpu_bfc'),\n",
       " (43969422, 'Variable(-1)', 0, 0),\n",
       " (45351380, '(12)', '2400000', 'cpu'),\n",
       " (45416283, '(12)', '-2400000', 'cpu'),\n",
       " (45622394, 'zeros_2(5)', '2400000', 'gpu_bfc'),\n",
       " (45690565, 'Variable(-1)', 0, 0),\n",
       " (45745399, 'Variable/Assign(6)', '2400000', 'gpu_bfc'),\n",
       " (827510803, 'Variable/Assign(6)', '2400000', 'gpu_bfc'),\n",
       " (827669988, 'Variable_1/Assign(7)', '2400000', 'cpu'),\n",
       " (827734659, 'Variable_1/Assign(7)', '2400000', 'cpu'),\n",
       " (827822891, 'Variable_2/Assign(8)', '2400000', 'cpu'),\n",
       " (827877876, 'Variable_2/Assign(8)', '2400000', 'cpu'),\n",
       " (833208283, '(13)', '4', 'cpu'),\n",
       " (833252721, '(13)', '-4', 'cpu'),\n",
       " (833308940, 'Const_2(14)', '4', 'cpu'),\n",
       " (833358667, '(15)', '4', 'cpu'),\n",
       " (833385867, '(15)', '-4', 'cpu'),\n",
       " (833436285, 'Const_3(16)', '4', 'cpu'),\n",
       " (833596022, 'Variable(-1)', 0, 0),\n",
       " (833756763, '(17)', '4', 'cpu'),\n",
       " (833802437, '(17)', '-4', 'cpu'),\n",
       " (833843501, 'Const_2(14)', '4', 'cpu'),\n",
       " (833880125, '(18)', '4', 'cpu'),\n",
       " (833908788, '(18)', '-4', 'cpu'),\n",
       " (833957369, 'Const_3(16)', '4', 'cpu')]"
      ]
     },
     "execution_count": 143,
     "metadata": {},
     "output_type": "execute_result"
    }
   ],
   "source": [
    "memory_timeline(stderr2)"
   ]
  },
  {
   "cell_type": "code",
   "execution_count": 84,
   "metadata": {
    "collapsed": false
   },
   "outputs": [
    {
     "data": {
      "text/plain": [
       "[{'line': 'I 5673393661.000000 file tensorflow/core/framework/log_memory.cc:41] __LOG_MEMORY__ MemoryLogStep { step_id: 2 handle: \"->/group_deps/0/;1\" } timestamp 5673393661785237'},\n",
       " {'line': 'I 5673394477.000000 file tensorflow/core/framework/log_memory.cc:41] __LOG_MEMORY__ MemoryLogStep { step_id: 3 handle: \"->Print_1:0//0/;2\" } timestamp 5673394477283067'}]"
      ]
     },
     "execution_count": 84,
     "metadata": {},
     "output_type": "execute_result"
    }
   ],
   "source": [
    "[ll for ll in parsed_lines if \"timestamp\" not in ll]"
   ]
  },
  {
   "cell_type": "code",
   "execution_count": 16,
   "metadata": {
    "collapsed": false
   },
   "outputs": [
    {
     "data": {
      "text/plain": [
       "{'allocation_id': 1, 'timestamp': 5673393657308740}"
      ]
     },
     "execution_count": 16,
     "metadata": {},
     "output_type": "execute_result"
    }
   ],
   "source": [
    "allocation_map[1]"
   ]
  },
  {
   "cell_type": "code",
   "execution_count": 144,
   "metadata": {
    "collapsed": false,
    "scrolled": false
   },
   "outputs": [
    {
     "data": {
      "text/plain": [
       "'mem<BEGIN>[1]\\nI 5673393643.000000 file tensorflow/core/framework/log_memory.cc:41] __LOG_MEMORY__ MemoryLogTensorOutput { step_id: 1 kernel_name: \"Print\" tensor { dtype: DT_INT32 shape { } allocation_description { requested_bytes: 4 allocated_bytes: 4 allocator_name: \"cpu\" allocation_id: 2 ptr: 71433760 } } } timestamp 5673393643687045\\nI 5673393643.000000 file tensorflow/core/common_runtime/executor.cc:1267] Process node: 5 step 1 _send_Print_0 = _Send[T=DT_INT32, client_terminated=true, recv_device=\"/job:localhost/replica:0/task:0/cpu:0\", send_device=\"/job:localhost/replica:0/task:0/cpu:0\", send_device_incarnation=5079634328368980445, tensor_name=\"Print:0\", _device=\"/job:localhost/replica:0/task:0/cpu:0\"](Print)\\nI 5673393643.000000 file tensorflow/core/common_runtime/rendezvous_mgr.cc:42] IntraProcessRendezvous Send 0x4422080 /job:localhost/replica:0/task:0/cpu:0;467e7c82335021dd;/job:localhost/replica:0/task:0/cpu:0;Print:0;0:0\\nI 5673393643.000000 file tensorflow/core/common_runtime/rendezvous_mgr.cc:115] IntraProcessRendezvous Recv 0x4422080 /job:localhost/replica:0/task:0/cpu:0;467e7c82335021dd;/job:localhost/replica:0/task:0/cpu:0;Print:0;0:0\\nI 5673393645.000000 file tensorflow/core/common_runtime/simple_placer.cc:827] Variable_2: (Variable)/job:localhost/replica:0/task:0/gpu:0\\nI 5673393645.000000 file tensorflow/core/common_runtime/simple_placer.cc:827] Variable_1: (Variable)/job:localhost/replica:0/task:0/gpu:0\\nI 5673393645.000000 file tensorflow/core/common_runtime/simple_placer.cc:827] Variable: (Variable)/job:localhost/replica:0/task:0/gpu:0\\nI 5673393645.000000 file tensorflow/core/common_runtime/simple_placer.cc:827] Variable/Assign: (Assign)/job:localhost/replica:0/task:0/gpu:0\\nI 5673393645.000000 file tensorflow/core/common_runtime/simple_placer.cc:827] Variable_1/Assign: (Assign)/job:localhost/replica:0/task:0/gpu:0\\nI 5673393645.000000 file tensorflow/core/common_runtime/simple_placer.cc:827] Variable_2/Assign: (Assign)/job:localhost/replica:0/task:0/gpu:0\\nI 5673393645.000000 file tensorflow/core/common_runtime/simple_placer.cc:827] group_deps: (NoOp)/job:localhost/replica:0/task:0/gpu:0\\nI 5673393645.000000 file tensorflow/core/common_runtime/simple_placer.cc:827] zeros_2: (Const)/job:localhost/replica:0/task:0/gpu:0\\nI 5673393645.000000 file tensorflow/core/common_runtime/simple_placer.cc:827] zeros_1: (Const)/job:localhost/replica:0/task:0/gpu:0\\nI 5673393645.000000 file tensorflow/core/common_runtime/simple_placer.cc:827] zeros: (Const)/job:localhost/replica:0/task:0/gpu:0\\nI 5673393645.000000 file tensorflow/core/common_runtime/simple_graph_execution_state.cc:279] BuildGraph\\nI 5673393645.000000 file tensorflow/core/graph/graph_partition.cc:1049] Added send/recv: controls=0, data=0\\nI 5673393645.000000 file tensorflow/core/common_runtime/function.cc:457] Graph Initial #nodes 12 #edges 19\\nI 5673393645.000000 file tensorflow/core/common_runtime/function.cc:457] Graph ReCopy #nodes 12 #edges 20\\nI 5673393646.000000 file tensorflow/core/common_runtime/memory_types.cc:83] 3:0 -> 4:0: 0 -> 0\\nI 5673393646.000000 file tensorflow/core/common_runtime/memory_types.cc:83] 2:0 -> 4:1: 0 -> 0\\nI 5673393646.000000 file tensorflow/core/common_runtime/memory_types.cc:83] 6:0 -> 7:0: 0 -> 0\\nI 5673393646.000000 file tensorflow/core/common_runtime/memory_types.cc:83] 5:0 -> 7:1: 0 -> 0\\nI 5673393646.000000 file tensorflow/core/common_runtime/memory_types.cc:83] 9:0 -> 10:0: 0 -> 0\\nI 5673393646.000000 file tensorflow/core/common_runtime/memory_types.cc:83] 8:0 -> 10:1: 0 -> 0\\nI 5673393646.000000 file tensorflow/core/common_runtime/memory_types.cc:83] 3:0 -> 4:0: 0 -> 0\\nI 5673393646.000000 file tensorflow/core/common_runtime/memory_types.cc:83] 2:0 -> 4:1: 0 -> 0\\nI 5673393646.000000 file tensorflow/core/common_runtime/memory_types.cc:83] 6:0 -> 7:0: 0 -> 0\\nI 5673393646.000000 file tensorflow/core/common_runtime/memory_types.cc:83] 5:0 -> 7:1: 0 -> 0\\nI 5673393646.000000 file tensorflow/core/common_runtime/memory_types.cc:83] 9:0 -> 10:0: 0 -> 0\\nI 5673393646.000000 file tensorflow/core/common_runtime/memory_types.cc:83] 8:0 -> 10:1: 0 -> 0\\nI 5673393646.000000 file tensorflow/core/framework/op_kernel.cc:840] Instantiating kernel for node: _SOURCE = NoOp[]()\\nI 5673393646.000000 file tensorflow/core/framework/op_kernel.cc:840] Instantiating kernel for node: _SINK = NoOp[]()\\nI 5673393648.000000 file tensorflow/core/framework/log_memory.cc:41] __LOG_MEMORY__ MemoryLogTensorAllocation { step_id: -6 kernel_name: \"Unknown (from Proto)\" tensor { dtype: DT_FLOAT shape { dim { size: 600000 } } allocation_description { requested_bytes: 2400000 allocated_bytes: 2400000 allocator_name: \"cpu\" allocation_id: 7 has_single_reference: true ptr: 71638944 } } } timestamp 5673393648489591\\nI 5673393648.000000 file tensorflow/core/framework/log_memory.cc:41] __LOG_MEMORY__ MemoryLogTensorDeallocation { allocation_id: 7 allocator_name: \"cpu\" } timestamp 5673393648605456\\nI 5673393648.000000 file tensorflow/core/framework/op_kernel.cc:840] Instantiating kernel for node: zeros = Const[dtype=DT_FLOAT, value=Tensor<type: float shape: [600000] values: 0 0 0...>, _device=\"/job:localhost/replica:0/task:0/gpu:0\"]()\\nI 5673393648.000000 file tensorflow/core/common_runtime/bfc_allocator.cc:56] Creating bin of max chunk size 256B\\nI 5673393648.000000 file tensorflow/core/common_runtime/bfc_allocator.cc:56] Creating bin of max chunk size 512B\\nI 5673393648.000000 file tensorflow/core/common_runtime/bfc_allocator.cc:56] Creating bin of max chunk size 1.0KiB\\nI 5673393648.000000 file tensorflow/core/common_runtime/bfc_allocator.cc:56] Creating bin of max chunk size 2.0KiB\\nI 5673393648.000000 file tensorflow/core/common_runtime/bfc_allocator.cc:56] Creating bin of max chunk size 4.0KiB\\nI 5673393648.000000 file tensorflow/core/common_runtime/bfc_allocator.cc:56] Creating bin of max chunk size 8.0KiB\\nI 5673393648.000000 file tensorflow/core/common_runtime/bfc_allocator.cc:56] Creating bin of max chunk size 16.0KiB\\nI 5673393648.000000 file tensorflow/core/common_runtime/bfc_allocator.cc:56] Creating bin of max chunk size 32.0KiB\\nI 5673393648.000000 file tensorflow/core/common_runtime/bfc_allocator.cc:56] Creating bin of max chunk size 64.0KiB\\nI 5673393648.000000 file tensorflow/core/common_runtime/bfc_allocator.cc:56] Creating bin of max chunk size 128.0KiB\\nI 5673393648.000000 file tensorflow/core/common_runtime/bfc_allocator.cc:56] Creating bin of max chunk size 256.0KiB\\nI 5673393648.000000 file tensorflow/core/common_runtime/bfc_allocator.cc:56] Creating bin of max chunk size 512.0KiB\\nI 5673393648.000000 file tensorflow/core/common_runtime/bfc_allocator.cc:56] Creating bin of max chunk size 1.00MiB\\nI 5673393648.000000 file tensorflow/core/common_runtime/bfc_allocator.cc:56] Creating bin of max chunk size 2.00MiB\\nI 5673393648.000000 file tensorflow/core/common_runtime/bfc_allocator.cc:56] Creating bin of max chunk size 4.00MiB\\nI 5673393648.000000 file tensorflow/core/common_runtime/bfc_allocator.cc:56] Creating bin of max chunk size 8.00MiB\\nI 5673393648.000000 file tensorflow/core/common_runtime/bfc_allocator.cc:56] Creating bin of max chunk size 16.00MiB\\nI 5673393648.000000 file tensorflow/core/common_runtime/bfc_allocator.cc:56] Creating bin of max chunk size 32.00MiB\\nI 5673393648.000000 file tensorflow/core/common_runtime/bfc_allocator.cc:56] Creating bin of max chunk size 64.00MiB\\nI 5673393648.000000 file tensorflow/core/common_runtime/bfc_allocator.cc:56] Creating bin of max chunk size 128.00MiB\\nI 5673393648.000000 file tensorflow/core/common_runtime/bfc_allocator.cc:56] Creating bin of max chunk size 256.00MiB\\nI 5673393655.000000 file tensorflow/stream_executor/stream_executor_pimpl.cc:428] Called StreamExecutor::HostMemoryAllocate(size=4194304) returns 0x104d8400000\\nI 5673393656.000000 file tensorflow/core/common_runtime/bfc_allocator.cc:133] Extending allocation by 4.00MiB bytes.\\nI 5673393656.000000 file tensorflow/core/common_runtime/bfc_allocator.cc:137] Total allocated bytes: 4.00MiB\\nI 5673393656.000000 file tensorflow/core/common_runtime/bfc_allocator.cc:140] Allocated memory at 0x104d8400000 to 0x104d8800000\\nI 5673393656.000000 file tensorflow/core/framework/log_memory.cc:41] __LOG_MEMORY__ MemoryLogTensorAllocation { step_id: -6 kernel_name: \"Unknown (from Proto)\" tensor { dtype: DT_FLOAT shape { dim { size: 600000 } } allocation_description { requested_bytes: 2400000 allocated_bytes: 4194304 allocator_name: \"cuda_host_bfc\" allocation_id: 1 has_single_reference: true ptr: 1120319569920 } } } timestamp 5673393656787488\\nI 5673393656.000000 file tensorflow/core/framework/log_memory.cc:41] __LOG_MEMORY__ MemoryLogTensorAllocation { step_id: -6 kernel_name: \"Unknown\" tensor { dtype: DT_FLOAT shape { dim { size: 600000 } } allocation_description { requested_bytes: 2400000 allocated_bytes: 2400000 allocator_name: \"gpu_bfc\" allocation_id: 3 has_single_reference: true ptr: 1108325960192 } } } timestamp 5673393656851306\\nI 5673393656.000000 file tensorflow/core/common_runtime/gpu/gpu_util.cc:308] CopyCPUTensorToGPU\\nI 5673393656.000000 file tensorflow/stream_executor/stream.cc:1331] Called Stream::ThenWaitFor(other=0x43701f0) stream=0x4370b20\\nI 5673393656.000000 file tensorflow/stream_executor/stream.cc:3783] Called Stream::ThenMemcpy(gpu_dst=0x1020d600a00, host_src=0x104d8400000, size=2400000) stream=0x4370b20\\nI 5673393657.000000 file tensorflow/stream_executor/stream.cc:268] Called Stream::ThenRecordEvent(event=0x4448d70) stream=0x4370b20\\nI 5673393657.000000 file tensorflow/core/framework/log_memory.cc:41] __LOG_MEMORY__ MemoryLogTensorDeallocation { allocation_id: 1 allocator_name: \"cuda_host_bfc\" } timestamp 5673393657308740\\nI 5673393657.000000 file tensorflow/core/framework/op_kernel.cc:840] Instantiating kernel for node: Variable = Variable[container=\"\", dtype=DT_FLOAT, shape=[600000], shared_name=\"\", _device=\"/job:localhost/replica:0/task:0/gpu:0\"]()\\nI 5673393657.000000 file tensorflow/core/framework/op_kernel.cc:840] Instantiating kernel for node: Variable/Assign = Assign[T=DT_FLOAT, _class=[\"loc:@Variable\"], use_locking=true, validate_shape=true, _device=\"/job:localhost/replica:0/task:0/gpu:0\"](Variable, zeros)\\nI 5673393658.000000 file tensorflow/core/framework/log_memory.cc:41] __LOG_MEMORY__ MemoryLogTensorAllocation { step_id: -6 kernel_name: \"Unknown (from Proto)\" tensor { dtype: DT_FLOAT shape { dim { size: 600000 } } allocation_description { requested_bytes: 2400000 allocated_bytes: 2400000 allocator_name: \"cpu\" allocation_id: 8 has_single_reference: true ptr: 71704448 } } } timestamp 5673393658156962\\nI 5673393658.000000 file tensorflow/core/framework/log_memory.cc:41] __LOG_MEMORY__ MemoryLogTensorDeallocation { allocation_id: 8 allocator_name: \"cpu\" } timestamp 5673393658231311\\nI 5673393658.000000 file tensorflow/core/framework/op_kernel.cc:840] Instantiating kernel for node: zeros_1 = Const[dtype=DT_FLOAT, value=Tensor<type: float shape: [600000] values: 0 0 0...>, _device=\"/job:localhost/replica:0/task:0/gpu:0\"]()\\nI 5673393658.000000 file tensorflow/core/framework/log_memory.cc:41] __LOG_MEMORY__ MemoryLogTensorAllocation { step_id: -6 kernel_name: \"Unknown (from Proto)\" tensor { dtype: DT_FLOAT shape { dim { size: 600000 } } allocation_description { requested_bytes: 2400000 allocated_bytes: 4194304 allocator_name: \"cuda_host_bfc\" allocation_id: 2 has_single_reference: true ptr: 1120319569920 } } } timestamp 5673393658850794\\nI 5673393658.000000 file tensorflow/core/framework/log_memory.cc:41] __LOG_MEMORY__ MemoryLogTensorAllocation { step_id: -6 kernel_name: \"Unknown\" tensor { dtype: DT_FLOAT shape { dim { size: 600000 } } allocation_description { requested_bytes: 2400000 allocated_bytes: 2400000 allocator_name: \"gpu_bfc\" allocation_id: 4 has_single_reference: true ptr: 1108328360192 } } } timestamp 5673393658899384\\nI 5673393658.000000 file tensorflow/core/common_runtime/gpu/gpu_util.cc:308] CopyCPUTensorToGPU\\nI 5673393658.000000 file tensorflow/stream_executor/stream.cc:1331] Called Stream::ThenWaitFor(other=0x43701f0) stream=0x4370b20\\nI 5673393658.000000 file tensorflow/stream_executor/stream.cc:3783] Called Stream::ThenMemcpy(gpu_dst=0x1020d84a900, host_src=0x104d8400000, size=2400000) stream=0x4370b20\\nI 5673393659.000000 file tensorflow/stream_executor/stream.cc:268] Called Stream::ThenRecordEvent(event=0x4448d70) stream=0x4370b20\\nI 5673393659.000000 file tensorflow/core/framework/log_memory.cc:41] __LOG_MEMORY__ MemoryLogTensorDeallocation { allocation_id: 2 allocator_name: \"cuda_host_bfc\" } timestamp 5673393659455275\\nI 5673393659.000000 file tensorflow/core/framework/op_kernel.cc:840] Instantiating kernel for node: Variable_1 = Variable[container=\"\", dtype=DT_FLOAT, shape=[600000], shared_name=\"\", _device=\"/job:localhost/replica:0/task:0/gpu:0\"]()\\nI 5673393659.000000 file tensorflow/core/framework/op_kernel.cc:840] Instantiating kernel for node: Variable_1/Assign = Assign[T=DT_FLOAT, _class=[\"loc:@Variable_1\"], use_locking=true, validate_shape=true, _device=\"/job:localhost/replica:0/task:0/gpu:0\"](Variable_1, zeros_1, ^Variable/Assign)\\nI 5673393660.000000 file tensorflow/core/framework/log_memory.cc:41] __LOG_MEMORY__ MemoryLogTensorAllocation { step_id: -6 kernel_name: \"Unknown (from Proto)\" tensor { dtype: DT_FLOAT shape { dim { size: 600000 } } allocation_description { requested_bytes: 2400000 allocated_bytes: 2400000 allocator_name: \"cpu\" allocation_id: 9 has_single_reference: true ptr: 71704448 } } } timestamp 5673393660251868\\nI 5673393660.000000 file tensorflow/core/framework/log_memory.cc:41] __LOG_MEMORY__ MemoryLogTensorDeallocation { allocation_id: 9 allocator_name: \"cpu\" } timestamp 5673393660329886\\nI 5673393660.000000 file tensorflow/core/framework/op_kernel.cc:840] Instantiating kernel for node: zeros_2 = Const[dtype=DT_FLOAT, value=Tensor<type: float shape: [600000] values: 0 0 0...>, _device=\"/job:localhost/replica:0/task:0/gpu:0\"]()\\nI 5673393660.000000 file tensorflow/core/framework/log_memory.cc:41] __LOG_MEMORY__ MemoryLogTensorAllocation { step_id: -6 kernel_name: \"Unknown (from Proto)\" tensor { dtype: DT_FLOAT shape { dim { size: 600000 } } allocation_description { requested_bytes: 2400000 allocated_bytes: 4194304 allocator_name: \"cuda_host_bfc\" allocation_id: 3 has_single_reference: true ptr: 1120319569920 } } } timestamp 5673393660958291\\nI 5673393661.000000 file tensorflow/core/framework/log_memory.cc:41] __LOG_MEMORY__ MemoryLogTensorAllocation { step_id: -6 kernel_name: \"Unknown\" tensor { dtype: DT_FLOAT shape { dim { size: 600000 } } allocation_description { requested_bytes: 2400000 allocated_bytes: 2400000 allocator_name: \"gpu_bfc\" allocation_id: 5 has_single_reference: true ptr: 1108330760192 } } } timestamp 5673393661004793\\nI 5673393661.000000 file tensorflow/core/common_runtime/gpu/gpu_util.cc:308] CopyCPUTensorToGPU\\nI 5673393661.000000 file tensorflow/stream_executor/stream.cc:1331] Called Stream::ThenWaitFor(other=0x43701f0) stream=0x4370b20\\nI 5673393661.000000 file tensorflow/stream_executor/stream.cc:3783] Called Stream::ThenMemcpy(gpu_dst=0x1020da94800, host_src=0x104d8400000, size=2400000) stream=0x4370b20\\nI 5673393661.000000 file tensorflow/stream_executor/stream.cc:268] Called Stream::ThenRecordEvent(event=0x4448d70) stream=0x4370b20\\nI 5673393661.000000 file tensorflow/core/framework/log_memory.cc:41] __LOG_MEMORY__ MemoryLogTensorDeallocation { allocation_id: 3 allocator_name: \"cuda_host_bfc\" } timestamp 5673393661524035\\nI 5673393661.000000 file tensorflow/core/framework/op_kernel.cc:840] Instantiating kernel for node: Variable_2 = Variable[container=\"\", dtype=DT_FLOAT, shape=[600000], shared_name=\"\", _device=\"/job:localhost/replica:0/task:0/gpu:0\"]()\\nI 5673393661.000000 file tensorflow/core/framework/op_kernel.cc:840] Instantiating kernel for node: Variable_2/Assign = Assign[T=DT_FLOAT, _class=[\"loc:@Variable_2\"], use_locking=true, validate_shape=true, _device=\"/job:localhost/replica:0/task:0/gpu:0\"](Variable_2, zeros_2, ^Variable_1/Assign)\\nI 5673393661.000000 file tensorflow/core/framework/op_kernel.cc:840] Instantiating kernel for node: group_deps = NoOp[_device=\"/job:localhost/replica:0/task:0/gpu:0\"](^Variable/Assign, ^Variable_1/Assign, ^Variable_2/Assign)\\nI 5673393661.000000 file tensorflow/core/framework/log_memory.cc:41] __LOG_MEMORY__ MemoryLogStep { step_id: 2 handle: \"->/group_deps/0/;1\" } timestamp 5673393661785237\\nI 5673393661.000000 file tensorflow/core/common_runtime/executor.cc:1267] Process node: 0 step 2 _SOURCE = NoOp[]()\\nI 5673393684.000000 file tensorflow/core/common_runtime/gpu/gpu_device.cc:330] GpuDevice::Compute _SOURCE op NoOp on GPU0 stream[0]\\nI 5673393685.000000 file tensorflow/core/framework/log_memory.cc:41] __LOG_MEMORY__ MemoryLogTensorAllocation { step_id: -6 kernel_name: \"Unknown (from Proto)\" tensor { dtype: DT_FLOAT shape { dim { size: 600000 } } allocation_description { requested_bytes: 2400000 allocated_bytes: 2400000 allocator_name: \"cpu\" allocation_id: 10 has_single_reference: true ptr: 139665961336256 } } } timestamp 5673393685583929\\nI 5673393685.000000 file tensorflow/core/framework/log_memory.cc:41] __LOG_MEMORY__ MemoryLogTensorDeallocation { allocation_id: 10 allocator_name: \"cpu\" } timestamp 5673393685667151\\nI 5673393685.000000 file tensorflow/core/common_runtime/executor.cc:1267] Process node: 2 step 2 zeros = Const[dtype=DT_FLOAT, value=Tensor<type: float shape: [600000] values: 0 0 0...>, _device=\"/job:localhost/replica:0/task:0/gpu:0\"]()\\nI 5673393685.000000 file tensorflow/core/common_runtime/gpu/gpu_device.cc:330] GpuDevice::Compute zeros op Const on GPU0 stream[0]\\nI 5673393685.000000 file tensorflow/core/framework/log_memory.cc:41] __LOG_MEMORY__ MemoryLogTensorOutput { step_id: 2 kernel_name: \"zeros\" tensor { dtype: DT_FLOAT shape { dim { size: 600000 } } allocation_description { requested_bytes: 2400000 allocated_bytes: 2400000 allocator_name: \"gpu_bfc\" allocation_id: 3 ptr: 1108325960192 } } } timestamp 5673393685891235\\nI 5673393685.000000 file tensorflow/core/common_runtime/executor.cc:1267] Process node: 3 step 2 Variable = Variable[container=\"\", dtype=DT_FLOAT, shape=[600000], shared_name=\"\", _device=\"/job:localhost/replica:0/task:0/gpu:0\"]()\\nI 5673393685.000000 file tensorflow/core/common_runtime/gpu/gpu_device.cc:330] GpuDevice::Compute Variable op Variable on GPU0 stream[0]\\nI 5673393685.000000 file tensorflow/core/framework/log_memory.cc:41] __LOG_MEMORY__ MemoryLogTensorOutput { step_id: 2 kernel_name: \"Variable\" tensor { dtype: DT_FLOAT shape { dim { size: 600000 } } } } timestamp 5673393685962783\\nI 5673393687.000000 file tensorflow/core/framework/log_memory.cc:41] __LOG_MEMORY__ MemoryLogTensorAllocation { step_id: -6 kernel_name: \"Unknown (from Proto)\" tensor { dtype: DT_FLOAT shape { dim { size: 600000 } } allocation_description { requested_bytes: 2400000 allocated_bytes: 2400000 allocator_name: \"cpu\" allocation_id: 11 has_single_reference: true ptr: 139665961336352 } } } timestamp 5673393687330275\\nI 5673393687.000000 file tensorflow/core/framework/log_memory.cc:41] __LOG_MEMORY__ MemoryLogTensorDeallocation { allocation_id: 11 allocator_name: \"cpu\" } timestamp 5673393687389556\\nI 5673393687.000000 file tensorflow/core/common_runtime/executor.cc:1267] Process node: 5 step 2 zeros_1 = Const[dtype=DT_FLOAT, value=Tensor<type: float shape: [600000] values: 0 0 0...>, _device=\"/job:localhost/replica:0/task:0/gpu:0\"]()\\nI 5673393687.000000 file tensorflow/core/common_runtime/gpu/gpu_device.cc:330] GpuDevice::Compute zeros_1 op Const on GPU0 stream[0]\\nI 5673393687.000000 file tensorflow/core/framework/log_memory.cc:41] __LOG_MEMORY__ MemoryLogTensorOutput { step_id: 2 kernel_name: \"zeros_1\" tensor { dtype: DT_FLOAT shape { dim { size: 600000 } } allocation_description { requested_bytes: 2400000 allocated_bytes: 2400000 allocator_name: \"gpu_bfc\" allocation_id: 4 ptr: 1108328360192 } } } timestamp 5673393687595884\\nI 5673393687.000000 file tensorflow/core/common_runtime/executor.cc:1267] Process node: 6 step 2 Variable_1 = Variable[container=\"\", dtype=DT_FLOAT, shape=[600000], shared_name=\"\", _device=\"/job:localhost/replica:0/task:0/gpu:0\"]()\\nI 5673393687.000000 file tensorflow/core/common_runtime/gpu/gpu_device.cc:330] GpuDevice::Compute Variable_1 op Variable on GPU0 stream[0]\\nI 5673393687.000000 file tensorflow/core/framework/log_memory.cc:41] __LOG_MEMORY__ MemoryLogTensorOutput { step_id: 2 kernel_name: \"Variable_1\" tensor { dtype: DT_FLOAT shape { dim { size: 600000 } } } } timestamp 5673393687656467\\nI 5673393689.000000 file tensorflow/core/framework/log_memory.cc:41] __LOG_MEMORY__ MemoryLogTensorAllocation { step_id: -6 kernel_name: \"Unknown (from Proto)\" tensor { dtype: DT_FLOAT shape { dim { size: 600000 } } allocation_description { requested_bytes: 2400000 allocated_bytes: 2400000 allocator_name: \"cpu\" allocation_id: 12 has_single_reference: true ptr: 139665961336736 } } } timestamp 5673393689038425\\nI 5673393689.000000 file tensorflow/core/framework/log_memory.cc:41] __LOG_MEMORY__ MemoryLogTensorDeallocation { allocation_id: 12 allocator_name: \"cpu\" } timestamp 5673393689103328\\nI 5673393689.000000 file tensorflow/core/common_runtime/executor.cc:1267] Process node: 8 step 2 zeros_2 = Const[dtype=DT_FLOAT, value=Tensor<type: float shape: [600000] values: 0 0 0...>, _device=\"/job:localhost/replica:0/task:0/gpu:0\"]()\\nI 5673393689.000000 file tensorflow/core/common_runtime/gpu/gpu_device.cc:330] GpuDevice::Compute zeros_2 op Const on GPU0 stream[0]\\nI 5673393689.000000 file tensorflow/core/framework/log_memory.cc:41] __LOG_MEMORY__ MemoryLogTensorOutput { step_id: 2 kernel_name: \"zeros_2\" tensor { dtype: DT_FLOAT shape { dim { size: 600000 } } allocation_description { requested_bytes: 2400000 allocated_bytes: 2400000 allocator_name: \"gpu_bfc\" allocation_id: 5 ptr: 1108330760192 } } } timestamp 5673393689309439\\nI 5673393689.000000 file tensorflow/core/common_runtime/executor.cc:1267] Process node: 9 step 2 Variable_2 = Variable[container=\"\", dtype=DT_FLOAT, shape=[600000], shared_name=\"\", _device=\"/job:localhost/replica:0/task:0/gpu:0\"]()\\nI 5673393689.000000 file tensorflow/core/common_runtime/gpu/gpu_device.cc:330] GpuDevice::Compute Variable_2 op Variable on GPU0 stream[0]\\nI 5673393689.000000 file tensorflow/core/framework/log_memory.cc:41] __LOG_MEMORY__ MemoryLogTensorOutput { step_id: 2 kernel_name: \"Variable_2\" tensor { dtype: DT_FLOAT shape { dim { size: 600000 } } } } timestamp 5673393689377610\\nI 5673393689.000000 file tensorflow/core/common_runtime/executor.cc:1267] Process node: 4 step 2 Variable/Assign = Assign[T=DT_FLOAT, _class=[\"loc:@Variable\"], use_locking=true, validate_shape=true, _device=\"/job:localhost/replica:0/task:0/gpu:0\"](Variable, zeros)\\nI 5673393689.000000 file tensorflow/core/common_runtime/gpu/gpu_device.cc:330] GpuDevice::Compute Variable/Assign op Assign on GPU0 stream[0]\\nI 5673393689.000000 file tensorflow/core/framework/log_memory.cc:41] __LOG_MEMORY__ MemoryLogTensorAllocation { step_id: 2 kernel_name: \"Variable/Assign\" tensor { dtype: DT_FLOAT shape { dim { size: 600000 } } allocation_description { requested_bytes: 2400000 allocated_bytes: 2400000 allocator_name: \"gpu_bfc\" allocation_id: 6 has_single_reference: true ptr: 1108333160192 } } } timestamp 5673393689432444\\nI 5673394471.000000 file tensorflow/core/framework/log_memory.cc:41] __LOG_MEMORY__ MemoryLogTensorOutput { step_id: 2 kernel_name: \"Variable/Assign\" tensor { dtype: DT_FLOAT shape { dim { size: 600000 } } allocation_description { requested_bytes: 2400000 allocated_bytes: 2400000 allocator_name: \"gpu_bfc\" allocation_id: 6 ptr: 1108333160192 } } } timestamp 5673394471197848\\nI 5673394471.000000 file tensorflow/core/common_runtime/executor.cc:1267] Process node: 7 step 2 Variable_1/Assign = Assign[T=DT_FLOAT, _class=[\"loc:@Variable_1\"], use_locking=true, validate_shape=true, _device=\"/job:localhost/replica:0/task:0/gpu:0\"](Variable_1, zeros_1, ^Variable/Assign)\\nI 5673394471.000000 file tensorflow/core/common_runtime/gpu/gpu_device.cc:330] GpuDevice::Compute Variable_1/Assign op Assign on GPU0 stream[0]\\nI 5673394471.000000 file tensorflow/core/framework/log_memory.cc:41] __LOG_MEMORY__ MemoryLogTensorAllocation { step_id: 2 kernel_name: \"Variable_1/Assign\" tensor { dtype: DT_FLOAT shape { dim { size: 600000 } } allocation_description { requested_bytes: 2400000 allocated_bytes: 2400000 allocator_name: \"gpu_bfc\" allocation_id: 7 has_single_reference: true ptr: 1108335560192 } } } timestamp 5673394471357033\\nI 5673394471.000000 file tensorflow/core/framework/log_memory.cc:41] __LOG_MEMORY__ MemoryLogTensorOutput { step_id: 2 kernel_name: \"Variable_1/Assign\" tensor { dtype: DT_FLOAT shape { dim { size: 600000 } } allocation_description { requested_bytes: 2400000 allocated_bytes: 2400000 allocator_name: \"gpu_bfc\" allocation_id: 7 ptr: 1108335560192 } } } timestamp 5673394471421704\\nI 5673394471.000000 file tensorflow/core/common_runtime/executor.cc:1267] Process node: 10 step 2 Variable_2/Assign = Assign[T=DT_FLOAT, _class=[\"loc:@Variable_2\"], use_locking=true, validate_shape=true, _device=\"/job:localhost/replica:0/task:0/gpu:0\"](Variable_2, zeros_2, ^Variable_1/Assign)\\nI 5673394471.000000 file tensorflow/core/common_runtime/gpu/gpu_device.cc:330] GpuDevice::Compute Variable_2/Assign op Assign on GPU0 stream[0]\\nI 5673394471.000000 file tensorflow/core/framework/log_memory.cc:41] __LOG_MEMORY__ MemoryLogTensorAllocation { step_id: 2 kernel_name: \"Variable_2/Assign\" tensor { dtype: DT_FLOAT shape { dim { size: 600000 } } allocation_description { requested_bytes: 2400000 allocated_bytes: 2400000 allocator_name: \"gpu_bfc\" allocation_id: 8 has_single_reference: true ptr: 1108337960192 } } } timestamp 5673394471509936\\nI 5673394471.000000 file tensorflow/core/framework/log_memory.cc:41] __LOG_MEMORY__ MemoryLogTensorOutput { step_id: 2 kernel_name: \"Variable_2/Assign\" tensor { dtype: DT_FLOAT shape { dim { size: 600000 } } allocation_description { requested_bytes: 2400000 allocated_bytes: 2400000 allocator_name: \"gpu_bfc\" allocation_id: 8 ptr: 1108337960192 } } } timestamp 5673394471564921\\nI 5673394471.000000 file tensorflow/core/common_runtime/executor.cc:1267] Process node: 11 step 2 group_deps = NoOp[_device=\"/job:localhost/replica:0/task:0/gpu:0\"](^Variable/Assign, ^Variable_1/Assign, ^Variable_2/Assign)\\nI 5673394471.000000 file tensorflow/core/common_runtime/gpu/gpu_device.cc:330] GpuDevice::Compute group_deps op NoOp on GPU0 stream[0]\\nI 5673394471.000000 file tensorflow/core/common_runtime/gpu/gpu_util.cc:363] GPUUtil::SyncAll\\nI 5673394471.000000 file tensorflow/stream_executor/stream_executor_pimpl.cc:457] Called StreamExecutor::SynchronizeAllActivity()\\nI 5673394476.000000 file tensorflow/core/graph/subgraph.cc:217] Created fetch node: _send_Print_1_0 = _Send[T=DT_INT32, client_terminated=true, recv_device=\"/job:localhost/replica:0/task:0/cpu:0\", send_device=\"/job:localhost/replica:0/task:0/cpu:0\", send_device_incarnation=5079634328368980445, tensor_name=\"Print_1:0\"](Print_1)\\nI 5673394476.000000 file tensorflow/core/common_runtime/simple_placer.cc:827] Print_1: (Print)/job:localhost/replica:0/task:0/cpu:0\\nI 5673394476.000000 file tensorflow/core/common_runtime/simple_placer.cc:827] Const_3: (Const)/job:localhost/replica:0/task:0/cpu:0\\nI 5673394476.000000 file tensorflow/core/common_runtime/simple_placer.cc:827] Const_2: (Const)/job:localhost/replica:0/task:0/cpu:0\\nI 5673394476.000000 file tensorflow/core/common_runtime/simple_graph_execution_state.cc:279] BuildGraph\\nI 5673394476.000000 file tensorflow/core/graph/graph_partition.cc:1049] Added send/recv: controls=0, data=0\\nI 5673394476.000000 file tensorflow/core/common_runtime/function.cc:457] Graph Initial #nodes 6 #edges 7\\nI 5673394476.000000 file tensorflow/core/common_runtime/function.cc:457] Graph ReCopy #nodes 6 #edges 8\\nI 5673394476.000000 file tensorflow/core/framework/op_kernel.cc:840] Instantiating kernel for node: _SOURCE = NoOp[]()\\nI 5673394476.000000 file tensorflow/core/framework/op_kernel.cc:840] Instantiating kernel for node: _SINK = NoOp[]()\\nI 5673394476.000000 file tensorflow/core/framework/log_memory.cc:41] __LOG_MEMORY__ MemoryLogTensorAllocation { step_id: -6 kernel_name: \"Unknown (from Proto)\" tensor { dtype: DT_INT32 shape { } allocation_description { requested_bytes: 4 allocated_bytes: 4 allocator_name: \"cpu\" allocation_id: 13 has_single_reference: true ptr: 71493728 } } } timestamp 5673394476895328\\nI 5673394476.000000 file tensorflow/core/framework/log_memory.cc:41] __LOG_MEMORY__ MemoryLogTensorDeallocation { allocation_id: 13 allocator_name: \"cpu\" } timestamp 5673394476939766\\nI 5673394476.000000 file tensorflow/core/framework/op_kernel.cc:840] Instantiating kernel for node: Const_2 = Const[dtype=DT_INT32, value=Tensor<type: int32 shape: [] values: 1>, _device=\"/job:localhost/replica:0/task:0/cpu:0\"]()\\nI 5673394477.000000 file tensorflow/core/framework/log_memory.cc:41] __LOG_MEMORY__ MemoryLogTensorAllocation { step_id: -6 kernel_name: \"Unknown (from Proto)\" tensor { dtype: DT_INT32 shape { } allocation_description { requested_bytes: 4 allocated_bytes: 4 allocator_name: \"cpu\" allocation_id: 14 has_single_reference: true ptr: 71566016 } } } timestamp 5673394476995985\\nI 5673394477.000000 file tensorflow/core/framework/log_memory.cc:41] __LOG_MEMORY__ MemoryLogTensorAllocation { step_id: -6 kernel_name: \"Unknown (from Proto)\" tensor { dtype: DT_INT32 shape { } allocation_description { requested_bytes: 4 allocated_bytes: 4 allocator_name: \"cpu\" allocation_id: 15 has_single_reference: true ptr: 71567904 } } } timestamp 5673394477045712\\nI 5673394477.000000 file tensorflow/core/framework/log_memory.cc:41] __LOG_MEMORY__ MemoryLogTensorDeallocation { allocation_id: 15 allocator_name: \"cpu\" } timestamp 5673394477072912\\nI 5673394477.000000 file tensorflow/core/framework/op_kernel.cc:840] Instantiating kernel for node: Const_3 = Const[dtype=DT_INT32, value=Tensor<type: int32 shape: [] values: 1>, _device=\"/job:localhost/replica:0/task:0/cpu:0\"]()\\nI 5673394477.000000 file tensorflow/core/framework/log_memory.cc:41] __LOG_MEMORY__ MemoryLogTensorAllocation { step_id: -6 kernel_name: \"Unknown (from Proto)\" tensor { dtype: DT_INT32 shape { } allocation_description { requested_bytes: 4 allocated_bytes: 4 allocator_name: \"cpu\" allocation_id: 16 has_single_reference: true ptr: 71496448 } } } timestamp 5673394477123330\\nI 5673394477.000000 file tensorflow/core/framework/op_kernel.cc:840] Instantiating kernel for node: Print_1 = Print[T=DT_INT32, U=[DT_INT32], first_n=-1, message=\"mem<END>\", summarize=3, _device=\"/job:localhost/replica:0/task:0/cpu:0\"](Const_2, Const_3)\\nI 5673394477.000000 file tensorflow/core/framework/op_kernel.cc:840] Instantiating kernel for node: _send_Print_1_0 = _Send[T=DT_INT32, client_terminated=true, recv_device=\"/job:localhost/replica:0/task:0/cpu:0\", send_device=\"/job:localhost/replica:0/task:0/cpu:0\", send_device_incarnation=5079634328368980445, tensor_name=\"Print_1:0\", _device=\"/job:localhost/replica:0/task:0/cpu:0\"](Print_1)\\nI 5673394477.000000 file tensorflow/core/framework/log_memory.cc:41] __LOG_MEMORY__ MemoryLogStep { step_id: 3 handle: \"->Print_1:0//0/;2\" } timestamp 5673394477283067\\nI 5673394477.000000 file tensorflow/core/common_runtime/executor.cc:1267] Process node: 0 step 3 _SOURCE = NoOp[]()\\nI 5673394477.000000 file tensorflow/core/framework/log_memory.cc:41] __LOG_MEMORY__ MemoryLogTensorAllocation { step_id: -6 kernel_name: \"Unknown (from Proto)\" tensor { dtype: DT_INT32 shape { } allocation_description { requested_bytes: 4 allocated_bytes: 4 allocator_name: \"cpu\" allocation_id: 17 has_single_reference: true ptr: 139665633654240 } } } timestamp 5673394477443808\\nI 5673394477.000000 file tensorflow/core/framework/log_memory.cc:41] __LOG_MEMORY__ MemoryLogTensorDeallocation { allocation_id: 17 allocator_name: \"cpu\" } timestamp 5673394477489482\\nI 5673394477.000000 file tensorflow/core/common_runtime/executor.cc:1267] Process node: 2 step 3 Const_2 = Const[dtype=DT_INT32, value=Tensor<type: int32 shape: [] values: 1>, _device=\"/job:localhost/replica:0/task:0/cpu:0\"]()\\nI 5673394477.000000 file tensorflow/core/framework/log_memory.cc:41] __LOG_MEMORY__ MemoryLogTensorOutput { step_id: 3 kernel_name: \"Const_2\" tensor { dtype: DT_INT32 shape { } allocation_description { requested_bytes: 4 allocated_bytes: 4 allocator_name: \"cpu\" allocation_id: 14 ptr: 71566016 } } } timestamp 5673394477530546\\nI 5673394477.000000 file tensorflow/core/framework/log_memory.cc:41] __LOG_MEMORY__ MemoryLogTensorAllocation { step_id: -6 kernel_name: \"Unknown (from Proto)\" tensor { dtype: DT_INT32 shape { } allocation_description { requested_bytes: 4 allocated_bytes: 4 allocator_name: \"cpu\" allocation_id: 18 has_single_reference: true ptr: 139665633654080 } } } timestamp 5673394477567170\\nI 5673394477.000000 file tensorflow/core/framework/log_memory.cc:41] __LOG_MEMORY__ MemoryLogTensorDeallocation { allocation_id: 18 allocator_name: \"cpu\" } timestamp 5673394477595833\\nI 5673394477.000000 file tensorflow/core/common_runtime/executor.cc:1267] Process node: 3 step 3 Const_3 = Const[dtype=DT_INT32, value=Tensor<type: int32 shape: [] values: 1>, _device=\"/job:localhost/replica:0/task:0/cpu:0\"]()\\nI 5673394477.000000 file tensorflow/core/framework/log_memory.cc:41] __LOG_MEMORY__ MemoryLogTensorOutput { step_id: 3 kernel_name: \"Const_3\" tensor { dtype: DT_INT32 shape { } allocation_description { requested_bytes: 4 allocated_bytes: 4 allocator_name: \"cpu\" allocation_id: 16 ptr: 71496448 } } } timestamp 5673394477644414\\nI 5673394477.000000 file tensorflow/core/common_runtime/executor.cc:1267] Process node: 4 step 3 Print_1 = Print[T=DT_INT32, U=[DT_INT32], first_n=-1, message=\"mem<END>\", summarize=3, _device=\"/job:localhost/replica:0/task:0/cpu:0\"](Const_2, Const_3)\\nI 5673394477.000000 file tensorflow/core/kernels/logging_ops.cc:79] '"
      ]
     },
     "execution_count": 144,
     "metadata": {},
     "output_type": "execute_result"
    }
   ],
   "source": [
    "stderr2"
   ]
  },
  {
   "cell_type": "markdown",
   "metadata": {},
   "source": [
    "# End"
   ]
  },
  {
   "cell_type": "code",
   "execution_count": 99,
   "metadata": {
    "collapsed": false,
    "scrolled": true
   },
   "outputs": [
    {
     "name": "stdout",
     "output_type": "stream",
     "text": [
      "I 5673393643.000000 file tensorflow/core/framework/log_memory.cc:41] __LOG_MEMORY__ MemoryLogTensorOutput { step_id: 1 kernel_name: \"Print\" tensor { dtype: DT_INT32 shape { } allocation_description { requested_bytes: 4 allocated_bytes: 4 allocator_name: \"cpu\" allocation_id: 2 ptr: 71433760 } } } timestamp 5673393643687045\n",
      "{'step_id': '1', 'allocation_id': '2', 'line': 'I 5673393643.000000 file tensorflow/core/framework/log_memory.cc:41] __LOG_MEMORY__ MemoryLogTensorOutput { step_id: 1 kernel_name: \"Print\" tensor { dtype: DT_INT32 shape { } allocation_description { requested_bytes: 4 allocated_bytes: 4 allocator_name: \"cpu\" allocation_id: 2 ptr: 71433760 } } } timestamp 5673393643687045', 'timestamp': 5673393643687045, 'allocated_bytes': '4', 'type': 'MemoryLogTensorOutput', 'kernel_name': 'Print'}\n",
      "I 5673393648.000000 file tensorflow/core/framework/log_memory.cc:41] __LOG_MEMORY__ MemoryLogTensorAllocation { step_id: -6 kernel_name: \"Unknown (from Proto)\" tensor { dtype: DT_FLOAT shape { dim { size: 600000 } } allocation_description { requested_bytes: 2400000 allocated_bytes: 2400000 allocator_name: \"cpu\" allocation_id: 7 has_single_reference: true ptr: 71638944 } } } timestamp 5673393648489591\n",
      "{'step_id': '-6', 'allocation_id': '7', 'line': 'I 5673393648.000000 file tensorflow/core/framework/log_memory.cc:41] __LOG_MEMORY__ MemoryLogTensorAllocation { step_id: -6 kernel_name: \"Unknown (from Proto)\" tensor { dtype: DT_FLOAT shape { dim { size: 600000 } } allocation_description { requested_bytes: 2400000 allocated_bytes: 2400000 allocator_name: \"cpu\" allocation_id: 7 has_single_reference: true ptr: 71638944 } } } timestamp 5673393648489591', 'timestamp': 5673393648489591, 'allocated_bytes': '2400000', 'type': 'MemoryLogTensorAllocation', 'kernel_name': 'Unknown (from Proto)'}\n",
      "I 5673393648.000000 file tensorflow/core/framework/log_memory.cc:41] __LOG_MEMORY__ MemoryLogTensorDeallocation { allocation_id: 7 allocator_name: \"cpu\" } timestamp 5673393648605456\n",
      "{'allocation_id': '7', 'type': 'MemoryLogTensorDeallocation', 'line': 'I 5673393648.000000 file tensorflow/core/framework/log_memory.cc:41] __LOG_MEMORY__ MemoryLogTensorDeallocation { allocation_id: 7 allocator_name: \"cpu\" } timestamp 5673393648605456', 'timestamp': 5673393648605456}\n",
      "I 5673393656.000000 file tensorflow/core/framework/log_memory.cc:41] __LOG_MEMORY__ MemoryLogTensorAllocation { step_id: -6 kernel_name: \"Unknown (from Proto)\" tensor { dtype: DT_FLOAT shape { dim { size: 600000 } } allocation_description { requested_bytes: 2400000 allocated_bytes: 4194304 allocator_name: \"cuda_host_bfc\" allocation_id: 1 has_single_reference: true ptr: 1120319569920 } } } timestamp 5673393656787488\n",
      "{'step_id': '-6', 'allocation_id': '1', 'line': 'I 5673393656.000000 file tensorflow/core/framework/log_memory.cc:41] __LOG_MEMORY__ MemoryLogTensorAllocation { step_id: -6 kernel_name: \"Unknown (from Proto)\" tensor { dtype: DT_FLOAT shape { dim { size: 600000 } } allocation_description { requested_bytes: 2400000 allocated_bytes: 4194304 allocator_name: \"cuda_host_bfc\" allocation_id: 1 has_single_reference: true ptr: 1120319569920 } } } timestamp 5673393656787488', 'timestamp': 5673393656787488, 'allocated_bytes': '4194304', 'type': 'MemoryLogTensorAllocation', 'kernel_name': 'Unknown (from Proto)'}\n",
      "I 5673393656.000000 file tensorflow/core/framework/log_memory.cc:41] __LOG_MEMORY__ MemoryLogTensorAllocation { step_id: -6 kernel_name: \"Unknown\" tensor { dtype: DT_FLOAT shape { dim { size: 600000 } } allocation_description { requested_bytes: 2400000 allocated_bytes: 2400000 allocator_name: \"gpu_bfc\" allocation_id: 3 has_single_reference: true ptr: 1108325960192 } } } timestamp 5673393656851306\n",
      "{'step_id': '-6', 'allocation_id': '3', 'line': 'I 5673393656.000000 file tensorflow/core/framework/log_memory.cc:41] __LOG_MEMORY__ MemoryLogTensorAllocation { step_id: -6 kernel_name: \"Unknown\" tensor { dtype: DT_FLOAT shape { dim { size: 600000 } } allocation_description { requested_bytes: 2400000 allocated_bytes: 2400000 allocator_name: \"gpu_bfc\" allocation_id: 3 has_single_reference: true ptr: 1108325960192 } } } timestamp 5673393656851306', 'timestamp': 5673393656851306, 'allocated_bytes': '2400000', 'type': 'MemoryLogTensorAllocation', 'kernel_name': 'Unknown'}\n",
      "I 5673393657.000000 file tensorflow/core/framework/log_memory.cc:41] __LOG_MEMORY__ MemoryLogTensorDeallocation { allocation_id: 1 allocator_name: \"cuda_host_bfc\" } timestamp 5673393657308740\n",
      "{'allocation_id': '1', 'type': 'MemoryLogTensorDeallocation', 'line': 'I 5673393657.000000 file tensorflow/core/framework/log_memory.cc:41] __LOG_MEMORY__ MemoryLogTensorDeallocation { allocation_id: 1 allocator_name: \"cuda_host_bfc\" } timestamp 5673393657308740', 'timestamp': 5673393657308740}\n",
      "I 5673393658.000000 file tensorflow/core/framework/log_memory.cc:41] __LOG_MEMORY__ MemoryLogTensorAllocation { step_id: -6 kernel_name: \"Unknown (from Proto)\" tensor { dtype: DT_FLOAT shape { dim { size: 600000 } } allocation_description { requested_bytes: 2400000 allocated_bytes: 2400000 allocator_name: \"cpu\" allocation_id: 8 has_single_reference: true ptr: 71704448 } } } timestamp 5673393658156962\n",
      "{'step_id': '-6', 'allocation_id': '8', 'line': 'I 5673393658.000000 file tensorflow/core/framework/log_memory.cc:41] __LOG_MEMORY__ MemoryLogTensorAllocation { step_id: -6 kernel_name: \"Unknown (from Proto)\" tensor { dtype: DT_FLOAT shape { dim { size: 600000 } } allocation_description { requested_bytes: 2400000 allocated_bytes: 2400000 allocator_name: \"cpu\" allocation_id: 8 has_single_reference: true ptr: 71704448 } } } timestamp 5673393658156962', 'timestamp': 5673393658156962, 'allocated_bytes': '2400000', 'type': 'MemoryLogTensorAllocation', 'kernel_name': 'Unknown (from Proto)'}\n",
      "I 5673393658.000000 file tensorflow/core/framework/log_memory.cc:41] __LOG_MEMORY__ MemoryLogTensorDeallocation { allocation_id: 8 allocator_name: \"cpu\" } timestamp 5673393658231311\n",
      "{'allocation_id': '8', 'type': 'MemoryLogTensorDeallocation', 'line': 'I 5673393658.000000 file tensorflow/core/framework/log_memory.cc:41] __LOG_MEMORY__ MemoryLogTensorDeallocation { allocation_id: 8 allocator_name: \"cpu\" } timestamp 5673393658231311', 'timestamp': 5673393658231311}\n",
      "I 5673393658.000000 file tensorflow/core/framework/log_memory.cc:41] __LOG_MEMORY__ MemoryLogTensorAllocation { step_id: -6 kernel_name: \"Unknown (from Proto)\" tensor { dtype: DT_FLOAT shape { dim { size: 600000 } } allocation_description { requested_bytes: 2400000 allocated_bytes: 4194304 allocator_name: \"cuda_host_bfc\" allocation_id: 2 has_single_reference: true ptr: 1120319569920 } } } timestamp 5673393658850794\n",
      "{'step_id': '-6', 'allocation_id': '2', 'line': 'I 5673393658.000000 file tensorflow/core/framework/log_memory.cc:41] __LOG_MEMORY__ MemoryLogTensorAllocation { step_id: -6 kernel_name: \"Unknown (from Proto)\" tensor { dtype: DT_FLOAT shape { dim { size: 600000 } } allocation_description { requested_bytes: 2400000 allocated_bytes: 4194304 allocator_name: \"cuda_host_bfc\" allocation_id: 2 has_single_reference: true ptr: 1120319569920 } } } timestamp 5673393658850794', 'timestamp': 5673393658850794, 'allocated_bytes': '4194304', 'type': 'MemoryLogTensorAllocation', 'kernel_name': 'Unknown (from Proto)'}\n",
      "I 5673393658.000000 file tensorflow/core/framework/log_memory.cc:41] __LOG_MEMORY__ MemoryLogTensorAllocation { step_id: -6 kernel_name: \"Unknown\" tensor { dtype: DT_FLOAT shape { dim { size: 600000 } } allocation_description { requested_bytes: 2400000 allocated_bytes: 2400000 allocator_name: \"gpu_bfc\" allocation_id: 4 has_single_reference: true ptr: 1108328360192 } } } timestamp 5673393658899384\n",
      "{'step_id': '-6', 'allocation_id': '4', 'line': 'I 5673393658.000000 file tensorflow/core/framework/log_memory.cc:41] __LOG_MEMORY__ MemoryLogTensorAllocation { step_id: -6 kernel_name: \"Unknown\" tensor { dtype: DT_FLOAT shape { dim { size: 600000 } } allocation_description { requested_bytes: 2400000 allocated_bytes: 2400000 allocator_name: \"gpu_bfc\" allocation_id: 4 has_single_reference: true ptr: 1108328360192 } } } timestamp 5673393658899384', 'timestamp': 5673393658899384, 'allocated_bytes': '2400000', 'type': 'MemoryLogTensorAllocation', 'kernel_name': 'Unknown'}\n",
      "I 5673393659.000000 file tensorflow/core/framework/log_memory.cc:41] __LOG_MEMORY__ MemoryLogTensorDeallocation { allocation_id: 2 allocator_name: \"cuda_host_bfc\" } timestamp 5673393659455275\n",
      "{'allocation_id': '2', 'type': 'MemoryLogTensorDeallocation', 'line': 'I 5673393659.000000 file tensorflow/core/framework/log_memory.cc:41] __LOG_MEMORY__ MemoryLogTensorDeallocation { allocation_id: 2 allocator_name: \"cuda_host_bfc\" } timestamp 5673393659455275', 'timestamp': 5673393659455275}\n",
      "I 5673393660.000000 file tensorflow/core/framework/log_memory.cc:41] __LOG_MEMORY__ MemoryLogTensorAllocation { step_id: -6 kernel_name: \"Unknown (from Proto)\" tensor { dtype: DT_FLOAT shape { dim { size: 600000 } } allocation_description { requested_bytes: 2400000 allocated_bytes: 2400000 allocator_name: \"cpu\" allocation_id: 9 has_single_reference: true ptr: 71704448 } } } timestamp 5673393660251868\n",
      "{'step_id': '-6', 'allocation_id': '9', 'line': 'I 5673393660.000000 file tensorflow/core/framework/log_memory.cc:41] __LOG_MEMORY__ MemoryLogTensorAllocation { step_id: -6 kernel_name: \"Unknown (from Proto)\" tensor { dtype: DT_FLOAT shape { dim { size: 600000 } } allocation_description { requested_bytes: 2400000 allocated_bytes: 2400000 allocator_name: \"cpu\" allocation_id: 9 has_single_reference: true ptr: 71704448 } } } timestamp 5673393660251868', 'timestamp': 5673393660251868, 'allocated_bytes': '2400000', 'type': 'MemoryLogTensorAllocation', 'kernel_name': 'Unknown (from Proto)'}\n",
      "I 5673393660.000000 file tensorflow/core/framework/log_memory.cc:41] __LOG_MEMORY__ MemoryLogTensorDeallocation { allocation_id: 9 allocator_name: \"cpu\" } timestamp 5673393660329886\n",
      "{'allocation_id': '9', 'type': 'MemoryLogTensorDeallocation', 'line': 'I 5673393660.000000 file tensorflow/core/framework/log_memory.cc:41] __LOG_MEMORY__ MemoryLogTensorDeallocation { allocation_id: 9 allocator_name: \"cpu\" } timestamp 5673393660329886', 'timestamp': 5673393660329886}\n",
      "I 5673393660.000000 file tensorflow/core/framework/log_memory.cc:41] __LOG_MEMORY__ MemoryLogTensorAllocation { step_id: -6 kernel_name: \"Unknown (from Proto)\" tensor { dtype: DT_FLOAT shape { dim { size: 600000 } } allocation_description { requested_bytes: 2400000 allocated_bytes: 4194304 allocator_name: \"cuda_host_bfc\" allocation_id: 3 has_single_reference: true ptr: 1120319569920 } } } timestamp 5673393660958291\n",
      "{'step_id': '-6', 'allocation_id': '3', 'line': 'I 5673393660.000000 file tensorflow/core/framework/log_memory.cc:41] __LOG_MEMORY__ MemoryLogTensorAllocation { step_id: -6 kernel_name: \"Unknown (from Proto)\" tensor { dtype: DT_FLOAT shape { dim { size: 600000 } } allocation_description { requested_bytes: 2400000 allocated_bytes: 4194304 allocator_name: \"cuda_host_bfc\" allocation_id: 3 has_single_reference: true ptr: 1120319569920 } } } timestamp 5673393660958291', 'timestamp': 5673393660958291, 'allocated_bytes': '4194304', 'type': 'MemoryLogTensorAllocation', 'kernel_name': 'Unknown (from Proto)'}\n",
      "I 5673393661.000000 file tensorflow/core/framework/log_memory.cc:41] __LOG_MEMORY__ MemoryLogTensorAllocation { step_id: -6 kernel_name: \"Unknown\" tensor { dtype: DT_FLOAT shape { dim { size: 600000 } } allocation_description { requested_bytes: 2400000 allocated_bytes: 2400000 allocator_name: \"gpu_bfc\" allocation_id: 5 has_single_reference: true ptr: 1108330760192 } } } timestamp 5673393661004793\n",
      "{'step_id': '-6', 'allocation_id': '5', 'line': 'I 5673393661.000000 file tensorflow/core/framework/log_memory.cc:41] __LOG_MEMORY__ MemoryLogTensorAllocation { step_id: -6 kernel_name: \"Unknown\" tensor { dtype: DT_FLOAT shape { dim { size: 600000 } } allocation_description { requested_bytes: 2400000 allocated_bytes: 2400000 allocator_name: \"gpu_bfc\" allocation_id: 5 has_single_reference: true ptr: 1108330760192 } } } timestamp 5673393661004793', 'timestamp': 5673393661004793, 'allocated_bytes': '2400000', 'type': 'MemoryLogTensorAllocation', 'kernel_name': 'Unknown'}\n",
      "I 5673393661.000000 file tensorflow/core/framework/log_memory.cc:41] __LOG_MEMORY__ MemoryLogTensorDeallocation { allocation_id: 3 allocator_name: \"cuda_host_bfc\" } timestamp 5673393661524035\n",
      "{'allocation_id': '3', 'type': 'MemoryLogTensorDeallocation', 'line': 'I 5673393661.000000 file tensorflow/core/framework/log_memory.cc:41] __LOG_MEMORY__ MemoryLogTensorDeallocation { allocation_id: 3 allocator_name: \"cuda_host_bfc\" } timestamp 5673393661524035', 'timestamp': 5673393661524035}\n",
      "I 5673393661.000000 file tensorflow/core/framework/log_memory.cc:41] __LOG_MEMORY__ MemoryLogStep { step_id: 2 handle: \"->/group_deps/0/;1\" } timestamp 5673393661785237\n",
      "{'step_id': '2', 'allocation_id': -1, 'type': 'MemoryLogStep', 'line': 'I 5673393661.000000 file tensorflow/core/framework/log_memory.cc:41] __LOG_MEMORY__ MemoryLogStep { step_id: 2 handle: \"->/group_deps/0/;1\" } timestamp 5673393661785237', 'timestamp': 5673393661785237}\n",
      "I 5673393685.000000 file tensorflow/core/framework/log_memory.cc:41] __LOG_MEMORY__ MemoryLogTensorAllocation { step_id: -6 kernel_name: \"Unknown (from Proto)\" tensor { dtype: DT_FLOAT shape { dim { size: 600000 } } allocation_description { requested_bytes: 2400000 allocated_bytes: 2400000 allocator_name: \"cpu\" allocation_id: 10 has_single_reference: true ptr: 139665961336256 } } } timestamp 5673393685583929\n",
      "{'step_id': '-6', 'allocation_id': '10', 'line': 'I 5673393685.000000 file tensorflow/core/framework/log_memory.cc:41] __LOG_MEMORY__ MemoryLogTensorAllocation { step_id: -6 kernel_name: \"Unknown (from Proto)\" tensor { dtype: DT_FLOAT shape { dim { size: 600000 } } allocation_description { requested_bytes: 2400000 allocated_bytes: 2400000 allocator_name: \"cpu\" allocation_id: 10 has_single_reference: true ptr: 139665961336256 } } } timestamp 5673393685583929', 'timestamp': 5673393685583929, 'allocated_bytes': '2400000', 'type': 'MemoryLogTensorAllocation', 'kernel_name': 'Unknown (from Proto)'}\n",
      "I 5673393685.000000 file tensorflow/core/framework/log_memory.cc:41] __LOG_MEMORY__ MemoryLogTensorDeallocation { allocation_id: 10 allocator_name: \"cpu\" } timestamp 5673393685667151\n",
      "{'allocation_id': '10', 'type': 'MemoryLogTensorDeallocation', 'line': 'I 5673393685.000000 file tensorflow/core/framework/log_memory.cc:41] __LOG_MEMORY__ MemoryLogTensorDeallocation { allocation_id: 10 allocator_name: \"cpu\" } timestamp 5673393685667151', 'timestamp': 5673393685667151}\n",
      "I 5673393685.000000 file tensorflow/core/framework/log_memory.cc:41] __LOG_MEMORY__ MemoryLogTensorOutput { step_id: 2 kernel_name: \"zeros\" tensor { dtype: DT_FLOAT shape { dim { size: 600000 } } allocation_description { requested_bytes: 2400000 allocated_bytes: 2400000 allocator_name: \"gpu_bfc\" allocation_id: 3 ptr: 1108325960192 } } } timestamp 5673393685891235\n",
      "{'step_id': '2', 'allocation_id': '3', 'line': 'I 5673393685.000000 file tensorflow/core/framework/log_memory.cc:41] __LOG_MEMORY__ MemoryLogTensorOutput { step_id: 2 kernel_name: \"zeros\" tensor { dtype: DT_FLOAT shape { dim { size: 600000 } } allocation_description { requested_bytes: 2400000 allocated_bytes: 2400000 allocator_name: \"gpu_bfc\" allocation_id: 3 ptr: 1108325960192 } } } timestamp 5673393685891235', 'timestamp': 5673393685891235, 'allocated_bytes': '2400000', 'type': 'MemoryLogTensorOutput', 'kernel_name': 'zeros'}\n",
      "I 5673393685.000000 file tensorflow/core/framework/log_memory.cc:41] __LOG_MEMORY__ MemoryLogTensorOutput { step_id: 2 kernel_name: \"Variable\" tensor { dtype: DT_FLOAT shape { dim { size: 600000 } } } } timestamp 5673393685962783\n",
      "{'step_id': '2', 'line': 'I 5673393685.000000 file tensorflow/core/framework/log_memory.cc:41] __LOG_MEMORY__ MemoryLogTensorOutput { step_id: 2 kernel_name: \"Variable\" tensor { dtype: DT_FLOAT shape { dim { size: 600000 } } } } timestamp 5673393685962783', 'timestamp': 5673393685962783, 'allocation_id': -1, 'type': 'MemoryLogTensorOutput', 'kernel_name': 'Variable'}\n",
      "I 5673393687.000000 file tensorflow/core/framework/log_memory.cc:41] __LOG_MEMORY__ MemoryLogTensorAllocation { step_id: -6 kernel_name: \"Unknown (from Proto)\" tensor { dtype: DT_FLOAT shape { dim { size: 600000 } } allocation_description { requested_bytes: 2400000 allocated_bytes: 2400000 allocator_name: \"cpu\" allocation_id: 11 has_single_reference: true ptr: 139665961336352 } } } timestamp 5673393687330275\n",
      "{'step_id': '-6', 'allocation_id': '11', 'line': 'I 5673393687.000000 file tensorflow/core/framework/log_memory.cc:41] __LOG_MEMORY__ MemoryLogTensorAllocation { step_id: -6 kernel_name: \"Unknown (from Proto)\" tensor { dtype: DT_FLOAT shape { dim { size: 600000 } } allocation_description { requested_bytes: 2400000 allocated_bytes: 2400000 allocator_name: \"cpu\" allocation_id: 11 has_single_reference: true ptr: 139665961336352 } } } timestamp 5673393687330275', 'timestamp': 5673393687330275, 'allocated_bytes': '2400000', 'type': 'MemoryLogTensorAllocation', 'kernel_name': 'Unknown (from Proto)'}\n",
      "I 5673393687.000000 file tensorflow/core/framework/log_memory.cc:41] __LOG_MEMORY__ MemoryLogTensorDeallocation { allocation_id: 11 allocator_name: \"cpu\" } timestamp 5673393687389556\n",
      "{'allocation_id': '11', 'type': 'MemoryLogTensorDeallocation', 'line': 'I 5673393687.000000 file tensorflow/core/framework/log_memory.cc:41] __LOG_MEMORY__ MemoryLogTensorDeallocation { allocation_id: 11 allocator_name: \"cpu\" } timestamp 5673393687389556', 'timestamp': 5673393687389556}\n",
      "I 5673393687.000000 file tensorflow/core/framework/log_memory.cc:41] __LOG_MEMORY__ MemoryLogTensorOutput { step_id: 2 kernel_name: \"zeros_1\" tensor { dtype: DT_FLOAT shape { dim { size: 600000 } } allocation_description { requested_bytes: 2400000 allocated_bytes: 2400000 allocator_name: \"gpu_bfc\" allocation_id: 4 ptr: 1108328360192 } } } timestamp 5673393687595884\n",
      "{'step_id': '2', 'allocation_id': '4', 'line': 'I 5673393687.000000 file tensorflow/core/framework/log_memory.cc:41] __LOG_MEMORY__ MemoryLogTensorOutput { step_id: 2 kernel_name: \"zeros_1\" tensor { dtype: DT_FLOAT shape { dim { size: 600000 } } allocation_description { requested_bytes: 2400000 allocated_bytes: 2400000 allocator_name: \"gpu_bfc\" allocation_id: 4 ptr: 1108328360192 } } } timestamp 5673393687595884', 'timestamp': 5673393687595884, 'allocated_bytes': '2400000', 'type': 'MemoryLogTensorOutput', 'kernel_name': 'zeros_1'}\n",
      "I 5673393687.000000 file tensorflow/core/framework/log_memory.cc:41] __LOG_MEMORY__ MemoryLogTensorOutput { step_id: 2 kernel_name: \"Variable_1\" tensor { dtype: DT_FLOAT shape { dim { size: 600000 } } } } timestamp 5673393687656467\n",
      "{'step_id': '2', 'line': 'I 5673393687.000000 file tensorflow/core/framework/log_memory.cc:41] __LOG_MEMORY__ MemoryLogTensorOutput { step_id: 2 kernel_name: \"Variable_1\" tensor { dtype: DT_FLOAT shape { dim { size: 600000 } } } } timestamp 5673393687656467', 'timestamp': 5673393687656467, 'allocation_id': -1, 'type': 'MemoryLogTensorOutput', 'kernel_name': 'Variable_1'}\n",
      "I 5673393689.000000 file tensorflow/core/framework/log_memory.cc:41] __LOG_MEMORY__ MemoryLogTensorAllocation { step_id: -6 kernel_name: \"Unknown (from Proto)\" tensor { dtype: DT_FLOAT shape { dim { size: 600000 } } allocation_description { requested_bytes: 2400000 allocated_bytes: 2400000 allocator_name: \"cpu\" allocation_id: 12 has_single_reference: true ptr: 139665961336736 } } } timestamp 5673393689038425\n",
      "{'step_id': '-6', 'allocation_id': '12', 'line': 'I 5673393689.000000 file tensorflow/core/framework/log_memory.cc:41] __LOG_MEMORY__ MemoryLogTensorAllocation { step_id: -6 kernel_name: \"Unknown (from Proto)\" tensor { dtype: DT_FLOAT shape { dim { size: 600000 } } allocation_description { requested_bytes: 2400000 allocated_bytes: 2400000 allocator_name: \"cpu\" allocation_id: 12 has_single_reference: true ptr: 139665961336736 } } } timestamp 5673393689038425', 'timestamp': 5673393689038425, 'allocated_bytes': '2400000', 'type': 'MemoryLogTensorAllocation', 'kernel_name': 'Unknown (from Proto)'}\n",
      "I 5673393689.000000 file tensorflow/core/framework/log_memory.cc:41] __LOG_MEMORY__ MemoryLogTensorDeallocation { allocation_id: 12 allocator_name: \"cpu\" } timestamp 5673393689103328\n",
      "{'allocation_id': '12', 'type': 'MemoryLogTensorDeallocation', 'line': 'I 5673393689.000000 file tensorflow/core/framework/log_memory.cc:41] __LOG_MEMORY__ MemoryLogTensorDeallocation { allocation_id: 12 allocator_name: \"cpu\" } timestamp 5673393689103328', 'timestamp': 5673393689103328}\n",
      "I 5673393689.000000 file tensorflow/core/framework/log_memory.cc:41] __LOG_MEMORY__ MemoryLogTensorOutput { step_id: 2 kernel_name: \"zeros_2\" tensor { dtype: DT_FLOAT shape { dim { size: 600000 } } allocation_description { requested_bytes: 2400000 allocated_bytes: 2400000 allocator_name: \"gpu_bfc\" allocation_id: 5 ptr: 1108330760192 } } } timestamp 5673393689309439\n",
      "{'step_id': '2', 'allocation_id': '5', 'line': 'I 5673393689.000000 file tensorflow/core/framework/log_memory.cc:41] __LOG_MEMORY__ MemoryLogTensorOutput { step_id: 2 kernel_name: \"zeros_2\" tensor { dtype: DT_FLOAT shape { dim { size: 600000 } } allocation_description { requested_bytes: 2400000 allocated_bytes: 2400000 allocator_name: \"gpu_bfc\" allocation_id: 5 ptr: 1108330760192 } } } timestamp 5673393689309439', 'timestamp': 5673393689309439, 'allocated_bytes': '2400000', 'type': 'MemoryLogTensorOutput', 'kernel_name': 'zeros_2'}\n",
      "I 5673393689.000000 file tensorflow/core/framework/log_memory.cc:41] __LOG_MEMORY__ MemoryLogTensorOutput { step_id: 2 kernel_name: \"Variable_2\" tensor { dtype: DT_FLOAT shape { dim { size: 600000 } } } } timestamp 5673393689377610\n",
      "{'step_id': '2', 'line': 'I 5673393689.000000 file tensorflow/core/framework/log_memory.cc:41] __LOG_MEMORY__ MemoryLogTensorOutput { step_id: 2 kernel_name: \"Variable_2\" tensor { dtype: DT_FLOAT shape { dim { size: 600000 } } } } timestamp 5673393689377610', 'timestamp': 5673393689377610, 'allocation_id': -1, 'type': 'MemoryLogTensorOutput', 'kernel_name': 'Variable_2'}\n",
      "I 5673393689.000000 file tensorflow/core/framework/log_memory.cc:41] __LOG_MEMORY__ MemoryLogTensorAllocation { step_id: 2 kernel_name: \"Variable/Assign\" tensor { dtype: DT_FLOAT shape { dim { size: 600000 } } allocation_description { requested_bytes: 2400000 allocated_bytes: 2400000 allocator_name: \"gpu_bfc\" allocation_id: 6 has_single_reference: true ptr: 1108333160192 } } } timestamp 5673393689432444\n",
      "{'step_id': '2', 'allocation_id': '6', 'line': 'I 5673393689.000000 file tensorflow/core/framework/log_memory.cc:41] __LOG_MEMORY__ MemoryLogTensorAllocation { step_id: 2 kernel_name: \"Variable/Assign\" tensor { dtype: DT_FLOAT shape { dim { size: 600000 } } allocation_description { requested_bytes: 2400000 allocated_bytes: 2400000 allocator_name: \"gpu_bfc\" allocation_id: 6 has_single_reference: true ptr: 1108333160192 } } } timestamp 5673393689432444', 'timestamp': 5673393689432444, 'allocated_bytes': '2400000', 'type': 'MemoryLogTensorAllocation', 'kernel_name': 'Variable/Assign'}\n",
      "I 5673394471.000000 file tensorflow/core/framework/log_memory.cc:41] __LOG_MEMORY__ MemoryLogTensorOutput { step_id: 2 kernel_name: \"Variable/Assign\" tensor { dtype: DT_FLOAT shape { dim { size: 600000 } } allocation_description { requested_bytes: 2400000 allocated_bytes: 2400000 allocator_name: \"gpu_bfc\" allocation_id: 6 ptr: 1108333160192 } } } timestamp 5673394471197848\n",
      "{'step_id': '2', 'allocation_id': '6', 'line': 'I 5673394471.000000 file tensorflow/core/framework/log_memory.cc:41] __LOG_MEMORY__ MemoryLogTensorOutput { step_id: 2 kernel_name: \"Variable/Assign\" tensor { dtype: DT_FLOAT shape { dim { size: 600000 } } allocation_description { requested_bytes: 2400000 allocated_bytes: 2400000 allocator_name: \"gpu_bfc\" allocation_id: 6 ptr: 1108333160192 } } } timestamp 5673394471197848', 'timestamp': 5673394471197848, 'allocated_bytes': '2400000', 'type': 'MemoryLogTensorOutput', 'kernel_name': 'Variable/Assign'}\n",
      "I 5673394471.000000 file tensorflow/core/framework/log_memory.cc:41] __LOG_MEMORY__ MemoryLogTensorAllocation { step_id: 2 kernel_name: \"Variable_1/Assign\" tensor { dtype: DT_FLOAT shape { dim { size: 600000 } } allocation_description { requested_bytes: 2400000 allocated_bytes: 2400000 allocator_name: \"gpu_bfc\" allocation_id: 7 has_single_reference: true ptr: 1108335560192 } } } timestamp 5673394471357033\n",
      "{'step_id': '2', 'allocation_id': '7', 'line': 'I 5673394471.000000 file tensorflow/core/framework/log_memory.cc:41] __LOG_MEMORY__ MemoryLogTensorAllocation { step_id: 2 kernel_name: \"Variable_1/Assign\" tensor { dtype: DT_FLOAT shape { dim { size: 600000 } } allocation_description { requested_bytes: 2400000 allocated_bytes: 2400000 allocator_name: \"gpu_bfc\" allocation_id: 7 has_single_reference: true ptr: 1108335560192 } } } timestamp 5673394471357033', 'timestamp': 5673394471357033, 'allocated_bytes': '2400000', 'type': 'MemoryLogTensorAllocation', 'kernel_name': 'Variable_1/Assign'}\n",
      "I 5673394471.000000 file tensorflow/core/framework/log_memory.cc:41] __LOG_MEMORY__ MemoryLogTensorOutput { step_id: 2 kernel_name: \"Variable_1/Assign\" tensor { dtype: DT_FLOAT shape { dim { size: 600000 } } allocation_description { requested_bytes: 2400000 allocated_bytes: 2400000 allocator_name: \"gpu_bfc\" allocation_id: 7 ptr: 1108335560192 } } } timestamp 5673394471421704\n",
      "{'step_id': '2', 'allocation_id': '7', 'line': 'I 5673394471.000000 file tensorflow/core/framework/log_memory.cc:41] __LOG_MEMORY__ MemoryLogTensorOutput { step_id: 2 kernel_name: \"Variable_1/Assign\" tensor { dtype: DT_FLOAT shape { dim { size: 600000 } } allocation_description { requested_bytes: 2400000 allocated_bytes: 2400000 allocator_name: \"gpu_bfc\" allocation_id: 7 ptr: 1108335560192 } } } timestamp 5673394471421704', 'timestamp': 5673394471421704, 'allocated_bytes': '2400000', 'type': 'MemoryLogTensorOutput', 'kernel_name': 'Variable_1/Assign'}\n",
      "I 5673394471.000000 file tensorflow/core/framework/log_memory.cc:41] __LOG_MEMORY__ MemoryLogTensorAllocation { step_id: 2 kernel_name: \"Variable_2/Assign\" tensor { dtype: DT_FLOAT shape { dim { size: 600000 } } allocation_description { requested_bytes: 2400000 allocated_bytes: 2400000 allocator_name: \"gpu_bfc\" allocation_id: 8 has_single_reference: true ptr: 1108337960192 } } } timestamp 5673394471509936\n",
      "{'step_id': '2', 'allocation_id': '8', 'line': 'I 5673394471.000000 file tensorflow/core/framework/log_memory.cc:41] __LOG_MEMORY__ MemoryLogTensorAllocation { step_id: 2 kernel_name: \"Variable_2/Assign\" tensor { dtype: DT_FLOAT shape { dim { size: 600000 } } allocation_description { requested_bytes: 2400000 allocated_bytes: 2400000 allocator_name: \"gpu_bfc\" allocation_id: 8 has_single_reference: true ptr: 1108337960192 } } } timestamp 5673394471509936', 'timestamp': 5673394471509936, 'allocated_bytes': '2400000', 'type': 'MemoryLogTensorAllocation', 'kernel_name': 'Variable_2/Assign'}\n",
      "I 5673394471.000000 file tensorflow/core/framework/log_memory.cc:41] __LOG_MEMORY__ MemoryLogTensorOutput { step_id: 2 kernel_name: \"Variable_2/Assign\" tensor { dtype: DT_FLOAT shape { dim { size: 600000 } } allocation_description { requested_bytes: 2400000 allocated_bytes: 2400000 allocator_name: \"gpu_bfc\" allocation_id: 8 ptr: 1108337960192 } } } timestamp 5673394471564921\n",
      "{'step_id': '2', 'allocation_id': '8', 'line': 'I 5673394471.000000 file tensorflow/core/framework/log_memory.cc:41] __LOG_MEMORY__ MemoryLogTensorOutput { step_id: 2 kernel_name: \"Variable_2/Assign\" tensor { dtype: DT_FLOAT shape { dim { size: 600000 } } allocation_description { requested_bytes: 2400000 allocated_bytes: 2400000 allocator_name: \"gpu_bfc\" allocation_id: 8 ptr: 1108337960192 } } } timestamp 5673394471564921', 'timestamp': 5673394471564921, 'allocated_bytes': '2400000', 'type': 'MemoryLogTensorOutput', 'kernel_name': 'Variable_2/Assign'}\n",
      "I 5673394476.000000 file tensorflow/core/framework/log_memory.cc:41] __LOG_MEMORY__ MemoryLogTensorAllocation { step_id: -6 kernel_name: \"Unknown (from Proto)\" tensor { dtype: DT_INT32 shape { } allocation_description { requested_bytes: 4 allocated_bytes: 4 allocator_name: \"cpu\" allocation_id: 13 has_single_reference: true ptr: 71493728 } } } timestamp 5673394476895328\n",
      "{'step_id': '-6', 'allocation_id': '13', 'line': 'I 5673394476.000000 file tensorflow/core/framework/log_memory.cc:41] __LOG_MEMORY__ MemoryLogTensorAllocation { step_id: -6 kernel_name: \"Unknown (from Proto)\" tensor { dtype: DT_INT32 shape { } allocation_description { requested_bytes: 4 allocated_bytes: 4 allocator_name: \"cpu\" allocation_id: 13 has_single_reference: true ptr: 71493728 } } } timestamp 5673394476895328', 'timestamp': 5673394476895328, 'allocated_bytes': '4', 'type': 'MemoryLogTensorAllocation', 'kernel_name': 'Unknown (from Proto)'}\n",
      "I 5673394476.000000 file tensorflow/core/framework/log_memory.cc:41] __LOG_MEMORY__ MemoryLogTensorDeallocation { allocation_id: 13 allocator_name: \"cpu\" } timestamp 5673394476939766\n",
      "{'allocation_id': '13', 'type': 'MemoryLogTensorDeallocation', 'line': 'I 5673394476.000000 file tensorflow/core/framework/log_memory.cc:41] __LOG_MEMORY__ MemoryLogTensorDeallocation { allocation_id: 13 allocator_name: \"cpu\" } timestamp 5673394476939766', 'timestamp': 5673394476939766}\n",
      "I 5673394477.000000 file tensorflow/core/framework/log_memory.cc:41] __LOG_MEMORY__ MemoryLogTensorAllocation { step_id: -6 kernel_name: \"Unknown (from Proto)\" tensor { dtype: DT_INT32 shape { } allocation_description { requested_bytes: 4 allocated_bytes: 4 allocator_name: \"cpu\" allocation_id: 14 has_single_reference: true ptr: 71566016 } } } timestamp 5673394476995985\n",
      "{'step_id': '-6', 'allocation_id': '14', 'line': 'I 5673394477.000000 file tensorflow/core/framework/log_memory.cc:41] __LOG_MEMORY__ MemoryLogTensorAllocation { step_id: -6 kernel_name: \"Unknown (from Proto)\" tensor { dtype: DT_INT32 shape { } allocation_description { requested_bytes: 4 allocated_bytes: 4 allocator_name: \"cpu\" allocation_id: 14 has_single_reference: true ptr: 71566016 } } } timestamp 5673394476995985', 'timestamp': 5673394476995985, 'allocated_bytes': '4', 'type': 'MemoryLogTensorAllocation', 'kernel_name': 'Unknown (from Proto)'}\n",
      "I 5673394477.000000 file tensorflow/core/framework/log_memory.cc:41] __LOG_MEMORY__ MemoryLogTensorAllocation { step_id: -6 kernel_name: \"Unknown (from Proto)\" tensor { dtype: DT_INT32 shape { } allocation_description { requested_bytes: 4 allocated_bytes: 4 allocator_name: \"cpu\" allocation_id: 15 has_single_reference: true ptr: 71567904 } } } timestamp 5673394477045712\n",
      "{'step_id': '-6', 'allocation_id': '15', 'line': 'I 5673394477.000000 file tensorflow/core/framework/log_memory.cc:41] __LOG_MEMORY__ MemoryLogTensorAllocation { step_id: -6 kernel_name: \"Unknown (from Proto)\" tensor { dtype: DT_INT32 shape { } allocation_description { requested_bytes: 4 allocated_bytes: 4 allocator_name: \"cpu\" allocation_id: 15 has_single_reference: true ptr: 71567904 } } } timestamp 5673394477045712', 'timestamp': 5673394477045712, 'allocated_bytes': '4', 'type': 'MemoryLogTensorAllocation', 'kernel_name': 'Unknown (from Proto)'}\n",
      "I 5673394477.000000 file tensorflow/core/framework/log_memory.cc:41] __LOG_MEMORY__ MemoryLogTensorDeallocation { allocation_id: 15 allocator_name: \"cpu\" } timestamp 5673394477072912\n",
      "{'allocation_id': '15', 'type': 'MemoryLogTensorDeallocation', 'line': 'I 5673394477.000000 file tensorflow/core/framework/log_memory.cc:41] __LOG_MEMORY__ MemoryLogTensorDeallocation { allocation_id: 15 allocator_name: \"cpu\" } timestamp 5673394477072912', 'timestamp': 5673394477072912}\n",
      "I 5673394477.000000 file tensorflow/core/framework/log_memory.cc:41] __LOG_MEMORY__ MemoryLogTensorAllocation { step_id: -6 kernel_name: \"Unknown (from Proto)\" tensor { dtype: DT_INT32 shape { } allocation_description { requested_bytes: 4 allocated_bytes: 4 allocator_name: \"cpu\" allocation_id: 16 has_single_reference: true ptr: 71496448 } } } timestamp 5673394477123330\n",
      "{'step_id': '-6', 'allocation_id': '16', 'line': 'I 5673394477.000000 file tensorflow/core/framework/log_memory.cc:41] __LOG_MEMORY__ MemoryLogTensorAllocation { step_id: -6 kernel_name: \"Unknown (from Proto)\" tensor { dtype: DT_INT32 shape { } allocation_description { requested_bytes: 4 allocated_bytes: 4 allocator_name: \"cpu\" allocation_id: 16 has_single_reference: true ptr: 71496448 } } } timestamp 5673394477123330', 'timestamp': 5673394477123330, 'allocated_bytes': '4', 'type': 'MemoryLogTensorAllocation', 'kernel_name': 'Unknown (from Proto)'}\n",
      "I 5673394477.000000 file tensorflow/core/framework/log_memory.cc:41] __LOG_MEMORY__ MemoryLogStep { step_id: 3 handle: \"->Print_1:0//0/;2\" } timestamp 5673394477283067\n",
      "{'step_id': '3', 'allocation_id': -1, 'type': 'MemoryLogStep', 'line': 'I 5673394477.000000 file tensorflow/core/framework/log_memory.cc:41] __LOG_MEMORY__ MemoryLogStep { step_id: 3 handle: \"->Print_1:0//0/;2\" } timestamp 5673394477283067', 'timestamp': 5673394477283067}\n",
      "I 5673394477.000000 file tensorflow/core/framework/log_memory.cc:41] __LOG_MEMORY__ MemoryLogTensorAllocation { step_id: -6 kernel_name: \"Unknown (from Proto)\" tensor { dtype: DT_INT32 shape { } allocation_description { requested_bytes: 4 allocated_bytes: 4 allocator_name: \"cpu\" allocation_id: 17 has_single_reference: true ptr: 139665633654240 } } } timestamp 5673394477443808\n",
      "{'step_id': '-6', 'allocation_id': '17', 'line': 'I 5673394477.000000 file tensorflow/core/framework/log_memory.cc:41] __LOG_MEMORY__ MemoryLogTensorAllocation { step_id: -6 kernel_name: \"Unknown (from Proto)\" tensor { dtype: DT_INT32 shape { } allocation_description { requested_bytes: 4 allocated_bytes: 4 allocator_name: \"cpu\" allocation_id: 17 has_single_reference: true ptr: 139665633654240 } } } timestamp 5673394477443808', 'timestamp': 5673394477443808, 'allocated_bytes': '4', 'type': 'MemoryLogTensorAllocation', 'kernel_name': 'Unknown (from Proto)'}\n",
      "I 5673394477.000000 file tensorflow/core/framework/log_memory.cc:41] __LOG_MEMORY__ MemoryLogTensorDeallocation { allocation_id: 17 allocator_name: \"cpu\" } timestamp 5673394477489482\n",
      "{'allocation_id': '17', 'type': 'MemoryLogTensorDeallocation', 'line': 'I 5673394477.000000 file tensorflow/core/framework/log_memory.cc:41] __LOG_MEMORY__ MemoryLogTensorDeallocation { allocation_id: 17 allocator_name: \"cpu\" } timestamp 5673394477489482', 'timestamp': 5673394477489482}\n",
      "I 5673394477.000000 file tensorflow/core/framework/log_memory.cc:41] __LOG_MEMORY__ MemoryLogTensorOutput { step_id: 3 kernel_name: \"Const_2\" tensor { dtype: DT_INT32 shape { } allocation_description { requested_bytes: 4 allocated_bytes: 4 allocator_name: \"cpu\" allocation_id: 14 ptr: 71566016 } } } timestamp 5673394477530546\n",
      "{'step_id': '3', 'allocation_id': '14', 'line': 'I 5673394477.000000 file tensorflow/core/framework/log_memory.cc:41] __LOG_MEMORY__ MemoryLogTensorOutput { step_id: 3 kernel_name: \"Const_2\" tensor { dtype: DT_INT32 shape { } allocation_description { requested_bytes: 4 allocated_bytes: 4 allocator_name: \"cpu\" allocation_id: 14 ptr: 71566016 } } } timestamp 5673394477530546', 'timestamp': 5673394477530546, 'allocated_bytes': '4', 'type': 'MemoryLogTensorOutput', 'kernel_name': 'Const_2'}\n",
      "I 5673394477.000000 file tensorflow/core/framework/log_memory.cc:41] __LOG_MEMORY__ MemoryLogTensorAllocation { step_id: -6 kernel_name: \"Unknown (from Proto)\" tensor { dtype: DT_INT32 shape { } allocation_description { requested_bytes: 4 allocated_bytes: 4 allocator_name: \"cpu\" allocation_id: 18 has_single_reference: true ptr: 139665633654080 } } } timestamp 5673394477567170\n",
      "{'step_id': '-6', 'allocation_id': '18', 'line': 'I 5673394477.000000 file tensorflow/core/framework/log_memory.cc:41] __LOG_MEMORY__ MemoryLogTensorAllocation { step_id: -6 kernel_name: \"Unknown (from Proto)\" tensor { dtype: DT_INT32 shape { } allocation_description { requested_bytes: 4 allocated_bytes: 4 allocator_name: \"cpu\" allocation_id: 18 has_single_reference: true ptr: 139665633654080 } } } timestamp 5673394477567170', 'timestamp': 5673394477567170, 'allocated_bytes': '4', 'type': 'MemoryLogTensorAllocation', 'kernel_name': 'Unknown (from Proto)'}\n",
      "I 5673394477.000000 file tensorflow/core/framework/log_memory.cc:41] __LOG_MEMORY__ MemoryLogTensorDeallocation { allocation_id: 18 allocator_name: \"cpu\" } timestamp 5673394477595833\n",
      "{'allocation_id': '18', 'type': 'MemoryLogTensorDeallocation', 'line': 'I 5673394477.000000 file tensorflow/core/framework/log_memory.cc:41] __LOG_MEMORY__ MemoryLogTensorDeallocation { allocation_id: 18 allocator_name: \"cpu\" } timestamp 5673394477595833', 'timestamp': 5673394477595833}\n",
      "I 5673394477.000000 file tensorflow/core/framework/log_memory.cc:41] __LOG_MEMORY__ MemoryLogTensorOutput { step_id: 3 kernel_name: \"Const_3\" tensor { dtype: DT_INT32 shape { } allocation_description { requested_bytes: 4 allocated_bytes: 4 allocator_name: \"cpu\" allocation_id: 16 ptr: 71496448 } } } timestamp 5673394477644414\n",
      "{'step_id': '3', 'allocation_id': '16', 'line': 'I 5673394477.000000 file tensorflow/core/framework/log_memory.cc:41] __LOG_MEMORY__ MemoryLogTensorOutput { step_id: 3 kernel_name: \"Const_3\" tensor { dtype: DT_INT32 shape { } allocation_description { requested_bytes: 4 allocated_bytes: 4 allocator_name: \"cpu\" allocation_id: 16 ptr: 71496448 } } } timestamp 5673394477644414', 'timestamp': 5673394477644414, 'allocated_bytes': '4', 'type': 'MemoryLogTensorOutput', 'kernel_name': 'Const_3'}\n"
     ]
    }
   ],
   "source": [
    "for line in output.split(\"\\n\"):\n",
    "    if \"__LOG_MEMORY__\" in line:\n",
    "        print(line)\n",
    "        print(_parse_logline(line))"
   ]
  },
  {
   "cell_type": "code",
   "execution_count": 55,
   "metadata": {
    "collapsed": false
   },
   "outputs": [],
   "source": [
    "tensor_output_regex = re.compile(\"\"\"MemoryLogTensorOutput.* step_id: (?P<step_id>[-0123456789]+) kernel_name: \\\"(?P<kernel_name>[^\"]+).*allocated_bytes: (?P<allocated_bytes>\\d+).*allocation_id: (?P<allocation_id>\\d+).*timestamp (?P<timestamp>\\d+)\"\"\")\n",
    "tensor_output_regex2 = re.compile(\"\"\"MemoryLogTensorOutput.* step_id: (?P<step_id>[-0123456789]+) kernel_name: \\\"(?P<kernel_name>[^\"]+).*timestamp (?P<timestamp>\\d+)\"\"\")   "
   ]
  },
  {
   "cell_type": "code",
   "execution_count": 60,
   "metadata": {
    "collapsed": false
   },
   "outputs": [],
   "source": [
    "m = tensor_output_regex2.search(\"\"\"MemoryLogTensorOutput { step_id: 2 kernel_name: \"Variable\" tensor { dtype: DT_FLOAT shape { dim { size: 600000 } } } } timestamp 5673393685962783\"\"\")"
   ]
  },
  {
   "cell_type": "code",
   "execution_count": 62,
   "metadata": {
    "collapsed": false
   },
   "outputs": [
    {
     "data": {
      "text/plain": [
       "{'kernel_name': 'Variable', 'step_id': '2', 'timestamp': '5673393685962783'}"
      ]
     },
     "execution_count": 62,
     "metadata": {},
     "output_type": "execute_result"
    }
   ],
   "source": [
    "m.groupdict()"
   ]
  },
  {
   "cell_type": "code",
   "execution_count": 30,
   "metadata": {
    "collapsed": false
   },
   "outputs": [
    {
     "ename": "AssertionError",
     "evalue": "__LOG_MEMORY__ MemoryLogTensorAllocation { step_id: -6 kernel_name: \"Unknown (from Proto)\" tensor { dtype: DT_FLOAT shape { dim { size: 600000 } } allocation_description { requested_bytes: 2400000 allocated_bytes: 2400000 allocator_name: \"cpu\" allocation_id: 7 has_single_reference: true ptr: 71638944 } } } timestamp 5673393648489591\n",
     "output_type": "error",
     "traceback": [
      "\u001b[0;31m---------------------------------------------------------------------------\u001b[0m",
      "\u001b[0;31mAssertionError\u001b[0m                            Traceback (most recent call last)",
      "\u001b[0;32m<ipython-input-30-59d555b71d32>\u001b[0m in \u001b[0;36m<module>\u001b[0;34m()\u001b[0m\n\u001b[0;32m----> 1\u001b[0;31m \u001b[0m_parse_logline\u001b[0m\u001b[0;34m(\u001b[0m\u001b[0mline\u001b[0m\u001b[0;34m)\u001b[0m\u001b[0;34m\u001b[0m\u001b[0m\n\u001b[0m",
      "\u001b[0;32m<ipython-input-27-03cbe3bb515f>\u001b[0m in \u001b[0;36m_parse_logline\u001b[0;34m(l)\u001b[0m\n\u001b[1;32m     54\u001b[0m     \u001b[0;32melif\u001b[0m \u001b[0;34m'MemoryLogTensorAllocation'\u001b[0m \u001b[0;32min\u001b[0m \u001b[0ml\u001b[0m\u001b[0;34m:\u001b[0m\u001b[0;34m\u001b[0m\u001b[0m\n\u001b[1;32m     55\u001b[0m         \u001b[0mm\u001b[0m \u001b[0;34m=\u001b[0m \u001b[0mtensor_allocation_regex\u001b[0m\u001b[0;34m.\u001b[0m\u001b[0msearch\u001b[0m\u001b[0;34m(\u001b[0m\u001b[0ml\u001b[0m\u001b[0;34m)\u001b[0m\u001b[0;34m\u001b[0m\u001b[0m\n\u001b[0;32m---> 56\u001b[0;31m         \u001b[0;32massert\u001b[0m \u001b[0mm\u001b[0m\u001b[0;34m,\u001b[0m \u001b[0ml\u001b[0m\u001b[0;34m\u001b[0m\u001b[0m\n\u001b[0m\u001b[1;32m     57\u001b[0m         d = {f: int(m.group(f)) for f in [\"timestamp\", \"allocation_id\",\n\u001b[1;32m     58\u001b[0m                                           \"allocated_bytes\"]}\n",
      "\u001b[0;31mAssertionError\u001b[0m: __LOG_MEMORY__ MemoryLogTensorAllocation { step_id: -6 kernel_name: \"Unknown (from Proto)\" tensor { dtype: DT_FLOAT shape { dim { size: 600000 } } allocation_description { requested_bytes: 2400000 allocated_bytes: 2400000 allocator_name: \"cpu\" allocation_id: 7 has_single_reference: true ptr: 71638944 } } } timestamp 5673393648489591\n"
     ]
    }
   ],
   "source": [
    "_parse_logline(line)"
   ]
  },
  {
   "cell_type": "code",
   "execution_count": 49,
   "metadata": {
    "collapsed": true
   },
   "outputs": [],
   "source": [
    "regex = "
   ]
  },
  {
   "cell_type": "code",
   "execution_count": 50,
   "metadata": {
    "collapsed": false
   },
   "outputs": [
    {
     "data": {
      "text/plain": [
       "<_sre.SRE_Match object; span=(15, 334), match='MemoryLogTensorAllocation { step_id: -6 kernel_na>"
      ]
     },
     "execution_count": 50,
     "metadata": {},
     "output_type": "execute_result"
    }
   ],
   "source": [
    "regex.search(line)"
   ]
  },
  {
   "cell_type": "code",
   "execution_count": 51,
   "metadata": {
    "collapsed": false
   },
   "outputs": [],
   "source": [
    "tensor_allocation_regex.search(line)"
   ]
  },
  {
   "cell_type": "code",
   "execution_count": null,
   "metadata": {
    "collapsed": true
   },
   "outputs": [],
   "source": [
    "allocated_bytes: (?P<allocated_bytes>\\d+).*.*allocation_id: (?P<allocation_id>\\d+).*timestamp (?P<timestamp>\\d+)"
   ]
  }
 ],
 "metadata": {
  "kernelspec": {
   "display_name": "Python 3",
   "language": "python",
   "name": "python3"
  },
  "language_info": {
   "codemirror_mode": {
    "name": "ipython",
    "version": 3
   },
   "file_extension": ".py",
   "mimetype": "text/x-python",
   "name": "python",
   "nbconvert_exporter": "python",
   "pygments_lexer": "ipython3",
   "version": "3.5.2"
  }
 },
 "nbformat": 4,
 "nbformat_minor": 2
}
