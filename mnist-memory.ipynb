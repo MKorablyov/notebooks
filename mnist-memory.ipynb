{
 "cells": [
  {
   "cell_type": "markdown",
   "metadata": {},
   "source": [
    "# MNIST memory analysis"
   ]
  },
  {
   "cell_type": "markdown",
   "metadata": {},
   "source": [
    "## Init"
   ]
  },
  {
   "cell_type": "markdown",
   "metadata": {},
   "source": [
    "### Setting up vlog-enabled TensorFlow"
   ]
  },
  {
   "cell_type": "code",
   "execution_count": 1,
   "metadata": {
    "collapsed": true
   },
   "outputs": [],
   "source": [
    "# Tools for parsing memory allocation/deallocation logs out of\n",
    "# VLOG\n",
    "#\n",
    "# This needs\n",
    "# memory loging turned on as in\n",
    "# https://github.com/yaroslavvb/tensorflow/tree/memory_logging\n",
    "# ie\n",
    "# define VLOG_IS_ON(lvl) ((lvl) <= 1) in platform/default/logging.h\n",
    "# and\n",
    "# LOG(INFO) << LogMemory::kLogMemoryLabel << \" \" << type_name << \" { \"\n",
    "# -            << ProtoShortDebugString(proto) << \" }\";\n",
    "# +  << ProtoShortDebugString(proto) << \" } timestamp \" << CurrentThreadTimeNanos();\n",
    "# in tensorflow/core/framework/log_memory.cc\n",
    "#\n",
    "# Pre-built version\n",
    "# https://www.dropbox.com/s/pyu92nj4oifw6cg/tensorflow-0.12.0rc0-cp35-cp35m-linux_x86_64.whl?dl=0"
   ]
  },
  {
   "cell_type": "markdown",
   "metadata": {},
   "source": [
    "### Common imports"
   ]
  },
  {
   "cell_type": "code",
   "execution_count": 2,
   "metadata": {
    "collapsed": false
   },
   "outputs": [
    {
     "data": {
      "text/plain": [
       "'0.12.0-rc1'"
      ]
     },
     "execution_count": 2,
     "metadata": {},
     "output_type": "execute_result"
    }
   ],
   "source": [
    "import os\n",
    "os.environ[\"CUDA_VISIBLE_DEVICES\"]=\"\"\n",
    "%matplotlib inline\n",
    "import matplotlib.pyplot as plt\n",
    "\n",
    "import tensorflow as tf\n",
    "import re, os, sys\n",
    "tf.__version__"
   ]
  },
  {
   "cell_type": "markdown",
   "metadata": {},
   "source": [
    "### LOG_MEMORY parsing"
   ]
  },
  {
   "cell_type": "code",
   "execution_count": 48,
   "metadata": {
    "collapsed": true
   },
   "outputs": [],
   "source": [
    "# Setup utilities to parse __LOG_MEMORY__ statements in command-line\n",
    "tensor_allocation_regex = re.compile(r\"allocated_bytes: (?P<allocated_bytes>\\d+).*.*allocation_id: (?P<allocation_id>\\d+).*timestamp (?P<timestamp>\\d+)\")\n",
    "tensor_output_regex = re.compile(\"\"\"MemoryLogTensorOutput.* step_id: (?P<step_id>[-0123456789]+) kernel_name: \\\"(?P<kernel_name>[^\"]+).*allocated_bytes: (?P<allocated_bytes>\\d+).*allocation_id: (?P<allocation_id>\\d+).*timestamp (?P<timestamp>\\d+)\"\"\")   \n",
    "tensor_deallocation_regex = re.compile(r\"allocation_id: (?P<allocation_id>\\d+).*timestamp (?P<timestamp>\\d+)\")\n",
    "\n",
    "def _parse_logline(l):\n",
    "    # There are 4 kinds of lines with __LOG_MEMORY__ tag\n",
    "    # MemoryLogTensorDeallocation, MemoryLogTensorAllocation, MemoryLogStep,\n",
    "    #\n",
    "    # Example lines for debugging:\n",
    "    # MemoryLogTensorDeallocation\n",
    "    # 5143420588.000000 file tensorflow/core/framework/log_memory.cc:41] __LOG_MEMORY__ MemoryLogTensorDeallocation { allocation_id: 2 allocator_name: \"cpu\" } timestamp 5143420588459765\n",
    "\n",
    "    # MemoryLogTensorAllocation\n",
    "    # I 5143420588.000000 file tensorflow/core/framework/log_memory.cc:41] __LOG_MEMORY__ MemoryLogTensorAllocation { step_id: -6 kernel_name: \"Unknown (from Proto)\" tensor { dtype: DT_INT32 shape { dim { size: 3 } } allocation_description { requested_bytes: 12 allocated_bytes: 12 allocator_name: \"cpu\" allocation_id: 3 has_single_reference: true ptr: 29496256 } } } timestamp 5143420588526034\n",
    "\n",
    "    # MemoryLogStep\n",
    "    # I 5143420588.000000 file tensorflow/core/framework/log_memory.cc:41] __LOG_MEMORY__ MemoryLogStep { step_id: 1 handle: \"->Print:0//0/;0\" } timestamp 5143420588718348\n",
    "\n",
    "    # MemoryLogTensorOutput\n",
    "    # I 5143420588.000000 file tensorflow/core/framework/log_memory.cc:41] __LOG_MEMORY__ MemoryLogTensorOutput { step_id: 1 kernel_name: \"Const\" tensor { dtype: DT_INT32 shape { dim { size: 3 } } allocation_description { requested_bytes: 12 allocated_bytes: 12 allocator_name: \"cpu\" allocation_id: 3 ptr: 29496256 } } } timestamp 5143420588932740\n",
    "     \n",
    "    if 'MemoryLogTensorOutput' in l:\n",
    "        m = tensor_output_regex.search(l)\n",
    "        # assert m, l\n",
    "        if not m:  # some Shape lines are missing bytes info, ie\n",
    "            # I 5162643141.000000 file tensorflow/core/framework/log_memory.cc:41] __LOG_MEMORY__ MemoryLogTensorOutput { step_id: 5 kernel_name: \"gradients/Shape\" tensor { dtype: DT_INT32 shape { dim { } } } } timestamp 5162643141310124\n",
    "            return {}\n",
    "        d = {f: m.group(f) for f in [\"timestamp\", \"allocation_id\",\n",
    "                                     \"allocated_bytes\", \"kernel_name\"]}\n",
    "        d[\"timestamp\"] = int(d[\"timestamp\"])\n",
    "        d[\"allocation_id\"] = int(d[\"allocation_id\"])\n",
    "        d[\"allocated_bytes\"] = int(d[\"allocated_bytes\"])\n",
    "    elif 'MemoryLogTensorAllocation' in l:\n",
    "        m = tensor_allocation_regex.search(l)\n",
    "        d = {f: int(m.group(f)) for f in [\"timestamp\", \"allocation_id\",\n",
    "                                          \"allocated_bytes\"]}\n",
    "        d[\"kernel_name\"] = \"<unknown>\"\n",
    "    elif 'MemoryLogTensorDeallocation' in l:\n",
    "        m = tensor_deallocation_regex.search(l)\n",
    "        assert m, l\n",
    "        d = {f: int(m.group(f)) for f in [\"timestamp\", \"allocation_id\"]}\n",
    "    else:\n",
    "        d = {}\n",
    "    return d\n",
    "\n",
    "def memory_timeline(output):\n",
    "    \"\"\"Returns array of tuples representing memory actions\n",
    "    (timestamp_nanoseconds, kernel_name, memory_bytes)\n",
    "    memory is positive for allocations and negative for deallocations.\n",
    "    timestamps are relative to the first memory allocation line found\n",
    "    \"\"\"\n",
    "    \n",
    "    parsed_lines = [_parse_logline(l) for l in output.split(\"\\n\")]\n",
    "    parsed_lines = [l for l in parsed_lines if l] # remove Nones\n",
    "    parsed_lines.sort(key=lambda l: l[\"timestamp\"])\n",
    "    first_timestamp = parsed_lines[0][\"timestamp\"]\n",
    "    \n",
    "    # Tensors that are output have two records (allocation and output)\n",
    "    # since output comes after, overwrite allocation_map with output\n",
    "    # info (it has kernel_name)\n",
    "    allocation_map = {} # map of allocation_id->parsed_logline of allocation\n",
    "    double_records = {} # map of ids which have both allocation and output\n",
    "    for line in parsed_lines:\n",
    "        if \"kernel_name\" in line:\n",
    "            if line[\"allocation_id\"] in allocation_map:\n",
    "                double_records[line[\"allocation_id\"]] = True\n",
    "            line[\"allocation_id\"]\n",
    "            allocation_map[line[\"allocation_id\"]] = line\n",
    "            \n",
    "\n",
    "    result = []\n",
    "    for line in parsed_lines:\n",
    "        if \"kernel_name\" in line:\n",
    "            # ignore tensorallocation lines which will later have tensoroutput\n",
    "            if (line[\"allocation_id\"] in double_records and\n",
    "                line[\"kernel_name\"] == \"<unknown>\"):\n",
    "                continue\n",
    "            kernel_name = line[\"kernel_name\"]\n",
    "            allocated_bytes = line[\"allocated_bytes\"]\n",
    "        else: # deallocation\n",
    "            allocation_line = allocation_map[line[\"allocation_id\"]]\n",
    "            kernel_name = allocation_line[\"kernel_name\"]\n",
    "            allocated_bytes = -allocation_line[\"allocated_bytes\"]\n",
    "        result.append((line[\"timestamp\"]-first_timestamp, kernel_name,\n",
    "                       allocated_bytes))\n",
    "    return result\n",
    "\n",
    "\n",
    "def print_memory_timeline(stderr):\n",
    "    total_memory = 0\n",
    "    for record in memory_timeline(stderr):\n",
    "        timestamp, kernel_name, allocated_bytes = record\n",
    "        if abs(allocated_bytes)<1000:\n",
    "            continue  # ignore small allocations\n",
    "        total_memory += allocated_bytes\n",
    "        print(\"%9d %40s %11d %11d\"%(timestamp, kernel_name, allocated_bytes, total_memory))\n",
    "\n",
    "def plot_memory_timeline(stderr):\n",
    "    total_memory = 0\n",
    "    timestamps = []\n",
    "    data = []\n",
    "    for record in memory_timeline(stderr):\n",
    "        timestamps.append(record[0]-1)\n",
    "        data.append(total_memory)\n",
    "        total_memory += record[-1]\n",
    "        timestamps.append(record[0])\n",
    "        data.append(total_memory)\n",
    "    plt.plot(timestamps, data)\n",
    "    \n",
    "    \n",
    "run_metadata = tf.RunMetadata()\n",
    "def summarize(run_metadata=run_metadata):\n",
    "    ss = tf.contrib.stat_summarizer.NewStatSummarizer(tf.get_default_graph().as_graph_def().SerializeToString())\n",
    "    ss.ProcessStepStatsStr(run_metadata.step_stats.SerializeToString())\n",
    "    print(ss.GetOutputString())\n",
    "    \n",
    "def create_session():\n",
    "    config = tf.ConfigProto(graph_options=tf.GraphOptions(\n",
    "        optimizer_options=tf.OptimizerOptions(\n",
    "            opt_level=tf.OptimizerOptions.L0)))\n",
    "    return tf.Session(config=config)\n",
    "\n",
    "run_options = tf.RunOptions(trace_level=tf.RunOptions.FULL_TRACE)\n",
    "def sessrun(*args, **kwargs):\n",
    "    sess = create_session()\n",
    "    sess.run(tf.global_variables_initializer())\n",
    "    kwargs[\"run_metadata\"] = run_metadata\n",
    "    kwargs[\"options\"] = run_options\n",
    "    return sess.run(*args, **kwargs)\n",
    "\n",
    "import tensorflow.contrib.graph_editor as ge\n",
    "def run_after(a_tensor, b_tensor):\n",
    "    \"\"\"Force a to run after b\"\"\"\n",
    "    ge.reroute.add_control_inputs(a_tensor.op, [b_tensor.op])\n",
    "    "
   ]
  },
  {
   "cell_type": "markdown",
   "metadata": {},
   "source": [
    "### Output Redirector"
   ]
  },
  {
   "cell_type": "markdown",
   "metadata": {},
   "source": [
    "Utility to capture stderr into string. Hangs if pipe buffer is exceeded (65k). For larger outputs use <tags> as below and launch jupyter with file redirect: jupyter notebook &> /tmp/jupyter.txt"
   ]
  },
  {
   "cell_type": "code",
   "execution_count": 6,
   "metadata": {
    "collapsed": true
   },
   "outputs": [],
   "source": [
    "import os\n",
    "import sys\n",
    "\n",
    "STDOUT = 1\n",
    "STDERR = 2\n",
    "\n",
    "# this hangs when pipe buffer is full\n",
    "\n",
    "class FDRedirector(object):\n",
    "    \"\"\" Class to redirect output (stdout or stderr) at the OS level using\n",
    "        file descriptors.\n",
    "    \"\"\" \n",
    "\n",
    "    def __init__(self, fd=STDOUT):\n",
    "        \"\"\" fd is the file descriptor of the outpout you want to capture.\n",
    "            It can be STDOUT or STERR.\n",
    "        \"\"\"\n",
    "        self.fd = fd\n",
    "        self.started = False\n",
    "        self.piper = None\n",
    "        self.pipew = None\n",
    "\n",
    "    def start(self):\n",
    "        \"\"\" Setup the redirection.\n",
    "        \"\"\"\n",
    "        if not self.started:\n",
    "            self.oldhandle = os.dup(self.fd)\n",
    "            self.piper, self.pipew = os.pipe()\n",
    "            os.dup2(self.pipew, self.fd)\n",
    "            os.close(self.pipew)\n",
    "\n",
    "            self.started = True\n",
    "\n",
    "    def flush(self):\n",
    "        \"\"\" Flush the captured output, similar to the flush method of any\n",
    "        stream.\n",
    "        \"\"\"\n",
    "        if self.fd == STDOUT:\n",
    "            sys.stdout.flush()\n",
    "        elif self.fd == STDERR:\n",
    "            sys.stderr.flush()\n",
    "\n",
    "    def stop(self):\n",
    "        \"\"\" Unset the redirection and return the captured output. \n",
    "        \"\"\"\n",
    "        if self.started:\n",
    "            self.flush()\n",
    "            os.dup2(self.oldhandle, self.fd)\n",
    "            os.close(self.oldhandle)\n",
    "            f = os.fdopen(self.piper, 'r')\n",
    "            output = f.read()\n",
    "            f.close()\n",
    "\n",
    "            self.started = False\n",
    "            return output\n",
    "        else:\n",
    "            return ''\n",
    "\n",
    "    def getvalue(self):\n",
    "        \"\"\" Return the output captured since the last getvalue, or the\n",
    "        start of the redirection.\n",
    "        \"\"\"\n",
    "        output = self.stop()\n",
    "        self.start()\n",
    "        return output\n",
    "\n",
    "redirect=FDRedirector(STDERR)\n",
    "stderr = \"\"\n",
    "\n",
    "from contextlib import contextmanager\n",
    "@contextmanager\n",
    "def grab_stderr():\n",
    "    global stderr\n",
    "    redirect.start();\n",
    "    yield\n",
    "    stderr = redirect.stop()"
   ]
  },
  {
   "cell_type": "markdown",
   "metadata": {},
   "source": [
    "## Memory timeline on simple graph"
   ]
  },
  {
   "cell_type": "code",
   "execution_count": 7,
   "metadata": {
    "collapsed": false
   },
   "outputs": [],
   "source": [
    "n=1000*1000*25\n",
    "tf.reset_default_graph()\n",
    "a1 = tf.random_uniform(shape=(n,), name=\"a1\")\n",
    "a2 = tf.mul(a1, 2., name=\"a2\")\n",
    "a3 = tf.mul(a2, 2., name=\"a3\")\n",
    "a4 = tf.mul(a3, 2., name=\"a4\")\n",
    "c = tf.mul(a4, 3., name=\"cost\")\n",
    "b4 = tf.add(c, a4, name=\"b4\")\n",
    "b3 = tf.add(b4, a3, name=\"b3\")\n",
    "b2 = tf.add(b3, a2, name=\"b2\")\n",
    "b1 = tf.add(b2, a1, name=\"b1\")\n",
    "\n",
    "sess = tf.Session()\n",
    "with grab_stderr():\n",
    "    sess.run(b1)"
   ]
  },
  {
   "cell_type": "code",
   "execution_count": 8,
   "metadata": {
    "collapsed": false
   },
   "outputs": [
    {
     "data": {
      "image/png": "[encoded data removed]",
      "text/plain": [
       "<matplotlib.figure.Figure at 0x7f6be851a4a8>"
      ]
     },
     "metadata": {},
     "output_type": "display_data"
    }
   ],
   "source": [
    "plot_memory_timeline(stderr)"
   ]
  },
  {
   "cell_type": "code",
   "execution_count": 12,
   "metadata": {
    "collapsed": false
   },
   "outputs": [
    {
     "name": "stdout",
     "output_type": "stream",
     "text": [
      " 30592933               a1/RandomUniform  100000000  100000000\n",
      " 40843841                         a1/mul  100000000  200000000\n",
      " 40932787               a1/RandomUniform -100000000  100000000\n",
      " 49626711                             a1  100000000  200000000\n",
      " 49735494                         a1/mul -100000000  100000000\n",
      " 58361205                             a2  100000000  200000000\n",
      " 66034373                             a3  100000000  300000000\n",
      " 73218022                             a4  100000000  400000000\n",
      " 81991267                           cost  100000000  500000000\n",
      " 92463254                             b4  100000000  600000000\n",
      " 92560705                           cost -100000000  500000000\n",
      " 92900165                             a4 -100000000  400000000\n",
      "103306026                             b3  100000000  500000000\n",
      "103411549                             b4 -100000000  400000000\n",
      "103873232                             a3 -100000000  300000000\n",
      "116717493                             b2  100000000  400000000\n",
      "116823851                             b3 -100000000  300000000\n",
      "117447574                             a2 -100000000  200000000\n",
      "128296060                             b1  100000000  300000000\n",
      "128380736                             b2 -100000000  200000000\n",
      "128728028                             a1 -100000000  100000000\n",
      "164974750                             b1 -100000000          0\n"
     ]
    }
   ],
   "source": [
    "print_memory_timeline(stderr)"
   ]
  },
  {
   "cell_type": "markdown",
   "metadata": {},
   "source": [
    "## Memory timeline for MNIST graph"
   ]
  },
  {
   "cell_type": "code",
   "execution_count": 39,
   "metadata": {
    "collapsed": false
   },
   "outputs": [
    {
     "name": "stdout",
     "output_type": "stream",
     "text": [
      "Extracting MNIST_data/train-images-idx3-ubyte.gz\n",
      "Extracting MNIST_data/train-labels-idx1-ubyte.gz\n",
      "Extracting MNIST_data/t10k-images-idx3-ubyte.gz\n",
      "Extracting MNIST_data/t10k-labels-idx1-ubyte.gz\n",
      "WARNING:tensorflow:From <ipython-input-39-8a8529dba54e>:61 in <module>.: initialize_all_variables (from tensorflow.python.ops.variables) is deprecated and will be removed after 2017-03-02.\n",
      "Instructions for updating:\n",
      "Use `tf.global_variables_initializer` instead.\n"
     ]
    }
   ],
   "source": [
    "from tensorflow.examples.tutorials.mnist import input_data\n",
    "import tensorflow as tf\n",
    "\n",
    "tf.reset_default_graph()\n",
    " \n",
    "mnist = input_data.read_data_sets('MNIST_data', one_hot=True)\n",
    "sess = tf.InteractiveSession()\n",
    " \n",
    "x = tf.placeholder(tf.float32, shape=[None, 784], name=\"x\")\n",
    "y_ = tf.placeholder(tf.float32, shape=[None, 10], name=\"y\")\n",
    " \n",
    "def weight_variable(shape, name=\"\"):\n",
    "  initial = tf.truncated_normal(shape, stddev=0.1)\n",
    "  return tf.Variable(initial, name=name)\n",
    " \n",
    "def bias_variable(shape, name=\"\"):\n",
    "  initial = tf.constant(0.1, shape=shape)\n",
    "  return tf.Variable(initial, name=name)\n",
    " \n",
    "def conv2d(x, W, name=\"\"):\n",
    "  return tf.nn.conv2d(x, W, strides=[1, 1, 1, 1], padding='SAME', name=name)\n",
    " \n",
    "def max_pool_2x2(x, name=\"\"):\n",
    "  return tf.nn.max_pool(x, ksize=[1, 2, 2, 1],\n",
    "                        strides=[1, 2, 2, 1], padding='SAME', name=name)\n",
    " \n",
    " \n",
    "W_conv1 = weight_variable([5, 5, 1, 32], name=\"W1\")\n",
    "b_conv1 = bias_variable([32], name=\"b1\")\n",
    " \n",
    "x_image = tf.reshape(x, [-1,28,28,1])\n",
    " \n",
    "h_conv1 = tf.nn.relu(conv2d(x_image, W_conv1, name=\"h_conv1\") + b_conv1, name=\"h_conv1_relu\")\n",
    "h_pool1 = max_pool_2x2(h_conv1, name=\"h_pool1\")\n",
    " \n",
    "W_conv2 = weight_variable([5, 5, 32, 64], name=\"W_conv2\")\n",
    "b_conv2 = bias_variable([64], name=\"b_conv2\")\n",
    " \n",
    "h_conv2 = tf.nn.relu(conv2d(h_pool1, W_conv2, name=\"h_conv2\") + b_conv2, name=\"h_conv2_relu\")\n",
    "h_pool2 = max_pool_2x2(h_conv2, name=\"h_pool2\")\n",
    " \n",
    "W_fc1 = weight_variable([7 * 7 * 64, 1024], name=\"W_fc1\")\n",
    "b_fc1 = bias_variable([1024], name=\"b_fc1\")\n",
    " \n",
    "h_pool2_flat = tf.reshape(h_pool2, [-1, 7*7*64], name=\"h_pool2_flat\")\n",
    "h_fc1 = tf.nn.relu(tf.matmul(h_pool2_flat, W_fc1) + b_fc1, name=\"h_fc1\")\n",
    " \n",
    "keep_prob = tf.placeholder(tf.float32, name=\"keep_prob\")\n",
    "h_fc1_drop = tf.nn.dropout(h_fc1, keep_prob, name=\"h_fc1_drop\")\n",
    " \n",
    "W_fc2 = weight_variable([1024, 10], name=\"W_fc2\")\n",
    "b_fc2 = bias_variable([10], name=\"b_fc2\")\n",
    " \n",
    "matmul2 = tf.matmul(h_fc1_drop, W_fc2, name=\"matmul2\")\n",
    "y_conv = tf.add(matmul2, b_fc2, name=\"y_conv\")\n",
    " \n",
    "cross_entropy = tf.reduce_mean(tf.nn.softmax_cross_entropy_with_logits(y_conv, y_), name=\"cross_entropy\")\n",
    "train_step = tf.train.AdamOptimizer(1e-4).minimize(cross_entropy)\n",
    "correct_prediction = tf.equal(tf.argmax(y_conv, 1), tf.argmax(y_, 1))\n",
    "accuracy = tf.reduce_mean(tf.cast(correct_prediction, tf.float32))\n",
    "sess.run(tf.initialize_all_variables())"
   ]
  },
  {
   "cell_type": "markdown",
   "metadata": {},
   "source": [
    "### Memory timeline for eval step"
   ]
  },
  {
   "cell_type": "code",
   "execution_count": 40,
   "metadata": {
    "collapsed": true
   },
   "outputs": [],
   "source": [
    "def open_tag(tag):\n",
    "    sess.run(tf.Print(tf.constant(1), [tf.constant(1)], tag+\"<BEGIN>\"))\n",
    "    \n",
    "def close_tag(tag):\n",
    "    sess.run(tf.Print(tf.constant(1), [tf.constant(1)], tag+\"<END>\"))\n",
    "    \n",
    "def grab_output(tag, filename=\"/tmp/jupyter.txt\"):\n",
    "    s = open(filename).read()\n",
    "    opening_tag = tag+\"<BEGIN>\"\n",
    "    ending_tag = tag+\"<END>\"\n",
    "    starting_pos = s.rfind(opening_tag)\n",
    "    ending_pos = s.rfind(ending_tag)\n",
    "    return s[starting_pos:ending_pos]"
   ]
  },
  {
   "cell_type": "code",
   "execution_count": 50,
   "metadata": {
    "collapsed": false
   },
   "outputs": [],
   "source": [
    "n = 1000\n",
    "open_tag('mnist')\n",
    "sess.run(accuracy.op, feed_dict={ x:mnist.train.images[:n], y_: mnist.train.labels[:n], keep_prob: 1.0})\n",
    "close_tag('mnist')\n",
    "output = grab_output('mnist')"
   ]
  },
  {
   "cell_type": "code",
   "execution_count": 51,
   "metadata": {
    "collapsed": false
   },
   "outputs": [
    {
     "data": {
      "image/png": "[encoded data removed]",
      "text/plain": [
       "<matplotlib.figure.Figure at 0x7f6be053a438>"
      ]
     },
     "metadata": {},
     "output_type": "display_data"
    }
   ],
   "source": [
    "plot_memory_timeline(output)"
   ]
  },
  {
   "cell_type": "code",
   "execution_count": 52,
   "metadata": {
    "collapsed": false
   },
   "outputs": [
    {
     "name": "stdout",
     "output_type": "stream",
     "text": [
      "  2940766                                       W1        3200        3200\n",
      "  2960737                                    W_fc1    12845056    12848256\n",
      "  3008672                                  W_conv2      204800    13053056\n",
      "  3070758                                    b_fc1        4096    13057152\n",
      "  3086434                                    W_fc2       40960    13098112\n",
      "  3200656                                  W1/read        3200    13101312\n",
      "  3265057                             W_conv2/read      204800    13306112\n",
      "  3375293                               W_fc2/read       40960    13347072\n",
      "  3479547                               W_fc1/read    12845056    26192128\n",
      "  3517752                               b_fc1/read        4096    26196224\n",
      "  4243287                                 ArgMax_1        8000    26204224\n",
      " 49315014                                  h_conv1   100352000   126556224\n",
      " 62631584                                      add   100352000   226908224\n",
      " 62726271                                  h_conv1  -100352000   126556224\n",
      " 71007851                             h_conv1_relu   100352000   226908224\n",
      " 71079685                                      add  -100352000   126556224\n",
      " 76552159                                  h_pool1    25088000   151644224\n",
      " 76618012                             h_conv1_relu  -100352000    51292224\n",
      "186553065                                  h_conv2    50176000   101468224\n",
      "186616632                                  h_pool1   -25088000    76380224\n",
      "192708350                                    add_1    50176000   126556224\n",
      "192769699                                  h_conv2   -50176000    76380224\n",
      "197935750                             h_conv2_relu    50176000   126556224\n",
      "198012593                                    add_1   -50176000    76380224\n",
      "200978919                                  h_pool2    12544000    88924224\n",
      "201035594                             h_conv2_relu   -50176000    38748224\n",
      "201420834                             h_pool2_flat    12544000    51292224\n",
      "227794039                                   MatMul     4096000    55388224\n",
      "227863072                             h_pool2_flat   -12544000    42844224\n",
      "228315982                                    add_2     4096000    46940224\n",
      "228339654                                   MatMul    -4096000    42844224\n",
      "229392555                                    h_fc1     4096000    46940224\n",
      "229415481                                    add_2    -4096000    42844224\n",
      "230235207                           h_fc1_drop/Div     4096000    46940224\n",
      "230262492                                    h_fc1    -4096000    42844224\n",
      "230537890  h_fc1_drop/random_uniform/RandomUniform     4096000    46940224\n",
      "231114764            h_fc1_drop/random_uniform/mul     4096000    51036224\n",
      "231137162  h_fc1_drop/random_uniform/RandomUniform    -4096000    46940224\n",
      "231413264                h_fc1_drop/random_uniform     4096000    51036224\n",
      "231434163            h_fc1_drop/random_uniform/mul    -4096000    46940224\n",
      "232149041                           h_fc1_drop/add     4096000    51036224\n",
      "232183111                h_fc1_drop/random_uniform    -4096000    46940224\n",
      "232567079                         h_fc1_drop/Floor     4096000    51036224\n",
      "232588089                           h_fc1_drop/add    -4096000    46940224\n",
      "233362125                           h_fc1_drop/mul     4096000    51036224\n",
      "233428225                           h_fc1_drop/Div    -4096000    46940224\n",
      "233733947                         h_fc1_drop/Floor    -4096000    42844224\n",
      "234393884                                  matmul2       40000    42884224\n",
      "234427281                           h_fc1_drop/mul    -4096000    38788224\n",
      "235085206                                   y_conv       40000    38828224\n",
      "235100530                                  matmul2      -40000    38788224\n",
      "235180474                                   ArgMax        8000    38796224\n",
      "235193222                                   y_conv      -40000    38756224\n",
      "235241485                                    Equal        1000    38757224\n",
      "235253690                                   ArgMax       -8000    38749224\n",
      "235261397                                 ArgMax_1       -8000    38741224\n",
      "235308819                                   Cast_1        4000    38745224\n",
      "235321049                                    Equal       -1000    38744224\n",
      "235427582                                   Cast_1       -4000    38740224\n"
     ]
    }
   ],
   "source": [
    "print_memory_timeline(output)"
   ]
  },
  {
   "cell_type": "code",
   "execution_count": 19,
   "metadata": {
    "collapsed": true
   },
   "outputs": [],
   "source": [
    "sessrun(accuracy.op, feed_dict={ x:mnist.train.images[:1000], y_: mnist.train.labels[:1000], keep_prob: 1.0})"
   ]
  },
  {
   "cell_type": "code",
   "execution_count": 20,
   "metadata": {
    "collapsed": false
   },
   "outputs": [
    {
     "name": "stdout",
     "output_type": "stream",
     "text": [
      "Total time (us): curr=215701 count=11 runs, avg 215.7 ms, 368 nodes defined 53 nodes observed\n",
      "530277.02 avg KB per run.\n",
      "\n",
      "============ By run order (ms) =================\n",
      "  [start]  [first]    [avg]\t     [%] \t  [cdf%] \t      [Op]\t[Name]\n",
      "    0.000    0.058    0.058\t  0.027%\t  0.027%\t          \t_SOURCE\n",
      "    0.157    0.335    0.335\t  0.155%\t  0.182%\t  Variable\tVariable\n",
      "    0.167    0.809    0.809\t  0.375%\t  0.557%\t     Const\tReshape/shape\n",
      "    0.168    0.511    0.511\t  0.237%\t  0.794%\t  Variable\tVariable_2\n",
      "    0.168    0.498    0.498\t  0.231%\t  1.025%\t  Variable\tVariable_1\n",
      "    0.169    0.143    0.143\t  0.066%\t  1.091%\t  Variable\tVariable_3\n",
      "    0.185    0.439    0.439\t  0.204%\t  1.295%\t  Variable\tVariable_4\n",
      "    0.200    0.545    0.545\t  0.253%\t  1.548%\t  Variable\tVariable_5\n",
      "    0.203    0.444    0.444\t  0.206%\t  1.753%\t  Variable\tVariable_6\n",
      "    0.211    0.133    0.133\t  0.062%\t  1.815%\t  Variable\tVariable_7\n",
      "    0.361    0.274    0.274\t  0.127%\t  1.942%\t  Identity\tVariable_7/read\n",
      "    0.507    0.060    0.060\t  0.028%\t  1.970%\t  Identity\tVariable_3/read\n",
      "    0.519    0.212    0.212\t  0.098%\t  2.068%\t  Identity\tVariable/read\n",
      "    0.707    0.226    0.226\t  0.105%\t  2.173%\t  Identity\tVariable_2/read\n",
      "    0.765    0.071    0.071\t  0.033%\t  2.206%\t  Identity\tVariable_5/read\n",
      "    0.778    0.181    0.181\t  0.084%\t  2.290%\t  Identity\tVariable_6/read\n",
      "    0.784    0.123    0.123\t  0.057%\t  2.347%\t  Identity\tVariable_1/read\n",
      "    0.808    0.144    0.144\t  0.067%\t  2.414%\t  Identity\tVariable_4/read\n",
      "    0.993    0.113    0.113\t  0.052%\t  2.466%\t     Const\tReshape_1/shape\n",
      "    1.117    0.095    0.095\t  0.044%\t  2.510%\t     Const\tdropout/random_uniform/min\n",
      "    1.224    0.084    0.084\t  0.039%\t  2.549%\t     Const\tdropout/random_uniform/max\n",
      "    1.327    0.087    0.087\t  0.040%\t  2.589%\t     Const\tArgMax/dimension\n",
      "    1.364    0.153    0.153\t  0.071%\t  2.660%\t       Sub\tdropout/random_uniform/sub\n",
      "    1.425    0.100    0.100\t  0.046%\t  2.707%\t     Const\tArgMax_1/dimension\n",
      "    1.541    0.182    0.182\t  0.084%\t  2.791%\t    ArgMax\tArgMax_1\n",
      "    1.544    0.094    0.094\t  0.044%\t  2.834%\t     Const\tConst_7\n",
      "    1.649    0.044    0.044\t  0.020%\t  2.855%\t   Reshape\tReshape\n",
      "    1.705   38.323   38.323\t 17.767%\t 20.622%\t    Conv2D\tConv2D\n",
      "   40.053   11.787   11.787\t  5.465%\t 26.086%\t       Add\tadd\n",
      "   51.881    8.626    8.626\t  3.999%\t 30.085%\t      Relu\tRelu\n",
      "   60.536    5.239    5.239\t  2.429%\t 32.514%\t   MaxPool\tMaxPool\n",
      "   65.803  102.525  102.525\t 47.531%\t 80.045%\t    Conv2D\tConv2D_1\n",
      "  168.348    4.994    4.994\t  2.315%\t 82.360%\t       Add\tadd_1\n",
      "  173.367    4.808    4.808\t  2.229%\t 84.589%\t      Relu\tRelu_1\n",
      "  178.197    2.466    2.466\t  1.143%\t 85.733%\t   MaxPool\tMaxPool_1\n",
      "  180.685    0.042    0.042\t  0.019%\t 85.752%\t   Reshape\tReshape_1\n",
      "  180.735   23.768   23.768\t 11.019%\t 96.771%\t    MatMul\tMatMul\n",
      "  204.520    0.471    0.471\t  0.218%\t 96.989%\t       Add\tadd_2\n",
      "  205.002    0.448    0.448\t  0.208%\t 97.197%\t      Relu\tRelu_2\n",
      "  205.467    0.045    0.045\t  0.021%\t 97.218%\t     Shape\tdropout/Shape\n",
      "  205.476    1.268    1.268\t  0.588%\t 97.806%\t       Div\tdropout/Div\n",
      "  205.520    1.141    1.141\t  0.529%\t 98.335%\tRandomUniform\tdropout/random_uniform/RandomUniform\n",
      "  206.682    0.647    0.647\t  0.300%\t 98.635%\t       Mul\tdropout/random_uniform/mul\n",
      "  207.352    0.377    0.377\t  0.175%\t 98.809%\t       Add\tdropout/random_uniform\n",
      "  207.741    0.363    0.363\t  0.168%\t 98.978%\t       Add\tdropout/add\n",
      "  208.114    0.631    0.631\t  0.293%\t 99.270%\t     Floor\tdropout/Floor\n",
      "  208.756    0.448    0.448\t  0.208%\t 99.478%\t       Mul\tdropout/mul\n",
      "  209.215    0.649    0.649\t  0.301%\t 99.779%\t    MatMul\tMatMul_1\n",
      "  209.873    0.140    0.140\t  0.065%\t 99.844%\t       Add\tadd_3\n",
      "  210.021    0.103    0.103\t  0.048%\t 99.892%\t    ArgMax\tArgMax\n",
      "  210.132    0.069    0.069\t  0.032%\t 99.924%\t     Equal\tEqual\n",
      "  210.208    0.057    0.057\t  0.026%\t 99.950%\t      Cast\tCast_1\n",
      "  210.273    0.108    0.108\t  0.050%\t100.000%\t      Mean\tMean_1\n",
      "1 runs, avg 215.7 ms, 368 nodes defined 53 nodes observed\n",
      "530277.02 avg KB per run.\n",
      "\n",
      "============ Top by duration in ms =================\n",
      "  [start]  [first]    [avg]\t     [%] \t  [cdf%] \t      [Op]\t[Name]\n",
      "   65.803  102.525  102.525\t 47.531%\t 47.531%\t    Conv2D\tConv2D_1\n",
      "    1.705   38.323   38.323\t 17.767%\t 65.298%\t    Conv2D\tConv2D\n",
      "  180.735   23.768   23.768\t 11.019%\t 76.317%\t    MatMul\tMatMul\n",
      "   40.053   11.787   11.787\t  5.465%\t 81.781%\t       Add\tadd\n",
      "   51.881    8.626    8.626\t  3.999%\t 85.780%\t      Relu\tRelu\n",
      "   60.536    5.239    5.239\t  2.429%\t 88.209%\t   MaxPool\tMaxPool\n",
      "  168.348    4.994    4.994\t  2.315%\t 90.524%\t       Add\tadd_1\n",
      "  173.367    4.808    4.808\t  2.229%\t 92.753%\t      Relu\tRelu_1\n",
      "  178.197    2.466    2.466\t  1.143%\t 93.897%\t   MaxPool\tMaxPool_1\n",
      "  205.476    1.268    1.268\t  0.588%\t 94.484%\t       Div\tdropout/Div\n",
      "  205.520    1.141    1.141\t  0.529%\t 95.013%\tRandomUniform\tdropout/random_uniform/RandomUniform\n",
      "    0.167    0.809    0.809\t  0.375%\t 95.389%\t     Const\tReshape/shape\n",
      "  209.215    0.649    0.649\t  0.301%\t 95.689%\t    MatMul\tMatMul_1\n",
      "  206.682    0.647    0.647\t  0.300%\t 95.989%\t       Mul\tdropout/random_uniform/mul\n",
      "  208.114    0.631    0.631\t  0.293%\t 96.282%\t     Floor\tdropout/Floor\n",
      "    0.200    0.545    0.545\t  0.253%\t 96.535%\t  Variable\tVariable_5\n",
      "    0.168    0.511    0.511\t  0.237%\t 96.771%\t  Variable\tVariable_2\n",
      "    0.168    0.498    0.498\t  0.231%\t 97.002%\t  Variable\tVariable_1\n",
      "  204.520    0.471    0.471\t  0.218%\t 97.221%\t       Add\tadd_2\n",
      "  205.002    0.448    0.448\t  0.208%\t 97.428%\t      Relu\tRelu_2\n",
      "  208.756    0.448    0.448\t  0.208%\t 97.636%\t       Mul\tdropout/mul\n",
      "    0.203    0.444    0.444\t  0.206%\t 97.842%\t  Variable\tVariable_6\n",
      "    0.185    0.439    0.439\t  0.204%\t 98.045%\t  Variable\tVariable_4\n",
      "  207.352    0.377    0.377\t  0.175%\t 98.220%\t       Add\tdropout/random_uniform\n",
      "  207.741    0.363    0.363\t  0.168%\t 98.389%\t       Add\tdropout/add\n",
      "    0.157    0.335    0.335\t  0.155%\t 98.544%\t  Variable\tVariable\n",
      "    0.361    0.274    0.274\t  0.127%\t 98.671%\t  Identity\tVariable_7/read\n",
      "    0.707    0.226    0.226\t  0.105%\t 98.776%\t  Identity\tVariable_2/read\n",
      "    0.519    0.212    0.212\t  0.098%\t 98.874%\t  Identity\tVariable/read\n",
      "    1.541    0.182    0.182\t  0.084%\t 98.958%\t    ArgMax\tArgMax_1\n",
      "    0.778    0.181    0.181\t  0.084%\t 99.042%\t  Identity\tVariable_6/read\n",
      "    1.364    0.153    0.153\t  0.071%\t 99.113%\t       Sub\tdropout/random_uniform/sub\n",
      "    0.808    0.144    0.144\t  0.067%\t 99.180%\t  Identity\tVariable_4/read\n",
      "    0.169    0.143    0.143\t  0.066%\t 99.246%\t  Variable\tVariable_3\n",
      "  209.873    0.140    0.140\t  0.065%\t 99.311%\t       Add\tadd_3\n",
      "    0.211    0.133    0.133\t  0.062%\t 99.373%\t  Variable\tVariable_7\n",
      "    0.784    0.123    0.123\t  0.057%\t 99.430%\t  Identity\tVariable_1/read\n",
      "    0.993    0.113    0.113\t  0.052%\t 99.482%\t     Const\tReshape_1/shape\n",
      "  210.273    0.108    0.108\t  0.050%\t 99.532%\t      Mean\tMean_1\n",
      "  210.021    0.103    0.103\t  0.048%\t 99.580%\t    ArgMax\tArgMax\n",
      "    1.425    0.100    0.100\t  0.046%\t 99.626%\t     Const\tArgMax_1/dimension\n",
      "    1.117    0.095    0.095\t  0.044%\t 99.670%\t     Const\tdropout/random_uniform/min\n",
      "    1.544    0.094    0.094\t  0.044%\t 99.714%\t     Const\tConst_7\n",
      "    1.327    0.087    0.087\t  0.040%\t 99.754%\t     Const\tArgMax/dimension\n",
      "    1.224    0.084    0.084\t  0.039%\t 99.793%\t     Const\tdropout/random_uniform/max\n",
      "    0.765    0.071    0.071\t  0.033%\t 99.826%\t  Identity\tVariable_5/read\n",
      "  210.132    0.069    0.069\t  0.032%\t 99.858%\t     Equal\tEqual\n",
      "    0.507    0.060    0.060\t  0.028%\t 99.886%\t  Identity\tVariable_3/read\n",
      "    0.000    0.058    0.058\t  0.027%\t 99.913%\t          \t_SOURCE\n",
      "  210.208    0.057    0.057\t  0.026%\t 99.939%\t      Cast\tCast_1\n",
      "  205.467    0.045    0.045\t  0.021%\t 99.960%\t     Shape\tdropout/Shape\n",
      "    1.649    0.044    0.044\t  0.020%\t 99.981%\t   Reshape\tReshape\n",
      "  180.685    0.042    0.042\t  0.019%\t100.000%\t   Reshape\tReshape_1\n",
      "Total Memory (bytes): curr=530277020 count=11 runs, avg 215.7 ms, 368 nodes defined 53 nodes observed\n",
      "530277.02 avg KB per run.\n",
      "\n",
      "============ By run order (KB) =================\n",
      "  [start]  [first]    [avg]\t     [%] \t  [cdf%] \t      [Op]\t[Name]\n",
      "    0.000    0.004    0.004\t  0.000%\t  0.000%\t       Sub\tdropout/random_uniform/sub\n",
      "    0.000    0.000    0.000\t  0.000%\t  0.000%\t     Const\tArgMax/dimension\n",
      "    0.000    0.000    0.000\t  0.000%\t  0.000%\t     Const\tReshape_1/shape\n",
      "    0.000    0.000    0.000\t  0.000%\t  0.000%\t     Const\tdropout/random_uniform/max\n",
      "    0.000    0.000    0.000\t  0.000%\t  0.000%\t  Variable\tVariable_2\n",
      "    0.000    0.000    0.000\t  0.000%\t  0.000%\t  Identity\tVariable_4/read\n",
      "    0.000    0.000    0.000\t  0.000%\t  0.000%\t  Identity\tVariable_7/read\n",
      "    0.000    0.000    0.000\t  0.000%\t  0.000%\t  Identity\tVariable_5/read\n",
      "    0.000    0.000    0.000\t  0.000%\t  0.000%\t  Variable\tVariable_5\n",
      "    0.000    0.000    0.000\t  0.000%\t  0.000%\t  Identity\tVariable/read\n",
      "    0.000    0.000    0.000\t  0.000%\t  0.000%\t  Variable\tVariable_6\n",
      "    0.000    0.000    0.000\t  0.000%\t  0.000%\t  Identity\tVariable_2/read\n",
      "    0.000    0.000    0.000\t  0.000%\t  0.000%\t  Identity\tVariable_3/read\n",
      "    0.000    0.000    0.000\t  0.000%\t  0.000%\t  Variable\tVariable_3\n",
      "    0.000    0.000    0.000\t  0.000%\t  0.000%\t  Variable\tVariable_1\n",
      "    0.000    0.000    0.000\t  0.000%\t  0.000%\t     Const\tdropout/random_uniform/min\n",
      "    0.000    0.000    0.000\t  0.000%\t  0.000%\t  Variable\tVariable_4\n",
      "    0.000    0.000    0.000\t  0.000%\t  0.000%\t  Variable\tVariable_7\n",
      "    0.000    0.000    0.000\t  0.000%\t  0.000%\t     Const\tReshape/shape\n",
      "    0.000    0.000    0.000\t  0.000%\t  0.000%\t          \t_SOURCE\n",
      "    0.000    0.000    0.000\t  0.000%\t  0.000%\t  Variable\tVariable\n",
      "    0.000    0.000    0.000\t  0.000%\t  0.000%\t  Identity\tVariable_6/read\n",
      "    0.000    0.000    0.000\t  0.000%\t  0.000%\t  Identity\tVariable_1/read\n",
      "    0.004    0.000    0.000\t  0.000%\t  0.000%\t     Const\tConst_7\n",
      "    0.004    8.000    8.000\t  0.002%\t  0.002%\t    ArgMax\tArgMax_1\n",
      "    0.004    0.000    0.000\t  0.000%\t  0.002%\t   Reshape\tReshape\n",
      "    0.004    0.000    0.000\t  0.000%\t  0.002%\t     Const\tArgMax_1/dimension\n",
      "    8.004100352.000100352.000\t 18.924%\t 18.926%\t    Conv2D\tConv2D\n",
      "100360.004100352.000100352.000\t 18.924%\t 37.850%\t       Add\tadd\n",
      "200712.004100352.000100352.000\t 18.924%\t 56.775%\t      Relu\tRelu\n",
      "301064.00425088.00025088.000\t  4.731%\t 61.506%\t   MaxPool\tMaxPool\n",
      "326152.00450176.00050176.000\t  9.462%\t 70.968%\t    Conv2D\tConv2D_1\n",
      "376328.00450176.00050176.000\t  9.462%\t 80.430%\t       Add\tadd_1\n",
      "426504.00450176.00050176.000\t  9.462%\t 89.893%\t      Relu\tRelu_1\n",
      "476680.00412544.00012544.000\t  2.366%\t 92.258%\t   MaxPool\tMaxPool_1\n",
      "489224.004    0.000    0.000\t  0.000%\t 92.258%\t   Reshape\tReshape_1\n",
      "489224.004 4096.000 4096.000\t  0.772%\t 93.031%\t    MatMul\tMatMul\n",
      "493320.004 4096.000 4096.000\t  0.772%\t 93.803%\t       Add\tadd_2\n",
      "497416.004 4096.000 4096.000\t  0.772%\t 94.575%\t      Relu\tRelu_2\n",
      "501512.004    0.008    0.008\t  0.000%\t 94.575%\t     Shape\tdropout/Shape\n",
      "501512.012 4096.000 4096.000\t  0.772%\t 95.348%\tRandomUniform\tdropout/random_uniform/RandomUniform\n",
      "505608.012 4096.000 4096.000\t  0.772%\t 96.120%\t       Div\tdropout/Div\n",
      "509704.012 4096.000 4096.000\t  0.772%\t 96.893%\t       Mul\tdropout/random_uniform/mul\n",
      "513800.012 4096.000 4096.000\t  0.772%\t 97.665%\t       Add\tdropout/random_uniform\n",
      "517896.012 4096.000 4096.000\t  0.772%\t 98.438%\t       Add\tdropout/add\n",
      "521992.012 4096.000 4096.000\t  0.772%\t 99.210%\t     Floor\tdropout/Floor\n",
      "526088.012 4096.000 4096.000\t  0.772%\t 99.982%\t       Mul\tdropout/mul\n",
      "530184.012   40.000   40.000\t  0.008%\t 99.990%\t    MatMul\tMatMul_1\n",
      "530224.012   40.000   40.000\t  0.008%\t 99.998%\t       Add\tadd_3\n",
      "530264.012    8.000    8.000\t  0.002%\t 99.999%\t    ArgMax\tArgMax\n",
      "530272.012    1.000    1.000\t  0.000%\t 99.999%\t     Equal\tEqual\n",
      "530273.012    4.000    4.000\t  0.001%\t100.000%\t      Cast\tCast_1\n",
      "530277.012    0.008    0.008\t  0.000%\t100.000%\t      Mean\tMean_1\n",
      "1 runs, avg 215.7 ms, 368 nodes defined 53 nodes observed\n",
      "530277.02 avg KB per run.\n",
      "\n",
      "============ Top by memory usage in KB =================\n",
      "  [start]  [first]    [avg]\t     [%] \t  [cdf%] \t      [Op]\t[Name]\n",
      "200712.004100352.000100352.000\t 18.924%\t 18.924%\t      Relu\tRelu\n",
      "    8.004100352.000100352.000\t 18.924%\t 37.849%\t    Conv2D\tConv2D\n",
      "100360.004100352.000100352.000\t 18.924%\t 56.773%\t       Add\tadd\n",
      "376328.00450176.00050176.000\t  9.462%\t 66.236%\t       Add\tadd_1\n",
      "426504.00450176.00050176.000\t  9.462%\t 75.698%\t      Relu\tRelu_1\n",
      "326152.00450176.00050176.000\t  9.462%\t 85.160%\t    Conv2D\tConv2D_1\n",
      "301064.00425088.00025088.000\t  4.731%\t 89.891%\t   MaxPool\tMaxPool\n",
      "476680.00412544.00012544.000\t  2.366%\t 92.257%\t   MaxPool\tMaxPool_1\n",
      "493320.004 4096.000 4096.000\t  0.772%\t 93.029%\t       Add\tadd_2\n",
      "517896.012 4096.000 4096.000\t  0.772%\t 93.802%\t       Add\tdropout/add\n",
      "521992.012 4096.000 4096.000\t  0.772%\t 94.574%\t     Floor\tdropout/Floor\n",
      "526088.012 4096.000 4096.000\t  0.772%\t 95.346%\t       Mul\tdropout/mul\n",
      "489224.004 4096.000 4096.000\t  0.772%\t 96.119%\t    MatMul\tMatMul\n",
      "509704.012 4096.000 4096.000\t  0.772%\t 96.891%\t       Mul\tdropout/random_uniform/mul\n",
      "513800.012 4096.000 4096.000\t  0.772%\t 97.664%\t       Add\tdropout/random_uniform\n",
      "497416.004 4096.000 4096.000\t  0.772%\t 98.436%\t      Relu\tRelu_2\n",
      "501512.012 4096.000 4096.000\t  0.772%\t 99.209%\tRandomUniform\tdropout/random_uniform/RandomUniform\n",
      "505608.012 4096.000 4096.000\t  0.772%\t 99.981%\t       Div\tdropout/Div\n",
      "530184.012   40.000   40.000\t  0.008%\t 99.988%\t    MatMul\tMatMul_1\n",
      "530224.012   40.000   40.000\t  0.008%\t 99.996%\t       Add\tadd_3\n",
      "    0.004    8.000    8.000\t  0.002%\t 99.998%\t    ArgMax\tArgMax_1\n",
      "530264.012    8.000    8.000\t  0.002%\t 99.999%\t    ArgMax\tArgMax\n",
      "530273.012    4.000    4.000\t  0.001%\t100.000%\t      Cast\tCast_1\n",
      "530272.012    1.000    1.000\t  0.000%\t100.000%\t     Equal\tEqual\n",
      "501512.004    0.008    0.008\t  0.000%\t100.000%\t     Shape\tdropout/Shape\n",
      "530277.012    0.008    0.008\t  0.000%\t100.000%\t      Mean\tMean_1\n",
      "    0.000    0.004    0.004\t  0.000%\t100.000%\t       Sub\tdropout/random_uniform/sub\n",
      "    0.000    0.000    0.000\t  0.000%\t100.000%\t  Variable\tVariable_6\n",
      "    0.004    0.000    0.000\t  0.000%\t100.000%\t     Const\tArgMax_1/dimension\n",
      "    0.000    0.000    0.000\t  0.000%\t100.000%\t  Variable\tVariable_3\n",
      "    0.000    0.000    0.000\t  0.000%\t100.000%\t  Variable\tVariable_2\n",
      "    0.004    0.000    0.000\t  0.000%\t100.000%\t   Reshape\tReshape\n",
      "    0.000    0.000    0.000\t  0.000%\t100.000%\t     Const\tdropout/random_uniform/min\n",
      "    0.000    0.000    0.000\t  0.000%\t100.000%\t  Identity\tVariable_3/read\n",
      "    0.004    0.000    0.000\t  0.000%\t100.000%\t     Const\tConst_7\n",
      "    0.000    0.000    0.000\t  0.000%\t100.000%\t  Variable\tVariable_4\n",
      "489224.004    0.000    0.000\t  0.000%\t100.000%\t   Reshape\tReshape_1\n",
      "    0.000    0.000    0.000\t  0.000%\t100.000%\t  Identity\tVariable_7/read\n",
      "    0.000    0.000    0.000\t  0.000%\t100.000%\t  Variable\tVariable_5\n",
      "    0.000    0.000    0.000\t  0.000%\t100.000%\t  Identity\tVariable_5/read\n",
      "    0.000    0.000    0.000\t  0.000%\t100.000%\t     Const\tArgMax/dimension\n",
      "    0.000    0.000    0.000\t  0.000%\t100.000%\t  Identity\tVariable_6/read\n",
      "    0.000    0.000    0.000\t  0.000%\t100.000%\t  Identity\tVariable_1/read\n",
      "    0.000    0.000    0.000\t  0.000%\t100.000%\t  Variable\tVariable\n",
      "    0.000    0.000    0.000\t  0.000%\t100.000%\t     Const\tdropout/random_uniform/max\n",
      "    0.000    0.000    0.000\t  0.000%\t100.000%\t  Variable\tVariable_7\n",
      "    0.000    0.000    0.000\t  0.000%\t100.000%\t  Identity\tVariable_4/read\n",
      "    0.000    0.000    0.000\t  0.000%\t100.000%\t  Identity\tVariable_2/read\n",
      "    0.000    0.000    0.000\t  0.000%\t100.000%\t  Variable\tVariable_1\n",
      "    0.000    0.000    0.000\t  0.000%\t100.000%\t  Identity\tVariable/read\n",
      "    0.000    0.000    0.000\t  0.000%\t100.000%\t     Const\tReshape/shape\n",
      "    0.000    0.000    0.000\t  0.000%\t100.000%\t     Const\tReshape_1/shape\n",
      "    0.000    0.000    0.000\t  0.000%\t100.000%\t          \t_SOURCE\n",
      "\n"
     ]
    }
   ],
   "source": [
    "summarize()"
   ]
  },
  {
   "cell_type": "code",
   "execution_count": 22,
   "metadata": {
    "collapsed": false
   },
   "outputs": [
    {
     "data": {
      "text/plain": [
       "(784,)"
      ]
     },
     "execution_count": 22,
     "metadata": {},
     "output_type": "execute_result"
    }
   ],
   "source": [
    "mnist.train.images[0].shape"
   ]
  },
  {
   "cell_type": "code",
   "execution_count": 23,
   "metadata": {
    "collapsed": false
   },
   "outputs": [
    {
     "data": {
      "text/plain": [
       "784000"
      ]
     },
     "execution_count": 23,
     "metadata": {},
     "output_type": "execute_result"
    }
   ],
   "source": [
    "784*1000"
   ]
  },
  {
   "cell_type": "code",
   "execution_count": 53,
   "metadata": {
    "collapsed": false
   },
   "outputs": [
    {
     "data": {
      "text/plain": [
       "TensorShape([Dimension(None), Dimension(28), Dimension(28), Dimension(32)])"
      ]
     },
     "execution_count": 53,
     "metadata": {},
     "output_type": "execute_result"
    }
   ],
   "source": [
    "h_conv1.get_shape()"
   ]
  },
  {
   "cell_type": "code",
   "execution_count": 55,
   "metadata": {
    "collapsed": false
   },
   "outputs": [
    {
     "data": {
      "text/plain": [
       "100352000"
      ]
     },
     "execution_count": 55,
     "metadata": {},
     "output_type": "execute_result"
    }
   ],
   "source": [
    "1000*28*28*32*4"
   ]
  },
  {
   "cell_type": "code",
   "execution_count": null,
   "metadata": {
    "collapsed": true
   },
   "outputs": [],
   "source": []
  }
 ],
 "metadata": {
  "kernelspec": {
   "display_name": "Python 3",
   "language": "python",
   "name": "python3"
  },
  "language_info": {
   "codemirror_mode": {
    "name": "ipython",
    "version": 3
   },
   "file_extension": ".py",
   "mimetype": "text/x-python",
   "name": "python",
   "nbconvert_exporter": "python",
   "pygments_lexer": "ipython3",
   "version": "3.5.2"
  }
 },
 "nbformat": 4,
 "nbformat_minor": 2
}
